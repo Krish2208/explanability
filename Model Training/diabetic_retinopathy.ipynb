{
 "cells": [
  {
   "cell_type": "code",
   "execution_count": 1,
   "metadata": {},
   "outputs": [],
   "source": [
    "import autosklearn.classification\n",
    "from sklearn.model_selection import train_test_split\n",
    "import pandas as pd\n",
    "import numpy as np\n",
    "import sklearn.metrics"
   ]
  },
  {
   "cell_type": "code",
   "execution_count": 8,
   "metadata": {},
   "outputs": [],
   "source": [
    "dataset = pd.read_table('../Datasets/Diabetic Retinopathy/messidor_features.arff', sep=',', index_col=False, header=None)"
   ]
  },
  {
   "cell_type": "code",
   "execution_count": 9,
   "metadata": {},
   "outputs": [],
   "source": [
    "X, y = dataset.iloc[:, :-1], dataset.iloc[:, -1]\n",
    "X_train, X_test, y_train, y_test = train_test_split(X, y, random_state=42, stratify=y)"
   ]
  },
  {
   "attachments": {},
   "cell_type": "markdown",
   "metadata": {},
   "source": [
    "# AUTOML"
   ]
  },
  {
   "cell_type": "code",
   "execution_count": 11,
   "metadata": {},
   "outputs": [],
   "source": [
    "automl = autosklearn.classification.AutoSklearnClassifier()\n",
    "automl.fit(X_train, y_train)\n",
    "y_hat = automl.predict(X_test)"
   ]
  },
  {
   "cell_type": "code",
   "execution_count": 12,
   "metadata": {},
   "outputs": [
    {
     "data": {
      "text/plain": [
       "0.7569444444444444"
      ]
     },
     "execution_count": 12,
     "metadata": {},
     "output_type": "execute_result"
    }
   ],
   "source": [
    "sklearn.metrics.accuracy_score(y_test, y_hat)"
   ]
  },
  {
   "cell_type": "code",
   "execution_count": 13,
   "metadata": {},
   "outputs": [],
   "source": [
    "import pickle\n",
    "with open('./models/diabetic_retinopathy_automl.pkl', 'wb') as f:\n",
    "    pickle.dump(automl, f)"
   ]
  },
  {
   "cell_type": "code",
   "execution_count": 4,
   "metadata": {},
   "outputs": [
    {
     "data": {
      "text/plain": [
       "{58: {'model_id': 58,\n",
       "  'rank': 1,\n",
       "  'cost': 0.19649122807017538,\n",
       "  'ensemble_weight': 0.08,\n",
       "  'data_preprocessor': <autosklearn.pipeline.components.data_preprocessing.DataPreprocessorChoice at 0x7f2b737ab050>,\n",
       "  'balancing': Balancing(random_state=1),\n",
       "  'feature_preprocessor': <autosklearn.pipeline.components.feature_preprocessing.FeaturePreprocessorChoice at 0x7f2b7377c850>,\n",
       "  'classifier': <autosklearn.pipeline.components.classification.ClassifierChoice at 0x7f2b736cc550>,\n",
       "  'sklearn_classifier': MLPClassifier(activation='tanh', alpha=0.009705401196191985, beta_1=0.999,\n",
       "                beta_2=0.9, hidden_layer_sizes=(112, 112),\n",
       "                learning_rate_init=0.0006546373019923048, max_iter=256,\n",
       "                n_iter_no_change=32, random_state=1, validation_fraction=0.0,\n",
       "                verbose=0, warm_start=True)},\n",
       " 69: {'model_id': 69,\n",
       "  'rank': 2,\n",
       "  'cost': 0.19649122807017538,\n",
       "  'ensemble_weight': 0.02,\n",
       "  'data_preprocessor': <autosklearn.pipeline.components.data_preprocessing.DataPreprocessorChoice at 0x7f2b732b2f50>,\n",
       "  'balancing': Balancing(random_state=1),\n",
       "  'feature_preprocessor': <autosklearn.pipeline.components.feature_preprocessing.FeaturePreprocessorChoice at 0x7f2b72fdc950>,\n",
       "  'classifier': <autosklearn.pipeline.components.classification.ClassifierChoice at 0x7f2b72fab350>,\n",
       "  'sklearn_classifier': MLPClassifier(activation='tanh', alpha=0.006633203432031281, beta_1=0.999,\n",
       "                beta_2=0.9, hidden_layer_sizes=(75, 75),\n",
       "                learning_rate_init=0.00029012118203216604, max_iter=256,\n",
       "                n_iter_no_change=32, random_state=1, validation_fraction=0.0,\n",
       "                verbose=0, warm_start=True)},\n",
       " 168: {'model_id': 168,\n",
       "  'rank': 3,\n",
       "  'cost': 0.20350877192982453,\n",
       "  'ensemble_weight': 0.02,\n",
       "  'data_preprocessor': <autosklearn.pipeline.components.data_preprocessing.DataPreprocessorChoice at 0x7f2b72b7ff50>,\n",
       "  'balancing': Balancing(random_state=1),\n",
       "  'feature_preprocessor': <autosklearn.pipeline.components.feature_preprocessing.FeaturePreprocessorChoice at 0x7f2b72ae7950>,\n",
       "  'classifier': <autosklearn.pipeline.components.classification.ClassifierChoice at 0x7f2b72ab5350>,\n",
       "  'sklearn_classifier': MLPClassifier(activation='tanh', alpha=0.0015737223086486514, beta_1=0.999,\n",
       "                beta_2=0.9, hidden_layer_sizes=(82, 82),\n",
       "                learning_rate_init=0.0002618557357191405, max_iter=256,\n",
       "                n_iter_no_change=32, random_state=1, validation_fraction=0.0,\n",
       "                verbose=0, warm_start=True)},\n",
       " 176: {'model_id': 176,\n",
       "  'rank': 4,\n",
       "  'cost': 0.18947368421052635,\n",
       "  'ensemble_weight': 0.04,\n",
       "  'data_preprocessor': <autosklearn.pipeline.components.data_preprocessing.DataPreprocessorChoice at 0x7f2b7236a3d0>,\n",
       "  'balancing': Balancing(random_state=1),\n",
       "  'feature_preprocessor': <autosklearn.pipeline.components.feature_preprocessing.FeaturePreprocessorChoice at 0x7f2b72329d90>,\n",
       "  'classifier': <autosklearn.pipeline.components.classification.ClassifierChoice at 0x7f2b722fc790>,\n",
       "  'sklearn_classifier': MLPClassifier(activation='tanh', alpha=0.009255252601476988, beta_1=0.999,\n",
       "                beta_2=0.9, hidden_layer_sizes=(87, 87),\n",
       "                learning_rate_init=0.00029012118203216604, max_iter=256,\n",
       "                n_iter_no_change=32, random_state=1, validation_fraction=0.0,\n",
       "                verbose=0, warm_start=True)},\n",
       " 181: {'model_id': 181,\n",
       "  'rank': 5,\n",
       "  'cost': 0.18947368421052635,\n",
       "  'ensemble_weight': 0.22,\n",
       "  'data_preprocessor': <autosklearn.pipeline.components.data_preprocessing.DataPreprocessorChoice at 0x7f2b71bf63d0>,\n",
       "  'balancing': Balancing(random_state=1),\n",
       "  'feature_preprocessor': <autosklearn.pipeline.components.feature_preprocessing.FeaturePreprocessorChoice at 0x7f2b71bb6d90>,\n",
       "  'classifier': <autosklearn.pipeline.components.classification.ClassifierChoice at 0x7f2b71b06750>,\n",
       "  'sklearn_classifier': MLPClassifier(activation='tanh', alpha=0.0966366127931945, beta_1=0.999,\n",
       "                beta_2=0.9, hidden_layer_sizes=(35, 35, 35),\n",
       "                learning_rate_init=0.0002657555169622281, max_iter=256,\n",
       "                n_iter_no_change=32, random_state=1, validation_fraction=0.0,\n",
       "                verbose=0, warm_start=True)},\n",
       " 183: {'model_id': 183,\n",
       "  'rank': 6,\n",
       "  'cost': 0.19298245614035092,\n",
       "  'ensemble_weight': 0.02,\n",
       "  'data_preprocessor': <autosklearn.pipeline.components.data_preprocessing.DataPreprocessorChoice at 0x7f2b716a4690>,\n",
       "  'balancing': Balancing(random_state=1),\n",
       "  'feature_preprocessor': <autosklearn.pipeline.components.feature_preprocessing.FeaturePreprocessorChoice at 0x7f2b713ce090>,\n",
       "  'classifier': <autosklearn.pipeline.components.classification.ClassifierChoice at 0x7f2b71393a10>,\n",
       "  'sklearn_classifier': MLPClassifier(activation='tanh', alpha=0.0076801218822554855, beta_1=0.999,\n",
       "                beta_2=0.9, hidden_layer_sizes=(75, 75),\n",
       "                learning_rate_init=0.00023931052631169918, max_iter=256,\n",
       "                n_iter_no_change=32, random_state=1, validation_fraction=0.0,\n",
       "                verbose=0, warm_start=True)},\n",
       " 184: {'model_id': 184,\n",
       "  'rank': 7,\n",
       "  'cost': 0.19649122807017538,\n",
       "  'ensemble_weight': 0.02,\n",
       "  'data_preprocessor': <autosklearn.pipeline.components.data_preprocessing.DataPreprocessorChoice at 0x7f2b70f6f690>,\n",
       "  'balancing': Balancing(random_state=1, strategy='weighting'),\n",
       "  'feature_preprocessor': <autosklearn.pipeline.components.feature_preprocessing.FeaturePreprocessorChoice at 0x7f2b70edc090>,\n",
       "  'classifier': <autosklearn.pipeline.components.classification.ClassifierChoice at 0x7f2b70ea0b10>,\n",
       "  'sklearn_classifier': MLPClassifier(activation='tanh', alpha=0.0062027901859070984, beta_1=0.999,\n",
       "                beta_2=0.9, hidden_layer_sizes=(87, 87),\n",
       "                learning_rate_init=0.0002697392209702725, max_iter=256,\n",
       "                n_iter_no_change=32, random_state=1, validation_fraction=0.0,\n",
       "                verbose=0, warm_start=True)},\n",
       " 188: {'model_id': 188,\n",
       "  'rank': 8,\n",
       "  'cost': 0.19298245614035092,\n",
       "  'ensemble_weight': 0.04,\n",
       "  'data_preprocessor': <autosklearn.pipeline.components.data_preprocessing.DataPreprocessorChoice at 0x7f2b70a7b710>,\n",
       "  'balancing': Balancing(random_state=1),\n",
       "  'feature_preprocessor': <autosklearn.pipeline.components.feature_preprocessing.FeaturePreprocessorChoice at 0x7f2b707a7110>,\n",
       "  'classifier': <autosklearn.pipeline.components.classification.ClassifierChoice at 0x7f2b7076ba90>,\n",
       "  'sklearn_classifier': MLPClassifier(activation='tanh', alpha=2.1871891623786664e-06, beta_1=0.999,\n",
       "                beta_2=0.9, hidden_layer_sizes=(77, 77),\n",
       "                learning_rate_init=0.0002824430625535847, max_iter=256,\n",
       "                n_iter_no_change=32, random_state=1, validation_fraction=0.0,\n",
       "                verbose=0, warm_start=True)},\n",
       " 194: {'model_id': 194,\n",
       "  'rank': 9,\n",
       "  'cost': 0.2070175438596491,\n",
       "  'ensemble_weight': 0.06,\n",
       "  'data_preprocessor': <autosklearn.pipeline.components.data_preprocessing.DataPreprocessorChoice at 0x7f2b70288710>,\n",
       "  'balancing': Balancing(random_state=1, strategy='weighting'),\n",
       "  'feature_preprocessor': <autosklearn.pipeline.components.feature_preprocessing.FeaturePreprocessorChoice at 0x7f2b6fff4110>,\n",
       "  'classifier': <autosklearn.pipeline.components.classification.ClassifierChoice at 0x7f2b6ffbbc50>,\n",
       "  'sklearn_classifier': MLPClassifier(activation='tanh', alpha=0.003360773733893039, beta_1=0.999,\n",
       "                beta_2=0.9, hidden_layer_sizes=(81, 81),\n",
       "                learning_rate_init=0.000280295461716108, max_iter=256,\n",
       "                n_iter_no_change=32, random_state=1, validation_fraction=0.0,\n",
       "                verbose=0, warm_start=True)},\n",
       " 198: {'model_id': 198,\n",
       "  'rank': 10,\n",
       "  'cost': 0.20350877192982453,\n",
       "  'ensemble_weight': 0.02,\n",
       "  'data_preprocessor': <autosklearn.pipeline.components.data_preprocessing.DataPreprocessorChoice at 0x7f2b6fad7850>,\n",
       "  'balancing': Balancing(random_state=1),\n",
       "  'feature_preprocessor': <autosklearn.pipeline.components.feature_preprocessing.FeaturePreprocessorChoice at 0x7f2b6fa44250>,\n",
       "  'classifier': <autosklearn.pipeline.components.classification.ClassifierChoice at 0x7f2b6f7c9c50>,\n",
       "  'sklearn_classifier': MLPClassifier(activation='tanh', alpha=0.006427588973611739, beta_1=0.999,\n",
       "                beta_2=0.9, hidden_layer_sizes=(67, 67),\n",
       "                learning_rate_init=0.0002478546162624194, max_iter=256,\n",
       "                n_iter_no_change=32, random_state=1, validation_fraction=0.0,\n",
       "                verbose=0, warm_start=True)},\n",
       " 211: {'model_id': 211,\n",
       "  'rank': 11,\n",
       "  'cost': 0.19649122807017538,\n",
       "  'ensemble_weight': 0.04,\n",
       "  'data_preprocessor': <autosklearn.pipeline.components.data_preprocessing.DataPreprocessorChoice at 0x7f2b6f3a0890>,\n",
       "  'balancing': Balancing(random_state=1),\n",
       "  'feature_preprocessor': <autosklearn.pipeline.components.feature_preprocessing.FeaturePreprocessorChoice at 0x7f2b6f311290>,\n",
       "  'classifier': <autosklearn.pipeline.components.classification.ClassifierChoice at 0x7f2b6f2d7c50>,\n",
       "  'sklearn_classifier': MLPClassifier(activation='tanh', alpha=0.008328281333523927, beta_1=0.999,\n",
       "                beta_2=0.9, hidden_layer_sizes=(77, 77),\n",
       "                learning_rate_init=0.0002404052283747178, max_iter=256,\n",
       "                n_iter_no_change=32, random_state=1, validation_fraction=0.0,\n",
       "                verbose=0, warm_start=True)},\n",
       " 216: {'model_id': 216,\n",
       "  'rank': 12,\n",
       "  'cost': 0.2070175438596491,\n",
       "  'ensemble_weight': 0.02,\n",
       "  'data_preprocessor': <autosklearn.pipeline.components.data_preprocessing.DataPreprocessorChoice at 0x7f2b6ee6e890>,\n",
       "  'balancing': Balancing(random_state=1),\n",
       "  'feature_preprocessor': <autosklearn.pipeline.components.feature_preprocessing.FeaturePreprocessorChoice at 0x7f2b6eb9e290>,\n",
       "  'classifier': <autosklearn.pipeline.components.classification.ClassifierChoice at 0x7f2b6eb63e90>,\n",
       "  'sklearn_classifier': MLPClassifier(activation='tanh', alpha=0.0075561977861766955, beta_1=0.999,\n",
       "                beta_2=0.9, hidden_layer_sizes=(77, 77),\n",
       "                learning_rate_init=0.0002872320588034746, max_iter=256,\n",
       "                n_iter_no_change=32, random_state=1, validation_fraction=0.0,\n",
       "                verbose=0, warm_start=True)},\n",
       " 217: {'model_id': 217,\n",
       "  'rank': 13,\n",
       "  'cost': 0.19649122807017538,\n",
       "  'ensemble_weight': 0.02,\n",
       "  'data_preprocessor': <autosklearn.pipeline.components.data_preprocessing.DataPreprocessorChoice at 0x7f2b6e6fbad0>,\n",
       "  'balancing': Balancing(random_state=1),\n",
       "  'feature_preprocessor': <autosklearn.pipeline.components.feature_preprocessing.FeaturePreprocessorChoice at 0x7f2b6e6694d0>,\n",
       "  'classifier': <autosklearn.pipeline.components.classification.ClassifierChoice at 0x7f2b6e3f4110>,\n",
       "  'sklearn_classifier': MLPClassifier(activation='tanh', alpha=0.009711863047185272, beta_1=0.999,\n",
       "                beta_2=0.9, hidden_layer_sizes=(85, 85, 85),\n",
       "                learning_rate_init=0.00023008529954087362, max_iter=256,\n",
       "                n_iter_no_change=32, random_state=1, validation_fraction=0.0,\n",
       "                verbose=0, warm_start=True)},\n",
       " 250: {'model_id': 250,\n",
       "  'rank': 14,\n",
       "  'cost': 0.20350877192982453,\n",
       "  'ensemble_weight': 0.02,\n",
       "  'data_preprocessor': <autosklearn.pipeline.components.data_preprocessing.DataPreprocessorChoice at 0x7f2b6df47fd0>,\n",
       "  'balancing': Balancing(random_state=1, strategy='weighting'),\n",
       "  'feature_preprocessor': <autosklearn.pipeline.components.feature_preprocessing.FeaturePreprocessorChoice at 0x7f2b6df2d9d0>,\n",
       "  'classifier': <autosklearn.pipeline.components.classification.ClassifierChoice at 0x7f2b6de82690>,\n",
       "  'sklearn_classifier': MLPClassifier(activation='tanh', alpha=0.0012653291143244754, beta_1=0.999,\n",
       "                beta_2=0.9, hidden_layer_sizes=(56, 56, 56),\n",
       "                learning_rate_init=0.00024153234623673717, max_iter=256,\n",
       "                n_iter_no_change=32, random_state=1, validation_fraction=0.0,\n",
       "                verbose=0, warm_start=True)},\n",
       " 253: {'model_id': 253,\n",
       "  'rank': 15,\n",
       "  'cost': 0.19649122807017538,\n",
       "  'ensemble_weight': 0.02,\n",
       "  'data_preprocessor': <autosklearn.pipeline.components.data_preprocessing.DataPreprocessorChoice at 0x7f2b6da6e590>,\n",
       "  'balancing': Balancing(random_state=1),\n",
       "  'feature_preprocessor': <autosklearn.pipeline.components.feature_preprocessing.FeaturePreprocessorChoice at 0x7f2b6d7fbf50>,\n",
       "  'classifier': <autosklearn.pipeline.components.classification.ClassifierChoice at 0x7f2b6d74e910>,\n",
       "  'sklearn_classifier': MLPClassifier(activation='tanh', alpha=0.0019067970535165575, beta_1=0.999,\n",
       "                beta_2=0.9, hidden_layer_sizes=(83, 83),\n",
       "                learning_rate_init=0.00023951900151388388, max_iter=256,\n",
       "                n_iter_no_change=32, random_state=1, validation_fraction=0.0,\n",
       "                verbose=0, warm_start=True)},\n",
       " 254: {'model_id': 254,\n",
       "  'rank': 16,\n",
       "  'cost': 0.20350877192982453,\n",
       "  'ensemble_weight': 0.04,\n",
       "  'data_preprocessor': <autosklearn.pipeline.components.data_preprocessing.DataPreprocessorChoice at 0x7f2b6d33c590>,\n",
       "  'balancing': Balancing(random_state=1),\n",
       "  'feature_preprocessor': <autosklearn.pipeline.components.feature_preprocessing.FeaturePreprocessorChoice at 0x7f2b6d286f50>,\n",
       "  'classifier': <autosklearn.pipeline.components.classification.ClassifierChoice at 0x7f2b6d259910>,\n",
       "  'sklearn_classifier': MLPClassifier(activation='tanh', alpha=0.0044989686760918916, beta_1=0.999,\n",
       "                beta_2=0.9, hidden_layer_sizes=(92, 92),\n",
       "                learning_rate_init=0.0002566674391391074, max_iter=256,\n",
       "                n_iter_no_change=32, random_state=1, validation_fraction=0.0,\n",
       "                verbose=0, warm_start=True)},\n",
       " 260: {'model_id': 260,\n",
       "  'rank': 17,\n",
       "  'cost': 0.18596491228070178,\n",
       "  'ensemble_weight': 0.02,\n",
       "  'data_preprocessor': <autosklearn.pipeline.components.data_preprocessing.DataPreprocessorChoice at 0x7f2b6cc05590>,\n",
       "  'balancing': Balancing(random_state=1, strategy='weighting'),\n",
       "  'feature_preprocessor': <autosklearn.pipeline.components.feature_preprocessing.FeaturePreprocessorChoice at 0x7f2b6cbd0f50>,\n",
       "  'classifier': <autosklearn.pipeline.components.classification.ClassifierChoice at 0x7f2b6cba59d0>,\n",
       "  'sklearn_classifier': MLPClassifier(activation='tanh', alpha=0.00034525417170483495, beta_1=0.999,\n",
       "                beta_2=0.9, hidden_layer_sizes=(85, 85),\n",
       "                learning_rate_init=0.0002829265628739478, max_iter=256,\n",
       "                n_iter_no_change=32, random_state=1, validation_fraction=0.0,\n",
       "                verbose=0, warm_start=True)},\n",
       " 270: {'model_id': 270,\n",
       "  'rank': 18,\n",
       "  'cost': 0.19649122807017538,\n",
       "  'ensemble_weight': 0.04,\n",
       "  'data_preprocessor': <autosklearn.pipeline.components.data_preprocessing.DataPreprocessorChoice at 0x7f2b6c940610>,\n",
       "  'balancing': Balancing(random_state=1),\n",
       "  'feature_preprocessor': <autosklearn.pipeline.components.feature_preprocessing.FeaturePreprocessorChoice at 0x7f2b6c91bfd0>,\n",
       "  'classifier': <autosklearn.pipeline.components.classification.ClassifierChoice at 0x7f2b6c8f2990>,\n",
       "  'sklearn_classifier': MLPClassifier(activation='tanh', alpha=0.00011223884993956256, beta_1=0.999,\n",
       "                beta_2=0.9, hidden_layer_sizes=(86, 86),\n",
       "                learning_rate_init=0.0002861979331460673, max_iter=256,\n",
       "                n_iter_no_change=32, random_state=1, validation_fraction=0.0,\n",
       "                verbose=0, warm_start=True)},\n",
       " 274: {'model_id': 274,\n",
       "  'rank': 19,\n",
       "  'cost': 0.19999999999999996,\n",
       "  'ensemble_weight': 0.06,\n",
       "  'data_preprocessor': <autosklearn.pipeline.components.data_preprocessing.DataPreprocessorChoice at 0x7f2b6c68e610>,\n",
       "  'balancing': Balancing(random_state=1, strategy='weighting'),\n",
       "  'feature_preprocessor': <autosklearn.pipeline.components.feature_preprocessing.FeaturePreprocessorChoice at 0x7f2b6c667fd0>,\n",
       "  'classifier': <autosklearn.pipeline.components.classification.ClassifierChoice at 0x7f2b6c63da10>,\n",
       "  'sklearn_classifier': MLPClassifier(activation='tanh', alpha=2.006898263936619e-06, beta_1=0.999,\n",
       "                beta_2=0.9, hidden_layer_sizes=(164, 164),\n",
       "                learning_rate_init=0.0007126591874751038, max_iter=128,\n",
       "                n_iter_no_change=32, random_state=1, validation_fraction=0.0,\n",
       "                verbose=0, warm_start=True)},\n",
       " 275: {'model_id': 275,\n",
       "  'rank': 20,\n",
       "  'cost': 0.18947368421052635,\n",
       "  'ensemble_weight': 0.02,\n",
       "  'data_preprocessor': <autosklearn.pipeline.components.data_preprocessing.DataPreprocessorChoice at 0x7f2b6c3cb690>,\n",
       "  'balancing': Balancing(random_state=1),\n",
       "  'feature_preprocessor': <autosklearn.pipeline.components.feature_preprocessing.FeaturePreprocessorChoice at 0x7f2b6c3b9090>,\n",
       "  'classifier': <autosklearn.pipeline.components.classification.ClassifierChoice at 0x7f2b6c2fea50>,\n",
       "  'sklearn_classifier': MLPClassifier(activation='tanh', alpha=6.792268743196123e-07, beta_1=0.999,\n",
       "                beta_2=0.9, hidden_layer_sizes=(85, 85),\n",
       "                learning_rate_init=0.00027013150763671864, max_iter=256,\n",
       "                n_iter_no_change=32, random_state=1, validation_fraction=0.0,\n",
       "                verbose=0, warm_start=True)},\n",
       " 292: {'model_id': 292,\n",
       "  'rank': 21,\n",
       "  'cost': 0.20350877192982453,\n",
       "  'ensemble_weight': 0.02,\n",
       "  'data_preprocessor': <autosklearn.pipeline.components.data_preprocessing.DataPreprocessorChoice at 0x7f2b6c119690>,\n",
       "  'balancing': Balancing(random_state=1),\n",
       "  'feature_preprocessor': <autosklearn.pipeline.components.feature_preprocessing.FeaturePreprocessorChoice at 0x7f2b6c085090>,\n",
       "  'classifier': <autosklearn.pipeline.components.classification.ClassifierChoice at 0x7f2b6c052590>,\n",
       "  'sklearn_classifier': MLPClassifier(activation='tanh', alpha=0.0016593252325056331, beta_1=0.999,\n",
       "                beta_2=0.9, hidden_layer_sizes=(87, 87),\n",
       "                learning_rate_init=0.00027289637566379067, max_iter=256,\n",
       "                n_iter_no_change=32, random_state=1, validation_fraction=0.0,\n",
       "                verbose=0, warm_start=True)},\n",
       " 335: {'model_id': 335,\n",
       "  'rank': 22,\n",
       "  'cost': 0.19298245614035092,\n",
       "  'ensemble_weight': 0.04,\n",
       "  'data_preprocessor': <autosklearn.pipeline.components.data_preprocessing.DataPreprocessorChoice at 0x7f2b6be0b210>,\n",
       "  'balancing': Balancing(random_state=1, strategy='weighting'),\n",
       "  'feature_preprocessor': <autosklearn.pipeline.components.feature_preprocessing.FeaturePreprocessorChoice at 0x7f2b6bdccbd0>,\n",
       "  'classifier': <autosklearn.pipeline.components.classification.ClassifierChoice at 0x7f2b6bd9d650>,\n",
       "  'sklearn_classifier': MLPClassifier(activation='tanh', alpha=0.00041300610475552885, beta_1=0.999,\n",
       "                beta_2=0.9, hidden_layer_sizes=(89, 89),\n",
       "                learning_rate_init=0.00029273925787249054, max_iter=256,\n",
       "                n_iter_no_change=32, random_state=1, validation_fraction=0.0,\n",
       "                verbose=0, warm_start=True)},\n",
       " 337: {'model_id': 337,\n",
       "  'rank': 23,\n",
       "  'cost': 0.2070175438596491,\n",
       "  'ensemble_weight': 0.06,\n",
       "  'data_preprocessor': <autosklearn.pipeline.components.data_preprocessing.DataPreprocessorChoice at 0x7f2b6bb59290>,\n",
       "  'balancing': Balancing(random_state=1),\n",
       "  'feature_preprocessor': <autosklearn.pipeline.components.feature_preprocessing.FeaturePreprocessorChoice at 0x7f2b6bb1ac50>,\n",
       "  'classifier': <autosklearn.pipeline.components.classification.ClassifierChoice at 0x7f2b6bae86d0>,\n",
       "  'sklearn_classifier': MLPClassifier(activation='tanh', alpha=0.006633203432031281, beta_1=0.999,\n",
       "                beta_2=0.9, hidden_layer_sizes=(101, 101),\n",
       "                learning_rate_init=0.00029012118203216604, max_iter=256,\n",
       "                n_iter_no_change=32, random_state=1, validation_fraction=0.0,\n",
       "                verbose=0, warm_start=True)},\n",
       " 375: {'model_id': 375,\n",
       "  'rank': 24,\n",
       "  'cost': 0.2070175438596491,\n",
       "  'ensemble_weight': 0.04,\n",
       "  'data_preprocessor': <autosklearn.pipeline.components.data_preprocessing.DataPreprocessorChoice at 0x7f2b6b8a52d0>,\n",
       "  'balancing': Balancing(random_state=1),\n",
       "  'feature_preprocessor': <autosklearn.pipeline.components.feature_preprocessing.FeaturePreprocessorChoice at 0x7f2b6b865c90>,\n",
       "  'classifier': <autosklearn.pipeline.components.classification.ClassifierChoice at 0x7f2b6b839f90>,\n",
       "  'sklearn_classifier': MLPClassifier(activation='tanh', alpha=0.0730291826296666, beta_1=0.999,\n",
       "                beta_2=0.9, hidden_layer_sizes=(87, 87, 87),\n",
       "                learning_rate_init=0.00025201450856523843, max_iter=128,\n",
       "                n_iter_no_change=32, random_state=1, validation_fraction=0.0,\n",
       "                verbose=0, warm_start=True)}}"
      ]
     },
     "execution_count": 4,
     "metadata": {},
     "output_type": "execute_result"
    }
   ],
   "source": [
    "import pickle\n",
    "with open('./models/diabetic_retinopathy_automl.pkl', 'rb') as f:\n",
    "    automl = pickle.load(f)\n",
    "\n",
    "automl.show_models()"
   ]
  },
  {
   "attachments": {},
   "cell_type": "markdown",
   "metadata": {},
   "source": [
    "# RANDOM FOREST"
   ]
  },
  {
   "cell_type": "code",
   "execution_count": 30,
   "metadata": {},
   "outputs": [],
   "source": [
    "import sklearn.ensemble\n",
    "\n",
    "model = sklearn.ensemble.RandomForestClassifier(n_estimators=100, n_jobs=5, random_state=42)\n",
    "model.fit(X_train, y_train)\n",
    "y_hat = model.predict(X_test)"
   ]
  },
  {
   "cell_type": "code",
   "execution_count": 31,
   "metadata": {},
   "outputs": [
    {
     "data": {
      "text/plain": [
       "0.7083333333333334"
      ]
     },
     "execution_count": 31,
     "metadata": {},
     "output_type": "execute_result"
    }
   ],
   "source": [
    "sklearn.metrics.accuracy_score(y_test, y_hat)"
   ]
  },
  {
   "attachments": {},
   "cell_type": "markdown",
   "metadata": {},
   "source": [
    "# SVC"
   ]
  },
  {
   "cell_type": "code",
   "execution_count": 5,
   "metadata": {},
   "outputs": [
    {
     "name": "stdout",
     "output_type": "stream",
     "text": [
      "Fitting 5 folds for each of 25 candidates, totalling 125 fits\n"
     ]
    },
    {
     "data": {
      "text/plain": [
       "GridSearchCV(cv=5, estimator=SVC(random_state=42), n_jobs=5,\n",
       "             param_grid={'C': [0.1, 1, 10, 100, 1000],\n",
       "                         'gamma': [1, 0.1, 0.01, 0.001, 0.0001]},\n",
       "             verbose=3)"
      ]
     },
     "execution_count": 5,
     "metadata": {},
     "output_type": "execute_result"
    }
   ],
   "source": [
    "import sklearn.svm\n",
    "import sklearn.model_selection\n",
    "\n",
    "model = sklearn.svm.SVC(random_state=42)\n",
    "params = {'C': [0.1, 1, 10, 100, 1000], 'gamma': [1, 0.1, 0.01, 0.001, 0.0001]}\n",
    "gridSearch = sklearn.model_selection.GridSearchCV(model, param_grid=params, cv=5, n_jobs=5, verbose=3)\n",
    "gridSearch.fit(X_train, y_train)"
   ]
  },
  {
   "cell_type": "code",
   "execution_count": 7,
   "metadata": {},
   "outputs": [
    {
     "data": {
      "text/plain": [
       "0.78125"
      ]
     },
     "execution_count": 7,
     "metadata": {},
     "output_type": "execute_result"
    }
   ],
   "source": [
    "y_hat = gridSearch.predict(X_test)\n",
    "sklearn.metrics.accuracy_score(y_test, y_hat)"
   ]
  },
  {
   "cell_type": "code",
   "execution_count": 5,
   "metadata": {},
   "outputs": [
    {
     "name": "stderr",
     "output_type": "stream",
     "text": [
      "/home/krish/anaconda3/envs/interpret/lib/python3.7/site-packages/sklearn/base.py:315: UserWarning: Trying to unpickle estimator SVC from version 1.2.2 when using version 0.24.2. This might lead to breaking code or invalid results. Use at your own risk.\n",
      "  UserWarning)\n",
      "/home/krish/anaconda3/envs/interpret/lib/python3.7/site-packages/sklearn/base.py:315: UserWarning: Trying to unpickle estimator GridSearchCV from version 1.2.2 when using version 0.24.2. This might lead to breaking code or invalid results. Use at your own risk.\n",
      "  UserWarning)\n"
     ]
    }
   ],
   "source": [
    "import pickle\n",
    "with open('./models/diabetic_retinopathy_svc.pkl', 'rb') as f:\n",
    "    model = pickle.load(f)"
   ]
  },
  {
   "cell_type": "code",
   "execution_count": 6,
   "metadata": {},
   "outputs": [],
   "source": [
    "from ciu import determine_ciu\n",
    "import tqdm\n",
    "import metrics"
   ]
  },
  {
   "cell_type": "code",
   "execution_count": 7,
   "metadata": {},
   "outputs": [],
   "source": [
    "def enc_exp(exp, feature_num):\n",
    "    enc_exp = np.zeros((len(exp),feature_num))\n",
    "    for i in range(len(exp)):\n",
    "        for j in range(len(exp[i])):\n",
    "            enc_exp[i][int(exp[i,j,0])] = exp[i,j,1]\n",
    "    return enc_exp"
   ]
  },
  {
   "cell_type": "code",
   "execution_count": 8,
   "metadata": {},
   "outputs": [],
   "source": [
    "feat_list = X_train.columns.tolist()"
   ]
  },
  {
   "cell_type": "code",
   "execution_count": 9,
   "metadata": {},
   "outputs": [],
   "source": [
    "def exp_fn_blk(xtest):\n",
    "    exp1 = []\n",
    "    for i in tqdm.tqdm(range(len(xtest))):\n",
    "        exp = determine_ciu(X_test.iloc[i:i+1], model.predict_proba, X_train.to_dict('list'), samples = 1000, prediction_index = 1)\n",
    "        exp_list = [[feat_list.index(i), exp.ci[i]] for i in exp.ci]\n",
    "        exp1.append(exp_list)\n",
    "    return np.array(exp1)"
   ]
  },
  {
   "cell_type": "code",
   "execution_count": 10,
   "metadata": {},
   "outputs": [
    {
     "name": "stderr",
     "output_type": "stream",
     "text": [
      "100%|██████████| 288/288 [02:47<00:00,  1.72it/s]\n",
      "100%|██████████| 288/288 [02:45<00:00,  1.74it/s]\n"
     ]
    }
   ],
   "source": [
    "exp1 = exp_fn_blk(X_test)\n",
    "exp2 = exp_fn_blk(X_test)"
   ]
  },
  {
   "cell_type": "code",
   "execution_count": 11,
   "metadata": {},
   "outputs": [],
   "source": [
    "np.save('./explanations/diabetic_retinopathy_ciu1.npy', exp1)\n",
    "np.save('./explanations/diabetic_retinopathy_ciu2.npy', exp2)"
   ]
  },
  {
   "cell_type": "code",
   "execution_count": 12,
   "metadata": {},
   "outputs": [
    {
     "name": "stderr",
     "output_type": "stream",
     "text": [
      "/home/krish/anaconda3/envs/interpret/lib/python3.7/site-packages/sklearn/cluster/_kmeans.py:984: RuntimeWarning: Explicit initial center position passed: performing only one init in KMeans instead of n_init=10.\n",
      "  self._check_params(X)\n"
     ]
    }
   ],
   "source": [
    "i = metrics.calc_identity(exp1, exp2)\n",
    "s = metrics.calc_separability(exp1)\n",
    "enc1 = enc_exp(exp1, len(feat_list))\n",
    "sb = metrics.calc_stability(enc1, y_test)"
   ]
  },
  {
   "cell_type": "code",
   "execution_count": 13,
   "metadata": {},
   "outputs": [
    {
     "data": {
      "text/plain": [
       "((100.0, 0, 288), (0, 288, 82944, 0.0), (100, 288))"
      ]
     },
     "execution_count": 13,
     "metadata": {},
     "output_type": "execute_result"
    }
   ],
   "source": [
    "i, s, sb"
   ]
  },
  {
   "cell_type": "code",
   "execution_count": 14,
   "metadata": {},
   "outputs": [],
   "source": [
    "X_test_norm = metrics.normalize_test(X_train, X_test)\n",
    "sim = metrics.calc_similarity(exp1, X_test_norm)"
   ]
  },
  {
   "cell_type": "code",
   "execution_count": 15,
   "metadata": {},
   "outputs": [
    {
     "data": {
      "text/plain": [
       "0.9354092777028931"
      ]
     },
     "execution_count": 15,
     "metadata": {},
     "output_type": "execute_result"
    }
   ],
   "source": [
    "sim"
   ]
  },
  {
   "cell_type": "code",
   "execution_count": 16,
   "metadata": {},
   "outputs": [
    {
     "name": "stderr",
     "output_type": "stream",
     "text": [
      "100%|██████████| 288/288 [00:05<00:00, 57.57it/s]\n"
     ]
    }
   ],
   "source": [
    "list_monotonicity = []\n",
    "list_non_sensitivity = []\n",
    "list_effective_complexity = []\n",
    "\n",
    "for i in tqdm.tqdm(range(len(X_test))):\n",
    "    atr = exp1[i]\n",
    "    sorted_atr = [j for i,j in atr]\n",
    "    sorted_feat = [i for i,j in atr]\n",
    "    y = np.zeros(2, dtype=int)\n",
    "    np.put(y, y_test.iloc[i], 1)\n",
    "    example = metrics.FeatureAttribution(model, X_test.to_numpy()[i], y, sorted_atr)\n",
    "    list_monotonicity.append(example.monotonicity())\n",
    "    list_non_sensitivity.append(example.non_sensitivity())\n",
    "    list_effective_complexity.append(example.effective_complexity(sorted_feat, 0.1))"
   ]
  },
  {
   "cell_type": "code",
   "execution_count": 17,
   "metadata": {},
   "outputs": [
    {
     "name": "stdout",
     "output_type": "stream",
     "text": [
      "-0.053547315878390976\n",
      "0.013888888888888888\n",
      "5.461805555555555\n",
      "-0.08596491228070176\n",
      "0.0\n",
      "4.0\n"
     ]
    }
   ],
   "source": [
    "print(np.mean(list_monotonicity))\n",
    "print(np.mean(list_non_sensitivity))\n",
    "print(np.mean(list_effective_complexity))\n",
    "\n",
    "print(np.median(list_monotonicity))\n",
    "print(np.median(list_non_sensitivity))\n",
    "print(np.median(list_effective_complexity))"
   ]
  },
  {
   "cell_type": "code",
   "execution_count": 18,
   "metadata": {},
   "outputs": [
    {
     "name": "stderr",
     "output_type": "stream",
     "text": [
      "100%|██████████| 288/288 [00:03<00:00, 80.92it/s]\n"
     ]
    },
    {
     "data": {
      "text/plain": [
       "0.3385416666666667"
      ]
     },
     "execution_count": 18,
     "metadata": {},
     "output_type": "execute_result"
    }
   ],
   "source": [
    "metrics.calc_trust_score(model, X_test.to_numpy(), exp1, 3, X_train.columns.to_list())"
   ]
  },
  {
   "attachments": {},
   "cell_type": "markdown",
   "metadata": {},
   "source": [
    "# RULEFIT"
   ]
  },
  {
   "cell_type": "code",
   "execution_count": 4,
   "metadata": {},
   "outputs": [],
   "source": [
    "from skrules import SkopeRules\n",
    "import metrics_rules\n",
    "import time"
   ]
  },
  {
   "cell_type": "code",
   "execution_count": 11,
   "metadata": {},
   "outputs": [],
   "source": [
    "# change dataset column names to x0, x1, x2, ...\n",
    "X_train.columns = ['x'+str(i) for i in range(len(X_train.columns))]\n",
    "X_test.columns = ['x'+str(i) for i in range(len(X_test.columns))]"
   ]
  },
  {
   "cell_type": "code",
   "execution_count": 12,
   "metadata": {},
   "outputs": [],
   "source": [
    "clf = SkopeRules(max_depth_duplication=2,\n",
    "                    n_estimators=512,\n",
    "                    precision_min=0.3,\n",
    "                    recall_min=0.1,\n",
    "                    feature_names=X_train.columns.tolist())"
   ]
  },
  {
   "cell_type": "code",
   "execution_count": 13,
   "metadata": {},
   "outputs": [
    {
     "name": "stdout",
     "output_type": "stream",
     "text": [
      "--- 20.400280237197876 seconds ---\n"
     ]
    }
   ],
   "source": [
    "start_time = time.time()\n",
    "clf.fit(X_train, y_train)\n",
    "print(\"--- %s seconds ---\" % (time.time() - start_time))"
   ]
  },
  {
   "cell_type": "code",
   "execution_count": 14,
   "metadata": {},
   "outputs": [
    {
     "name": "stdout",
     "output_type": "stream",
     "text": [
      "--- 0.07584309577941895 seconds ---\n"
     ]
    }
   ],
   "source": [
    "start_time = time.time()\n",
    "top_rules1 = clf.score_top_rules(X_test)\n",
    "top_rules2 = clf.score_top_rules(X_test)\n",
    "print(\"--- %s seconds ---\" % (time.time() - start_time))"
   ]
  },
  {
   "cell_type": "code",
   "execution_count": 15,
   "metadata": {},
   "outputs": [
    {
     "name": "stdout",
     "output_type": "stream",
     "text": [
      "(0.0, 288, 288)\n",
      "(30466, 288, 82944, 36.730806327160494)\n",
      "(109, 288)\n"
     ]
    },
    {
     "name": "stderr",
     "output_type": "stream",
     "text": [
      "/home/krish/anaconda3/envs/interpret/lib/python3.7/site-packages/sklearn/cluster/_kmeans.py:984: RuntimeWarning: Explicit initial center position passed: performing only one init in KMeans instead of n_init=10.\n",
      "  self._check_params(X)\n"
     ]
    }
   ],
   "source": [
    "i = metrics_rules.calc_identity_rules(top_rules1, top_rules2)\n",
    "print(i)\n",
    "\n",
    "s = metrics_rules.calc_separability_rules(top_rules1)\n",
    "print(s)\n",
    "\n",
    "enc_rules = metrics_rules.exp_enc(clf, top_rules1)\n",
    "sb = metrics_rules.calc_stability_rules(enc_rules, y_test)\n",
    "print(sb)"
   ]
  },
  {
   "cell_type": "code",
   "execution_count": 16,
   "metadata": {},
   "outputs": [
    {
     "name": "stdout",
     "output_type": "stream",
     "text": [
      "0.8747086026218248\n"
     ]
    }
   ],
   "source": [
    "X_test_norm = metrics_rules.normalize_test(X_train, X_test)\n",
    "sim = metrics_rules.calc_similarity(enc_rules, X_test_norm)\n",
    "print(sim)"
   ]
  },
  {
   "cell_type": "code",
   "execution_count": null,
   "metadata": {},
   "outputs": [],
   "source": []
  }
 ],
 "metadata": {
  "kernelspec": {
   "display_name": "interpret",
   "language": "python",
   "name": "python3"
  },
  "language_info": {
   "codemirror_mode": {
    "name": "ipython",
    "version": 3
   },
   "file_extension": ".py",
   "mimetype": "text/x-python",
   "name": "python",
   "nbconvert_exporter": "python",
   "pygments_lexer": "ipython3",
   "version": "3.7.16"
  },
  "orig_nbformat": 4
 },
 "nbformat": 4,
 "nbformat_minor": 2
}
