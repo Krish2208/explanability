{
 "cells": [
  {
   "cell_type": "code",
   "execution_count": 1,
   "metadata": {},
   "outputs": [],
   "source": [
    "import autosklearn.classification\n",
    "from sklearn.model_selection import train_test_split\n",
    "import pandas as pd\n",
    "import numpy as np\n",
    "import sklearn.metrics"
   ]
  },
  {
   "cell_type": "code",
   "execution_count": 2,
   "metadata": {},
   "outputs": [],
   "source": [
    "dataset = pd.read_table('../Datasets/Diabetic Retinopathy/messidor_features.arff', sep=',', index_col=False, header=None)"
   ]
  },
  {
   "cell_type": "code",
   "execution_count": 3,
   "metadata": {},
   "outputs": [],
   "source": [
    "X, y = dataset.iloc[:, :-1], dataset.iloc[:, -1]\n",
    "X_train, X_test, y_train, y_test = train_test_split(X, y, random_state=42, stratify=y)"
   ]
  },
  {
   "attachments": {},
   "cell_type": "markdown",
   "metadata": {},
   "source": [
    "# AUTOML"
   ]
  },
  {
   "cell_type": "code",
   "execution_count": 11,
   "metadata": {},
   "outputs": [],
   "source": [
    "automl = autosklearn.classification.AutoSklearnClassifier()\n",
    "automl.fit(X_train, y_train)\n",
    "y_hat = automl.predict(X_test)"
   ]
  },
  {
   "cell_type": "code",
   "execution_count": 12,
   "metadata": {},
   "outputs": [
    {
     "data": {
      "text/plain": [
       "0.7569444444444444"
      ]
     },
     "execution_count": 12,
     "metadata": {},
     "output_type": "execute_result"
    }
   ],
   "source": [
    "sklearn.metrics.accuracy_score(y_test, y_hat)"
   ]
  },
  {
   "cell_type": "code",
   "execution_count": 13,
   "metadata": {},
   "outputs": [],
   "source": [
    "import pickle\n",
    "with open('./models/diabetic_retinopathy_automl.pkl', 'wb') as f:\n",
    "    pickle.dump(automl, f)"
   ]
  },
  {
   "cell_type": "code",
   "execution_count": 1,
   "metadata": {},
   "outputs": [
    {
     "data": {
      "text/plain": [
       "{58: {'model_id': 58,\n",
       "  'rank': 1,\n",
       "  'cost': 0.19649122807017538,\n",
       "  'ensemble_weight': 0.08,\n",
       "  'data_preprocessor': <autosklearn.pipeline.components.data_preprocessing.DataPreprocessorChoice at 0x7f667a0a6a50>,\n",
       "  'balancing': Balancing(random_state=1),\n",
       "  'feature_preprocessor': <autosklearn.pipeline.components.feature_preprocessing.FeaturePreprocessorChoice at 0x7f6679dc08d0>,\n",
       "  'classifier': <autosklearn.pipeline.components.classification.ClassifierChoice at 0x7f6679d945d0>,\n",
       "  'sklearn_classifier': MLPClassifier(activation='tanh', alpha=0.009705401196191985, beta_1=0.999,\n",
       "                beta_2=0.9, hidden_layer_sizes=(112, 112),\n",
       "                learning_rate_init=0.0006546373019923048, max_iter=256,\n",
       "                n_iter_no_change=32, random_state=1, validation_fraction=0.0,\n",
       "                verbose=0, warm_start=True)},\n",
       " 69: {'model_id': 69,\n",
       "  'rank': 2,\n",
       "  'cost': 0.19649122807017538,\n",
       "  'ensemble_weight': 0.02,\n",
       "  'data_preprocessor': <autosklearn.pipeline.components.data_preprocessing.DataPreprocessorChoice at 0x7f6679921090>,\n",
       "  'balancing': Balancing(random_state=1),\n",
       "  'feature_preprocessor': <autosklearn.pipeline.components.feature_preprocessing.FeaturePreprocessorChoice at 0x7f66798e0a50>,\n",
       "  'classifier': <autosklearn.pipeline.components.classification.ClassifierChoice at 0x7f66798b2450>,\n",
       "  'sklearn_classifier': MLPClassifier(activation='tanh', alpha=0.006633203432031281, beta_1=0.999,\n",
       "                beta_2=0.9, hidden_layer_sizes=(75, 75),\n",
       "                learning_rate_init=0.00029012118203216604, max_iter=256,\n",
       "                n_iter_no_change=32, random_state=1, validation_fraction=0.0,\n",
       "                verbose=0, warm_start=True)},\n",
       " 168: {'model_id': 168,\n",
       "  'rank': 3,\n",
       "  'cost': 0.20350877192982453,\n",
       "  'ensemble_weight': 0.02,\n",
       "  'data_preprocessor': <autosklearn.pipeline.components.data_preprocessing.DataPreprocessorChoice at 0x7f66791ec090>,\n",
       "  'balancing': Balancing(random_state=1),\n",
       "  'feature_preprocessor': <autosklearn.pipeline.components.feature_preprocessing.FeaturePreprocessorChoice at 0x7f66791afa50>,\n",
       "  'classifier': <autosklearn.pipeline.components.classification.ClassifierChoice at 0x7f667917f450>,\n",
       "  'sklearn_classifier': MLPClassifier(activation='tanh', alpha=0.0015737223086486514, beta_1=0.999,\n",
       "                beta_2=0.9, hidden_layer_sizes=(82, 82),\n",
       "                learning_rate_init=0.0002618557357191405, max_iter=256,\n",
       "                n_iter_no_change=32, random_state=1, validation_fraction=0.0,\n",
       "                verbose=0, warm_start=True)},\n",
       " 176: {'model_id': 176,\n",
       "  'rank': 4,\n",
       "  'cost': 0.18947368421052635,\n",
       "  'ensemble_weight': 0.04,\n",
       "  'data_preprocessor': <autosklearn.pipeline.components.data_preprocessing.DataPreprocessorChoice at 0x7f667e877a10>,\n",
       "  'balancing': Balancing(random_state=1),\n",
       "  'feature_preprocessor': <autosklearn.pipeline.components.feature_preprocessing.FeaturePreprocessorChoice at 0x7f66789ecfd0>,\n",
       "  'classifier': <autosklearn.pipeline.components.classification.ClassifierChoice at 0x7f66789419d0>,\n",
       "  'sklearn_classifier': MLPClassifier(activation='tanh', alpha=0.009255252601476988, beta_1=0.999,\n",
       "                beta_2=0.9, hidden_layer_sizes=(87, 87),\n",
       "                learning_rate_init=0.00029012118203216604, max_iter=256,\n",
       "                n_iter_no_change=32, random_state=1, validation_fraction=0.0,\n",
       "                verbose=0, warm_start=True)},\n",
       " 181: {'model_id': 181,\n",
       "  'rank': 5,\n",
       "  'cost': 0.18947368421052635,\n",
       "  'ensemble_weight': 0.22,\n",
       "  'data_preprocessor': <autosklearn.pipeline.components.data_preprocessing.DataPreprocessorChoice at 0x7f66784de610>,\n",
       "  'balancing': Balancing(random_state=1),\n",
       "  'feature_preprocessor': <autosklearn.pipeline.components.feature_preprocessing.FeaturePreprocessorChoice at 0x7f66784b6fd0>,\n",
       "  'classifier': <autosklearn.pipeline.components.classification.ClassifierChoice at 0x7f66781cd990>,\n",
       "  'sklearn_classifier': MLPClassifier(activation='tanh', alpha=0.0966366127931945, beta_1=0.999,\n",
       "                beta_2=0.9, hidden_layer_sizes=(35, 35, 35),\n",
       "                learning_rate_init=0.0002657555169622281, max_iter=256,\n",
       "                n_iter_no_change=32, random_state=1, validation_fraction=0.0,\n",
       "                verbose=0, warm_start=True)},\n",
       " 183: {'model_id': 183,\n",
       "  'rank': 6,\n",
       "  'cost': 0.19298245614035092,\n",
       "  'ensemble_weight': 0.02,\n",
       "  'data_preprocessor': <autosklearn.pipeline.components.data_preprocessing.DataPreprocessorChoice at 0x7f6677d678d0>,\n",
       "  'balancing': Balancing(random_state=1),\n",
       "  'feature_preprocessor': <autosklearn.pipeline.components.feature_preprocessing.FeaturePreprocessorChoice at 0x7f6677cd42d0>,\n",
       "  'classifier': <autosklearn.pipeline.components.classification.ClassifierChoice at 0x7f6677c99c50>,\n",
       "  'sklearn_classifier': MLPClassifier(activation='tanh', alpha=0.0076801218822554855, beta_1=0.999,\n",
       "                beta_2=0.9, hidden_layer_sizes=(75, 75),\n",
       "                learning_rate_init=0.00023931052631169918, max_iter=256,\n",
       "                n_iter_no_change=32, random_state=1, validation_fraction=0.0,\n",
       "                verbose=0, warm_start=True)},\n",
       " 184: {'model_id': 184,\n",
       "  'rank': 7,\n",
       "  'cost': 0.19649122807017538,\n",
       "  'ensemble_weight': 0.02,\n",
       "  'data_preprocessor': <autosklearn.pipeline.components.data_preprocessing.DataPreprocessorChoice at 0x7f66778738d0>,\n",
       "  'balancing': Balancing(random_state=1, strategy='weighting'),\n",
       "  'feature_preprocessor': <autosklearn.pipeline.components.feature_preprocessing.FeaturePreprocessorChoice at 0x7f667759f2d0>,\n",
       "  'classifier': <autosklearn.pipeline.components.classification.ClassifierChoice at 0x7f6677567d50>,\n",
       "  'sklearn_classifier': MLPClassifier(activation='tanh', alpha=0.0062027901859070984, beta_1=0.999,\n",
       "                beta_2=0.9, hidden_layer_sizes=(87, 87),\n",
       "                learning_rate_init=0.0002697392209702725, max_iter=256,\n",
       "                n_iter_no_change=32, random_state=1, validation_fraction=0.0,\n",
       "                verbose=0, warm_start=True)},\n",
       " 188: {'model_id': 188,\n",
       "  'rank': 8,\n",
       "  'cost': 0.19298245614035092,\n",
       "  'ensemble_weight': 0.04,\n",
       "  'data_preprocessor': <autosklearn.pipeline.components.data_preprocessing.DataPreprocessorChoice at 0x7f66770c0950>,\n",
       "  'balancing': Balancing(random_state=1),\n",
       "  'feature_preprocessor': <autosklearn.pipeline.components.feature_preprocessing.FeaturePreprocessorChoice at 0x7f66770ae350>,\n",
       "  'classifier': <autosklearn.pipeline.components.classification.ClassifierChoice at 0x7f6677072cd0>,\n",
       "  'sklearn_classifier': MLPClassifier(activation='tanh', alpha=2.1871891623786664e-06, beta_1=0.999,\n",
       "                beta_2=0.9, hidden_layer_sizes=(77, 77),\n",
       "                learning_rate_init=0.0002824430625535847, max_iter=256,\n",
       "                n_iter_no_change=32, random_state=1, validation_fraction=0.0,\n",
       "                verbose=0, warm_start=True)},\n",
       " 194: {'model_id': 194,\n",
       "  'rank': 9,\n",
       "  'cost': 0.2070175438596491,\n",
       "  'ensemble_weight': 0.06,\n",
       "  'data_preprocessor': <autosklearn.pipeline.components.data_preprocessing.DataPreprocessorChoice at 0x7f667694d950>,\n",
       "  'balancing': Balancing(random_state=1, strategy='weighting'),\n",
       "  'feature_preprocessor': <autosklearn.pipeline.components.feature_preprocessing.FeaturePreprocessorChoice at 0x7f667693b350>,\n",
       "  'classifier': <autosklearn.pipeline.components.classification.ClassifierChoice at 0x7f6676884e90>,\n",
       "  'sklearn_classifier': MLPClassifier(activation='tanh', alpha=0.003360773733893039, beta_1=0.999,\n",
       "                beta_2=0.9, hidden_layer_sizes=(81, 81),\n",
       "                learning_rate_init=0.000280295461716108, max_iter=256,\n",
       "                n_iter_no_change=32, random_state=1, validation_fraction=0.0,\n",
       "                verbose=0, warm_start=True)},\n",
       " 198: {'model_id': 198,\n",
       "  'rank': 10,\n",
       "  'cost': 0.20350877192982453,\n",
       "  'ensemble_weight': 0.02,\n",
       "  'data_preprocessor': <autosklearn.pipeline.components.data_preprocessing.DataPreprocessorChoice at 0x7f667619ea90>,\n",
       "  'balancing': Balancing(random_state=1),\n",
       "  'feature_preprocessor': <autosklearn.pipeline.components.feature_preprocessing.FeaturePreprocessorChoice at 0x7f667610c490>,\n",
       "  'classifier': <autosklearn.pipeline.components.classification.ClassifierChoice at 0x7f66760d3e90>,\n",
       "  'sklearn_classifier': MLPClassifier(activation='tanh', alpha=0.006427588973611739, beta_1=0.999,\n",
       "                beta_2=0.9, hidden_layer_sizes=(67, 67),\n",
       "                learning_rate_init=0.0002478546162624194, max_iter=256,\n",
       "                n_iter_no_change=32, random_state=1, validation_fraction=0.0,\n",
       "                verbose=0, warm_start=True)},\n",
       " 211: {'model_id': 211,\n",
       "  'rank': 11,\n",
       "  'cost': 0.19649122807017538,\n",
       "  'ensemble_weight': 0.04,\n",
       "  'data_preprocessor': <autosklearn.pipeline.components.data_preprocessing.DataPreprocessorChoice at 0x7f6675ca8ad0>,\n",
       "  'balancing': Balancing(random_state=1),\n",
       "  'feature_preprocessor': <autosklearn.pipeline.components.feature_preprocessing.FeaturePreprocessorChoice at 0x7f66759d94d0>,\n",
       "  'classifier': <autosklearn.pipeline.components.classification.ClassifierChoice at 0x7f66759a0e90>,\n",
       "  'sklearn_classifier': MLPClassifier(activation='tanh', alpha=0.008328281333523927, beta_1=0.999,\n",
       "                beta_2=0.9, hidden_layer_sizes=(77, 77),\n",
       "                learning_rate_init=0.0002404052283747178, max_iter=256,\n",
       "                n_iter_no_change=32, random_state=1, validation_fraction=0.0,\n",
       "                verbose=0, warm_start=True)},\n",
       " 216: {'model_id': 216,\n",
       "  'rank': 12,\n",
       "  'cost': 0.2070175438596491,\n",
       "  'ensemble_weight': 0.02,\n",
       "  'data_preprocessor': <autosklearn.pipeline.components.data_preprocessing.DataPreprocessorChoice at 0x7f6675537ad0>,\n",
       "  'balancing': Balancing(random_state=1),\n",
       "  'feature_preprocessor': <autosklearn.pipeline.components.feature_preprocessing.FeaturePreprocessorChoice at 0x7f66754a54d0>,\n",
       "  'classifier': <autosklearn.pipeline.components.classification.ClassifierChoice at 0x7f6675470110>,\n",
       "  'sklearn_classifier': MLPClassifier(activation='tanh', alpha=0.0075561977861766955, beta_1=0.999,\n",
       "                beta_2=0.9, hidden_layer_sizes=(77, 77),\n",
       "                learning_rate_init=0.0002872320588034746, max_iter=256,\n",
       "                n_iter_no_change=32, random_state=1, validation_fraction=0.0,\n",
       "                verbose=0, warm_start=True)},\n",
       " 217: {'model_id': 217,\n",
       "  'rank': 13,\n",
       "  'cost': 0.19649122807017538,\n",
       "  'ensemble_weight': 0.02,\n",
       "  'data_preprocessor': <autosklearn.pipeline.components.data_preprocessing.DataPreprocessorChoice at 0x7f6674d43d10>,\n",
       "  'balancing': Balancing(random_state=1),\n",
       "  'feature_preprocessor': <autosklearn.pipeline.components.feature_preprocessing.FeaturePreprocessorChoice at 0x7f6674d2f710>,\n",
       "  'classifier': <autosklearn.pipeline.components.classification.ClassifierChoice at 0x7f6674cf9350>,\n",
       "  'sklearn_classifier': MLPClassifier(activation='tanh', alpha=0.009711863047185272, beta_1=0.999,\n",
       "                beta_2=0.9, hidden_layer_sizes=(85, 85, 85),\n",
       "                learning_rate_init=0.00023008529954087362, max_iter=256,\n",
       "                n_iter_no_change=32, random_state=1, validation_fraction=0.0,\n",
       "                verbose=0, warm_start=True)},\n",
       " 250: {'model_id': 250,\n",
       "  'rank': 14,\n",
       "  'cost': 0.20350877192982453,\n",
       "  'ensemble_weight': 0.02,\n",
       "  'data_preprocessor': <autosklearn.pipeline.components.data_preprocessing.DataPreprocessorChoice at 0x7f6674877250>,\n",
       "  'balancing': Balancing(random_state=1, strategy='weighting'),\n",
       "  'feature_preprocessor': <autosklearn.pipeline.components.feature_preprocessing.FeaturePreprocessorChoice at 0x7f66745f6c10>,\n",
       "  'classifier': <autosklearn.pipeline.components.classification.ClassifierChoice at 0x7f66745488d0>,\n",
       "  'sklearn_classifier': MLPClassifier(activation='tanh', alpha=0.0012653291143244754, beta_1=0.999,\n",
       "                beta_2=0.9, hidden_layer_sizes=(56, 56, 56),\n",
       "                learning_rate_init=0.00024153234623673717, max_iter=256,\n",
       "                n_iter_no_change=32, random_state=1, validation_fraction=0.0,\n",
       "                verbose=0, warm_start=True)},\n",
       " 253: {'model_id': 253,\n",
       "  'rank': 15,\n",
       "  'cost': 0.19649122807017538,\n",
       "  'ensemble_weight': 0.02,\n",
       "  'data_preprocessor': <autosklearn.pipeline.components.data_preprocessing.DataPreprocessorChoice at 0x7f66741237d0>,\n",
       "  'balancing': Balancing(random_state=1),\n",
       "  'feature_preprocessor': <autosklearn.pipeline.components.feature_preprocessing.FeaturePreprocessorChoice at 0x7f66740921d0>,\n",
       "  'classifier': <autosklearn.pipeline.components.classification.ClassifierChoice at 0x7f6674057b50>,\n",
       "  'sklearn_classifier': MLPClassifier(activation='tanh', alpha=0.0019067970535165575, beta_1=0.999,\n",
       "                beta_2=0.9, hidden_layer_sizes=(83, 83),\n",
       "                learning_rate_init=0.00023951900151388388, max_iter=256,\n",
       "                n_iter_no_change=32, random_state=1, validation_fraction=0.0,\n",
       "                verbose=0, warm_start=True)},\n",
       " 254: {'model_id': 254,\n",
       "  'rank': 16,\n",
       "  'cost': 0.20350877192982453,\n",
       "  'ensemble_weight': 0.04,\n",
       "  'data_preprocessor': <autosklearn.pipeline.components.data_preprocessing.DataPreprocessorChoice at 0x7f66739f07d0>,\n",
       "  'balancing': Balancing(random_state=1),\n",
       "  'feature_preprocessor': <autosklearn.pipeline.components.feature_preprocessing.FeaturePreprocessorChoice at 0x7f667395d1d0>,\n",
       "  'classifier': <autosklearn.pipeline.components.classification.ClassifierChoice at 0x7f6673923b50>,\n",
       "  'sklearn_classifier': MLPClassifier(activation='tanh', alpha=0.0044989686760918916, beta_1=0.999,\n",
       "                beta_2=0.9, hidden_layer_sizes=(92, 92),\n",
       "                learning_rate_init=0.0002566674391391074, max_iter=256,\n",
       "                n_iter_no_change=32, random_state=1, validation_fraction=0.0,\n",
       "                verbose=0, warm_start=True)},\n",
       " 260: {'model_id': 260,\n",
       "  'rank': 17,\n",
       "  'cost': 0.18596491228070178,\n",
       "  'ensemble_weight': 0.02,\n",
       "  'data_preprocessor': <autosklearn.pipeline.components.data_preprocessing.DataPreprocessorChoice at 0x7f667333c7d0>,\n",
       "  'balancing': Balancing(random_state=1, strategy='weighting'),\n",
       "  'feature_preprocessor': <autosklearn.pipeline.components.feature_preprocessing.FeaturePreprocessorChoice at 0x7f66732a81d0>,\n",
       "  'classifier': <autosklearn.pipeline.components.classification.ClassifierChoice at 0x7f667326ac10>,\n",
       "  'sklearn_classifier': MLPClassifier(activation='tanh', alpha=0.00034525417170483495, beta_1=0.999,\n",
       "                beta_2=0.9, hidden_layer_sizes=(85, 85),\n",
       "                learning_rate_init=0.0002829265628739478, max_iter=256,\n",
       "                n_iter_no_change=32, random_state=1, validation_fraction=0.0,\n",
       "                verbose=0, warm_start=True)},\n",
       " 270: {'model_id': 270,\n",
       "  'rank': 18,\n",
       "  'cost': 0.19649122807017538,\n",
       "  'ensemble_weight': 0.04,\n",
       "  'data_preprocessor': <autosklearn.pipeline.components.data_preprocessing.DataPreprocessorChoice at 0x7f6673004850>,\n",
       "  'balancing': Balancing(random_state=1),\n",
       "  'feature_preprocessor': <autosklearn.pipeline.components.feature_preprocessing.FeaturePreprocessorChoice at 0x7f6672ff3250>,\n",
       "  'classifier': <autosklearn.pipeline.components.classification.ClassifierChoice at 0x7f6672fb9bd0>,\n",
       "  'sklearn_classifier': MLPClassifier(activation='tanh', alpha=0.00011223884993956256, beta_1=0.999,\n",
       "                beta_2=0.9, hidden_layer_sizes=(86, 86),\n",
       "                learning_rate_init=0.0002861979331460673, max_iter=256,\n",
       "                n_iter_no_change=32, random_state=1, validation_fraction=0.0,\n",
       "                verbose=0, warm_start=True)},\n",
       " 274: {'model_id': 274,\n",
       "  'rank': 19,\n",
       "  'cost': 0.19999999999999996,\n",
       "  'ensemble_weight': 0.06,\n",
       "  'data_preprocessor': <autosklearn.pipeline.components.data_preprocessing.DataPreprocessorChoice at 0x7f6672d53850>,\n",
       "  'balancing': Balancing(random_state=1, strategy='weighting'),\n",
       "  'feature_preprocessor': <autosklearn.pipeline.components.feature_preprocessing.FeaturePreprocessorChoice at 0x7f6672cc0250>,\n",
       "  'classifier': <autosklearn.pipeline.components.classification.ClassifierChoice at 0x7f6672c85c50>,\n",
       "  'sklearn_classifier': MLPClassifier(activation='tanh', alpha=2.006898263936619e-06, beta_1=0.999,\n",
       "                beta_2=0.9, hidden_layer_sizes=(164, 164),\n",
       "                learning_rate_init=0.0007126591874751038, max_iter=128,\n",
       "                n_iter_no_change=32, random_state=1, validation_fraction=0.0,\n",
       "                verbose=0, warm_start=True)},\n",
       " 275: {'model_id': 275,\n",
       "  'rank': 20,\n",
       "  'cost': 0.18947368421052635,\n",
       "  'ensemble_weight': 0.02,\n",
       "  'data_preprocessor': <autosklearn.pipeline.components.data_preprocessing.DataPreprocessorChoice at 0x7f6672a918d0>,\n",
       "  'balancing': Balancing(random_state=1),\n",
       "  'feature_preprocessor': <autosklearn.pipeline.components.feature_preprocessing.FeaturePreprocessorChoice at 0x7f6672a002d0>,\n",
       "  'classifier': <autosklearn.pipeline.components.classification.ClassifierChoice at 0x7f66729c6c90>,\n",
       "  'sklearn_classifier': MLPClassifier(activation='tanh', alpha=6.792268743196123e-07, beta_1=0.999,\n",
       "                beta_2=0.9, hidden_layer_sizes=(85, 85),\n",
       "                learning_rate_init=0.00027013150763671864, max_iter=256,\n",
       "                n_iter_no_change=32, random_state=1, validation_fraction=0.0,\n",
       "                verbose=0, warm_start=True)},\n",
       " 292: {'model_id': 292,\n",
       "  'rank': 21,\n",
       "  'cost': 0.20350877192982453,\n",
       "  'ensemble_weight': 0.02,\n",
       "  'data_preprocessor': <autosklearn.pipeline.components.data_preprocessing.DataPreprocessorChoice at 0x7f66727de8d0>,\n",
       "  'balancing': Balancing(random_state=1),\n",
       "  'feature_preprocessor': <autosklearn.pipeline.components.feature_preprocessing.FeaturePreprocessorChoice at 0x7f667274b2d0>,\n",
       "  'classifier': <autosklearn.pipeline.components.classification.ClassifierChoice at 0x7f66727187d0>,\n",
       "  'sklearn_classifier': MLPClassifier(activation='tanh', alpha=0.0016593252325056331, beta_1=0.999,\n",
       "                beta_2=0.9, hidden_layer_sizes=(87, 87),\n",
       "                learning_rate_init=0.00027289637566379067, max_iter=256,\n",
       "                n_iter_no_change=32, random_state=1, validation_fraction=0.0,\n",
       "                verbose=0, warm_start=True)},\n",
       " 335: {'model_id': 335,\n",
       "  'rank': 22,\n",
       "  'cost': 0.19298245614035092,\n",
       "  'ensemble_weight': 0.04,\n",
       "  'data_preprocessor': <autosklearn.pipeline.components.data_preprocessing.DataPreprocessorChoice at 0x7f66724cb450>,\n",
       "  'balancing': Balancing(random_state=1, strategy='weighting'),\n",
       "  'feature_preprocessor': <autosklearn.pipeline.components.feature_preprocessing.FeaturePreprocessorChoice at 0x7f6672492e10>,\n",
       "  'classifier': <autosklearn.pipeline.components.classification.ClassifierChoice at 0x7f6672465890>,\n",
       "  'sklearn_classifier': MLPClassifier(activation='tanh', alpha=0.00041300610475552885, beta_1=0.999,\n",
       "                beta_2=0.9, hidden_layer_sizes=(89, 89),\n",
       "                learning_rate_init=0.00029273925787249054, max_iter=256,\n",
       "                n_iter_no_change=32, random_state=1, validation_fraction=0.0,\n",
       "                verbose=0, warm_start=True)},\n",
       " 337: {'model_id': 337,\n",
       "  'rank': 23,\n",
       "  'cost': 0.2070175438596491,\n",
       "  'ensemble_weight': 0.06,\n",
       "  'data_preprocessor': <autosklearn.pipeline.components.data_preprocessing.DataPreprocessorChoice at 0x7f66722104d0>,\n",
       "  'balancing': Balancing(random_state=1),\n",
       "  'feature_preprocessor': <autosklearn.pipeline.components.feature_preprocessing.FeaturePreprocessorChoice at 0x7f66721dde90>,\n",
       "  'classifier': <autosklearn.pipeline.components.classification.ClassifierChoice at 0x7f66721af910>,\n",
       "  'sklearn_classifier': MLPClassifier(activation='tanh', alpha=0.006633203432031281, beta_1=0.999,\n",
       "                beta_2=0.9, hidden_layer_sizes=(101, 101),\n",
       "                learning_rate_init=0.00029012118203216604, max_iter=256,\n",
       "                n_iter_no_change=32, random_state=1, validation_fraction=0.0,\n",
       "                verbose=0, warm_start=True)},\n",
       " 375: {'model_id': 375,\n",
       "  'rank': 24,\n",
       "  'cost': 0.2070175438596491,\n",
       "  'ensemble_weight': 0.04,\n",
       "  'data_preprocessor': <autosklearn.pipeline.components.data_preprocessing.DataPreprocessorChoice at 0x7f6671f5c510>,\n",
       "  'balancing': Balancing(random_state=1),\n",
       "  'feature_preprocessor': <autosklearn.pipeline.components.feature_preprocessing.FeaturePreprocessorChoice at 0x7f6671f26ed0>,\n",
       "  'classifier': <autosklearn.pipeline.components.classification.ClassifierChoice at 0x7f6671e84210>,\n",
       "  'sklearn_classifier': MLPClassifier(activation='tanh', alpha=0.0730291826296666, beta_1=0.999,\n",
       "                beta_2=0.9, hidden_layer_sizes=(87, 87, 87),\n",
       "                learning_rate_init=0.00025201450856523843, max_iter=128,\n",
       "                n_iter_no_change=32, random_state=1, validation_fraction=0.0,\n",
       "                verbose=0, warm_start=True)}}"
      ]
     },
     "execution_count": 1,
     "metadata": {},
     "output_type": "execute_result"
    }
   ],
   "source": [
    "import pickle\n",
    "with open('./models/diabetic_retinopathy_automl.pkl', 'rb') as f:\n",
    "    automl = pickle.load(f)\n",
    "\n",
    "automl.show_models()"
   ]
  },
  {
   "attachments": {},
   "cell_type": "markdown",
   "metadata": {},
   "source": [
    "# RANDOM FOREST"
   ]
  },
  {
   "cell_type": "code",
   "execution_count": 30,
   "metadata": {},
   "outputs": [],
   "source": [
    "import sklearn.ensemble\n",
    "\n",
    "model = sklearn.ensemble.RandomForestClassifier(n_estimators=100, n_jobs=5, random_state=42)\n",
    "model.fit(X_train, y_train)\n",
    "y_hat = model.predict(X_test)"
   ]
  },
  {
   "cell_type": "code",
   "execution_count": 31,
   "metadata": {},
   "outputs": [
    {
     "data": {
      "text/plain": [
       "0.7083333333333334"
      ]
     },
     "execution_count": 31,
     "metadata": {},
     "output_type": "execute_result"
    }
   ],
   "source": [
    "sklearn.metrics.accuracy_score(y_test, y_hat)"
   ]
  },
  {
   "attachments": {},
   "cell_type": "markdown",
   "metadata": {},
   "source": [
    "# SVC"
   ]
  },
  {
   "cell_type": "code",
   "execution_count": 5,
   "metadata": {},
   "outputs": [
    {
     "name": "stdout",
     "output_type": "stream",
     "text": [
      "Fitting 5 folds for each of 25 candidates, totalling 125 fits\n"
     ]
    },
    {
     "data": {
      "text/plain": [
       "GridSearchCV(cv=5, estimator=SVC(random_state=42), n_jobs=5,\n",
       "             param_grid={'C': [0.1, 1, 10, 100, 1000],\n",
       "                         'gamma': [1, 0.1, 0.01, 0.001, 0.0001]},\n",
       "             verbose=3)"
      ]
     },
     "execution_count": 5,
     "metadata": {},
     "output_type": "execute_result"
    }
   ],
   "source": [
    "import sklearn.svm\n",
    "import sklearn.model_selection\n",
    "\n",
    "model = sklearn.svm.SVC(random_state=42)\n",
    "params = {'C': [0.1, 1, 10, 100, 1000], 'gamma': [1, 0.1, 0.01, 0.001, 0.0001]}\n",
    "gridSearch = sklearn.model_selection.GridSearchCV(model, param_grid=params, cv=5, n_jobs=5, verbose=3)\n",
    "gridSearch.fit(X_train, y_train)"
   ]
  },
  {
   "cell_type": "code",
   "execution_count": 7,
   "metadata": {},
   "outputs": [
    {
     "data": {
      "text/plain": [
       "0.78125"
      ]
     },
     "execution_count": 7,
     "metadata": {},
     "output_type": "execute_result"
    }
   ],
   "source": [
    "y_hat = gridSearch.predict(X_test)\n",
    "sklearn.metrics.accuracy_score(y_test, y_hat)"
   ]
  },
  {
   "cell_type": "code",
   "execution_count": null,
   "metadata": {},
   "outputs": [],
   "source": []
  }
 ],
 "metadata": {
  "kernelspec": {
   "display_name": "interpret",
   "language": "python",
   "name": "python3"
  },
  "language_info": {
   "codemirror_mode": {
    "name": "ipython",
    "version": 3
   },
   "file_extension": ".py",
   "mimetype": "text/x-python",
   "name": "python",
   "nbconvert_exporter": "python",
   "pygments_lexer": "ipython3",
   "version": "3.7.16"
  },
  "orig_nbformat": 4
 },
 "nbformat": 4,
 "nbformat_minor": 2
}
