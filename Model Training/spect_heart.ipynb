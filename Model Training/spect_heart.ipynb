{
 "cells": [
  {
   "cell_type": "code",
   "execution_count": 1,
   "metadata": {},
   "outputs": [],
   "source": [
    "import autosklearn.classification\n",
    "from sklearn.model_selection import train_test_split\n",
    "import pandas as pd\n",
    "import numpy as np\n",
    "import sklearn.metrics"
   ]
  },
  {
   "cell_type": "code",
   "execution_count": 2,
   "metadata": {},
   "outputs": [],
   "source": [
    "train = pd.read_csv('../Datasets/SPECT Heart/spect_train_binary.csv')\n",
    "test = pd.read_csv('../Datasets/SPECT Heart/spect_test_binary.csv')"
   ]
  },
  {
   "cell_type": "code",
   "execution_count": 3,
   "metadata": {},
   "outputs": [],
   "source": [
    "X_train = train.drop('OVERALL_DIAGNOSIS', axis=1)\n",
    "y_train = train['OVERALL_DIAGNOSIS']\n",
    "X_test = test.drop('OVERALL_DIAGNOSIS', axis=1)\n",
    "y_test = test['OVERALL_DIAGNOSIS']\n"
   ]
  },
  {
   "attachments": {},
   "cell_type": "markdown",
   "metadata": {},
   "source": [
    "# AUTOML"
   ]
  },
  {
   "cell_type": "code",
   "execution_count": 9,
   "metadata": {},
   "outputs": [],
   "source": [
    "automl = autosklearn.classification.AutoSklearnClassifier()\n",
    "automl.fit(X_train, y_train)\n",
    "y_hat = automl.predict(X_test)"
   ]
  },
  {
   "cell_type": "code",
   "execution_count": 10,
   "metadata": {},
   "outputs": [
    {
     "data": {
      "text/plain": [
       "0.8128342245989305"
      ]
     },
     "execution_count": 10,
     "metadata": {},
     "output_type": "execute_result"
    }
   ],
   "source": [
    "sklearn.metrics.accuracy_score(y_test, y_hat)"
   ]
  },
  {
   "cell_type": "code",
   "execution_count": 11,
   "metadata": {},
   "outputs": [],
   "source": [
    "import pickle\n",
    "with open('./models/spect_heart_automl.pkl', 'wb') as f:\n",
    "    pickle.dump(automl, f)"
   ]
  },
  {
   "cell_type": "code",
   "execution_count": 1,
   "metadata": {},
   "outputs": [
    {
     "data": {
      "text/plain": [
       "{300: {'model_id': 300,\n",
       "  'rank': 1,\n",
       "  'cost': 0.07407407407407407,\n",
       "  'ensemble_weight': 0.02,\n",
       "  'data_preprocessor': <autosklearn.pipeline.components.data_preprocessing.DataPreprocessorChoice at 0x7f476c1f3b50>,\n",
       "  'balancing': Balancing(random_state=1, strategy='weighting'),\n",
       "  'feature_preprocessor': <autosklearn.pipeline.components.feature_preprocessing.FeaturePreprocessorChoice at 0x7f476c143a50>,\n",
       "  'classifier': <autosklearn.pipeline.components.classification.ClassifierChoice at 0x7f476c14f1d0>,\n",
       "  'sklearn_classifier': ExtraTreesClassifier(criterion='entropy', max_features=3, min_samples_leaf=10,\n",
       "                       min_samples_split=4, n_estimators=512, n_jobs=1,\n",
       "                       random_state=1, warm_start=True)},\n",
       " 301: {'model_id': 301,\n",
       "  'rank': 2,\n",
       "  'cost': 0.07407407407407407,\n",
       "  'ensemble_weight': 0.06,\n",
       "  'data_preprocessor': <autosklearn.pipeline.components.data_preprocessing.DataPreprocessorChoice at 0x7f476b97ff50>,\n",
       "  'balancing': Balancing(random_state=1, strategy='weighting'),\n",
       "  'feature_preprocessor': <autosklearn.pipeline.components.feature_preprocessing.FeaturePreprocessorChoice at 0x7f476b8c6b50>,\n",
       "  'classifier': <autosklearn.pipeline.components.classification.ClassifierChoice at 0x7f476b8cf250>,\n",
       "  'sklearn_classifier': ExtraTreesClassifier(bootstrap=True, criterion='entropy', max_features=3,\n",
       "                       min_samples_leaf=14, min_samples_split=4, n_estimators=512,\n",
       "                       n_jobs=1, random_state=1, warm_start=True)},\n",
       " 308: {'model_id': 308,\n",
       "  'rank': 3,\n",
       "  'cost': 0.07407407407407407,\n",
       "  'ensemble_weight': 0.02,\n",
       "  'data_preprocessor': <autosklearn.pipeline.components.data_preprocessing.DataPreprocessorChoice at 0x7f476b087c50>,\n",
       "  'balancing': Balancing(random_state=1, strategy='weighting'),\n",
       "  'feature_preprocessor': <autosklearn.pipeline.components.feature_preprocessing.FeaturePreprocessorChoice at 0x7f476adec850>,\n",
       "  'classifier': <autosklearn.pipeline.components.classification.ClassifierChoice at 0x7f476adecf10>,\n",
       "  'sklearn_classifier': ExtraTreesClassifier(max_features=3, min_samples_leaf=6, min_samples_split=4,\n",
       "                       n_estimators=512, n_jobs=1, random_state=1,\n",
       "                       warm_start=True)},\n",
       " 316: {'model_id': 316,\n",
       "  'rank': 4,\n",
       "  'cost': 0.07407407407407407,\n",
       "  'ensemble_weight': 0.02,\n",
       "  'data_preprocessor': <autosklearn.pipeline.components.data_preprocessing.DataPreprocessorChoice at 0x7f476a561a90>,\n",
       "  'balancing': Balancing(random_state=1, strategy='weighting'),\n",
       "  'feature_preprocessor': <autosklearn.pipeline.components.feature_preprocessing.FeaturePreprocessorChoice at 0x7f476a52a690>,\n",
       "  'classifier': <autosklearn.pipeline.components.classification.ClassifierChoice at 0x7f476a52ad90>,\n",
       "  'sklearn_classifier': ExtraTreesClassifier(criterion='entropy', max_features=3, min_samples_leaf=7,\n",
       "                       n_estimators=512, n_jobs=1, random_state=1,\n",
       "                       warm_start=True)},\n",
       " 344: {'model_id': 344,\n",
       "  'rank': 5,\n",
       "  'cost': 0.07407407407407407,\n",
       "  'ensemble_weight': 0.04,\n",
       "  'data_preprocessor': <autosklearn.pipeline.components.data_preprocessing.DataPreprocessorChoice at 0x7f4769ca5c90>,\n",
       "  'balancing': Balancing(random_state=1, strategy='weighting'),\n",
       "  'feature_preprocessor': <autosklearn.pipeline.components.feature_preprocessing.FeaturePreprocessorChoice at 0x7f4769c6a890>,\n",
       "  'classifier': <autosklearn.pipeline.components.classification.ClassifierChoice at 0x7f4769c72090>,\n",
       "  'sklearn_classifier': ExtraTreesClassifier(bootstrap=True, criterion='entropy', max_features=2,\n",
       "                       min_samples_leaf=15, min_samples_split=20,\n",
       "                       n_estimators=512, n_jobs=1, random_state=1,\n",
       "                       warm_start=True)},\n",
       " 353: {'model_id': 353,\n",
       "  'rank': 6,\n",
       "  'cost': 0.07407407407407407,\n",
       "  'ensemble_weight': 0.06,\n",
       "  'data_preprocessor': <autosklearn.pipeline.components.data_preprocessing.DataPreprocessorChoice at 0x7f47691cae50>,\n",
       "  'balancing': Balancing(random_state=1, strategy='weighting'),\n",
       "  'feature_preprocessor': <autosklearn.pipeline.components.feature_preprocessing.FeaturePreprocessorChoice at 0x7f476918da50>,\n",
       "  'classifier': <autosklearn.pipeline.components.classification.ClassifierChoice at 0x7f4769199150>,\n",
       "  'sklearn_classifier': ExtraTreesClassifier(bootstrap=True, criterion='entropy', max_features=3,\n",
       "                       min_samples_leaf=13, min_samples_split=9, n_estimators=512,\n",
       "                       n_jobs=1, random_state=1, warm_start=True)},\n",
       " 361: {'model_id': 361,\n",
       "  'rank': 7,\n",
       "  'cost': 0.07407407407407407,\n",
       "  'ensemble_weight': 0.04,\n",
       "  'data_preprocessor': <autosklearn.pipeline.components.data_preprocessing.DataPreprocessorChoice at 0x7f4768936cd0>,\n",
       "  'balancing': Balancing(random_state=1, strategy='weighting'),\n",
       "  'feature_preprocessor': <autosklearn.pipeline.components.feature_preprocessing.FeaturePreprocessorChoice at 0x7f47688fb8d0>,\n",
       "  'classifier': <autosklearn.pipeline.components.classification.ClassifierChoice at 0x7f47688fbfd0>,\n",
       "  'sklearn_classifier': ExtraTreesClassifier(bootstrap=True, criterion='entropy', max_features=3,\n",
       "                       min_samples_leaf=17, min_samples_split=16,\n",
       "                       n_estimators=512, n_jobs=1, random_state=1,\n",
       "                       warm_start=True)},\n",
       " 363: {'model_id': 363,\n",
       "  'rank': 8,\n",
       "  'cost': 0.07407407407407407,\n",
       "  'ensemble_weight': 0.02,\n",
       "  'data_preprocessor': <autosklearn.pipeline.components.data_preprocessing.DataPreprocessorChoice at 0x7f476805cc10>,\n",
       "  'balancing': Balancing(random_state=1, strategy='weighting'),\n",
       "  'feature_preprocessor': <autosklearn.pipeline.components.feature_preprocessing.FeaturePreprocessorChoice at 0x7f4767de4810>,\n",
       "  'classifier': <autosklearn.pipeline.components.classification.ClassifierChoice at 0x7f4767de4f10>,\n",
       "  'sklearn_classifier': ExtraTreesClassifier(bootstrap=True, max_features=3, min_samples_leaf=17,\n",
       "                       min_samples_split=11, n_estimators=512, n_jobs=1,\n",
       "                       random_state=1, warm_start=True)},\n",
       " 364: {'model_id': 364,\n",
       "  'rank': 9,\n",
       "  'cost': 0.07407407407407407,\n",
       "  'ensemble_weight': 0.06,\n",
       "  'data_preprocessor': <autosklearn.pipeline.components.data_preprocessing.DataPreprocessorChoice at 0x7f4767544b50>,\n",
       "  'balancing': Balancing(random_state=1, strategy='weighting'),\n",
       "  'feature_preprocessor': <autosklearn.pipeline.components.feature_preprocessing.FeaturePreprocessorChoice at 0x7f476750c750>,\n",
       "  'classifier': <autosklearn.pipeline.components.classification.ClassifierChoice at 0x7f476750ced0>,\n",
       "  'sklearn_classifier': ExtraTreesClassifier(bootstrap=True, criterion='entropy', max_features=2,\n",
       "                       min_samples_leaf=15, min_samples_split=3, n_estimators=512,\n",
       "                       n_jobs=1, random_state=1, warm_start=True)},\n",
       " 368: {'model_id': 368,\n",
       "  'rank': 10,\n",
       "  'cost': 0.07407407407407407,\n",
       "  'ensemble_weight': 0.02,\n",
       "  'data_preprocessor': <autosklearn.pipeline.components.data_preprocessing.DataPreprocessorChoice at 0x7f4766cecd10>,\n",
       "  'balancing': Balancing(random_state=1, strategy='weighting'),\n",
       "  'feature_preprocessor': <autosklearn.pipeline.components.feature_preprocessing.FeaturePreprocessorChoice at 0x7f4766cae910>,\n",
       "  'classifier': <autosklearn.pipeline.components.classification.ClassifierChoice at 0x7f4766caefd0>,\n",
       "  'sklearn_classifier': ExtraTreesClassifier(bootstrap=True, criterion='entropy', max_features=3,\n",
       "                       min_samples_leaf=17, min_samples_split=12,\n",
       "                       n_estimators=512, n_jobs=1, random_state=1,\n",
       "                       warm_start=True)},\n",
       " 373: {'model_id': 373,\n",
       "  'rank': 11,\n",
       "  'cost': 0.07407407407407407,\n",
       "  'ensemble_weight': 0.04,\n",
       "  'data_preprocessor': <autosklearn.pipeline.components.data_preprocessing.DataPreprocessorChoice at 0x7f4766451c50>,\n",
       "  'balancing': Balancing(random_state=1, strategy='weighting'),\n",
       "  'feature_preprocessor': <autosklearn.pipeline.components.feature_preprocessing.FeaturePreprocessorChoice at 0x7f47661d6850>,\n",
       "  'classifier': <autosklearn.pipeline.components.classification.ClassifierChoice at 0x7f47661d6f50>,\n",
       "  'sklearn_classifier': ExtraTreesClassifier(bootstrap=True, criterion='entropy', max_features=4,\n",
       "                       min_samples_leaf=15, min_samples_split=11,\n",
       "                       n_estimators=512, n_jobs=1, random_state=1,\n",
       "                       warm_start=True)},\n",
       " 375: {'model_id': 375,\n",
       "  'rank': 12,\n",
       "  'cost': 0.07407407407407407,\n",
       "  'ensemble_weight': 0.02,\n",
       "  'data_preprocessor': <autosklearn.pipeline.components.data_preprocessing.DataPreprocessorChoice at 0x7f4765c3b990>,\n",
       "  'balancing': Balancing(random_state=1, strategy='weighting'),\n",
       "  'feature_preprocessor': <autosklearn.pipeline.components.feature_preprocessing.FeaturePreprocessorChoice at 0x7f4765782590>,\n",
       "  'classifier': <autosklearn.pipeline.components.classification.ClassifierChoice at 0x7f4765782c50>,\n",
       "  'sklearn_classifier': ExtraTreesClassifier(bootstrap=True, criterion='entropy', max_features=3,\n",
       "                       min_samples_leaf=16, min_samples_split=8, n_estimators=512,\n",
       "                       n_jobs=1, random_state=1, warm_start=True)},\n",
       " 379: {'model_id': 379,\n",
       "  'rank': 13,\n",
       "  'cost': 0.07407407407407407,\n",
       "  'ensemble_weight': 0.04,\n",
       "  'data_preprocessor': <autosklearn.pipeline.components.data_preprocessing.DataPreprocessorChoice at 0x7f4765421390>,\n",
       "  'balancing': Balancing(random_state=1, strategy='weighting'),\n",
       "  'feature_preprocessor': <autosklearn.pipeline.components.feature_preprocessing.FeaturePreprocessorChoice at 0x7f47653daf50>,\n",
       "  'classifier': <autosklearn.pipeline.components.classification.ClassifierChoice at 0x7f47653ee650>,\n",
       "  'sklearn_classifier': ExtraTreesClassifier(bootstrap=True, criterion='entropy', max_features=3,\n",
       "                       min_samples_leaf=17, min_samples_split=7, n_estimators=512,\n",
       "                       n_jobs=1, random_state=1, warm_start=True)},\n",
       " 384: {'model_id': 384,\n",
       "  'rank': 14,\n",
       "  'cost': 0.07407407407407407,\n",
       "  'ensemble_weight': 0.04,\n",
       "  'data_preprocessor': <autosklearn.pipeline.components.data_preprocessing.DataPreprocessorChoice at 0x7f47650062d0>,\n",
       "  'balancing': Balancing(random_state=1, strategy='weighting'),\n",
       "  'feature_preprocessor': <autosklearn.pipeline.components.feature_preprocessing.FeaturePreprocessorChoice at 0x7f4764fc4e90>,\n",
       "  'classifier': <autosklearn.pipeline.components.classification.ClassifierChoice at 0x7f4764fd55d0>,\n",
       "  'sklearn_classifier': ExtraTreesClassifier(bootstrap=True, criterion='entropy', max_features=3,\n",
       "                       min_samples_leaf=17, min_samples_split=8, n_estimators=512,\n",
       "                       n_jobs=1, random_state=1, warm_start=True)},\n",
       " 389: {'model_id': 389,\n",
       "  'rank': 15,\n",
       "  'cost': 0.07407407407407407,\n",
       "  'ensemble_weight': 0.04,\n",
       "  'data_preprocessor': <autosklearn.pipeline.components.data_preprocessing.DataPreprocessorChoice at 0x7f4764c6d210>,\n",
       "  'balancing': Balancing(random_state=1, strategy='weighting'),\n",
       "  'feature_preprocessor': <autosklearn.pipeline.components.feature_preprocessing.FeaturePreprocessorChoice at 0x7f4764c2bdd0>,\n",
       "  'classifier': <autosklearn.pipeline.components.classification.ClassifierChoice at 0x7f4764c3b590>,\n",
       "  'sklearn_classifier': ExtraTreesClassifier(bootstrap=True, criterion='entropy', max_features=2,\n",
       "                       min_samples_leaf=16, min_samples_split=6, n_estimators=512,\n",
       "                       n_jobs=1, random_state=1, warm_start=True)},\n",
       " 390: {'model_id': 390,\n",
       "  'rank': 16,\n",
       "  'cost': 0.07407407407407407,\n",
       "  'ensemble_weight': 0.02,\n",
       "  'data_preprocessor': <autosklearn.pipeline.components.data_preprocessing.DataPreprocessorChoice at 0x7f4764853b10>,\n",
       "  'balancing': Balancing(random_state=1, strategy='weighting'),\n",
       "  'feature_preprocessor': <autosklearn.pipeline.components.feature_preprocessing.FeaturePreprocessorChoice at 0x7f4764819710>,\n",
       "  'classifier': <autosklearn.pipeline.components.classification.ClassifierChoice at 0x7f4764819e90>,\n",
       "  'sklearn_classifier': ExtraTreesClassifier(bootstrap=True, criterion='entropy', max_features=2,\n",
       "                       min_samples_leaf=16, min_samples_split=14,\n",
       "                       n_estimators=512, n_jobs=1, random_state=1,\n",
       "                       warm_start=True)},\n",
       " 392: {'model_id': 392,\n",
       "  'rank': 17,\n",
       "  'cost': 0.07407407407407407,\n",
       "  'ensemble_weight': 0.02,\n",
       "  'data_preprocessor': <autosklearn.pipeline.components.data_preprocessing.DataPreprocessorChoice at 0x7f4765bfb450>,\n",
       "  'balancing': Balancing(random_state=1, strategy='weighting'),\n",
       "  'feature_preprocessor': <autosklearn.pipeline.components.feature_preprocessing.FeaturePreprocessorChoice at 0x7f4765b49050>,\n",
       "  'classifier': <autosklearn.pipeline.components.classification.ClassifierChoice at 0x7f4765b497d0>,\n",
       "  'sklearn_classifier': ExtraTreesClassifier(bootstrap=True, criterion='entropy', max_features=2,\n",
       "                       min_samples_leaf=15, min_samples_split=5, n_estimators=512,\n",
       "                       n_jobs=1, random_state=1, warm_start=True)},\n",
       " 394: {'model_id': 394,\n",
       "  'rank': 18,\n",
       "  'cost': 0.07407407407407407,\n",
       "  'ensemble_weight': 0.02,\n",
       "  'data_preprocessor': <autosklearn.pipeline.components.data_preprocessing.DataPreprocessorChoice at 0x7f4763ca2610>,\n",
       "  'balancing': Balancing(random_state=1, strategy='weighting'),\n",
       "  'feature_preprocessor': <autosklearn.pipeline.components.feature_preprocessing.FeaturePreprocessorChoice at 0x7f4763c6f210>,\n",
       "  'classifier': <autosklearn.pipeline.components.classification.ClassifierChoice at 0x7f4763c6f990>,\n",
       "  'sklearn_classifier': ExtraTreesClassifier(bootstrap=True, max_features=2, min_samples_leaf=17,\n",
       "                       min_samples_split=20, n_estimators=512, n_jobs=1,\n",
       "                       random_state=1, warm_start=True)},\n",
       " 398: {'model_id': 398,\n",
       "  'rank': 19,\n",
       "  'cost': 0.07407407407407407,\n",
       "  'ensemble_weight': 0.04,\n",
       "  'data_preprocessor': <autosklearn.pipeline.components.data_preprocessing.DataPreprocessorChoice at 0x7f4763886610>,\n",
       "  'balancing': Balancing(random_state=1, strategy='weighting'),\n",
       "  'feature_preprocessor': <autosklearn.pipeline.components.feature_preprocessing.FeaturePreprocessorChoice at 0x7f4763853210>,\n",
       "  'classifier': <autosklearn.pipeline.components.classification.ClassifierChoice at 0x7f4763853990>,\n",
       "  'sklearn_classifier': ExtraTreesClassifier(bootstrap=True, max_features=2, min_samples_leaf=17,\n",
       "                       min_samples_split=20, n_estimators=512, n_jobs=1,\n",
       "                       random_state=1, warm_start=True)},\n",
       " 399: {'model_id': 399,\n",
       "  'rank': 20,\n",
       "  'cost': 0.07407407407407407,\n",
       "  'ensemble_weight': 0.02,\n",
       "  'data_preprocessor': <autosklearn.pipeline.components.data_preprocessing.DataPreprocessorChoice at 0x7f47634ec610>,\n",
       "  'balancing': Balancing(random_state=1, strategy='weighting'),\n",
       "  'feature_preprocessor': <autosklearn.pipeline.components.feature_preprocessing.FeaturePreprocessorChoice at 0x7f47634b9210>,\n",
       "  'classifier': <autosklearn.pipeline.components.classification.ClassifierChoice at 0x7f47634b99d0>,\n",
       "  'sklearn_classifier': ExtraTreesClassifier(bootstrap=True, criterion='entropy', max_features=2,\n",
       "                       min_samples_leaf=17, min_samples_split=8, n_estimators=512,\n",
       "                       n_jobs=1, random_state=1, warm_start=True)},\n",
       " 401: {'model_id': 401,\n",
       "  'rank': 21,\n",
       "  'cost': 0.07407407407407407,\n",
       "  'ensemble_weight': 0.02,\n",
       "  'data_preprocessor': <autosklearn.pipeline.components.data_preprocessing.DataPreprocessorChoice at 0x7f47630d4610>,\n",
       "  'balancing': Balancing(random_state=1, strategy='weighting'),\n",
       "  'feature_preprocessor': <autosklearn.pipeline.components.feature_preprocessing.FeaturePreprocessorChoice at 0x7f476309f210>,\n",
       "  'classifier': <autosklearn.pipeline.components.classification.ClassifierChoice at 0x7f476309f990>,\n",
       "  'sklearn_classifier': ExtraTreesClassifier(bootstrap=True, max_features=2, min_samples_leaf=16,\n",
       "                       min_samples_split=5, n_estimators=512, n_jobs=1,\n",
       "                       random_state=1, warm_start=True)},\n",
       " 403: {'model_id': 403,\n",
       "  'rank': 22,\n",
       "  'cost': 0.07407407407407407,\n",
       "  'ensemble_weight': 0.02,\n",
       "  'data_preprocessor': <autosklearn.pipeline.components.data_preprocessing.DataPreprocessorChoice at 0x7f4762d36f10>,\n",
       "  'balancing': Balancing(random_state=1, strategy='weighting'),\n",
       "  'feature_preprocessor': <autosklearn.pipeline.components.feature_preprocessing.FeaturePreprocessorChoice at 0x7f4762c7eb10>,\n",
       "  'classifier': <autosklearn.pipeline.components.classification.ClassifierChoice at 0x7f4762c8a2d0>,\n",
       "  'sklearn_classifier': ExtraTreesClassifier(bootstrap=True, criterion='entropy', max_features=2,\n",
       "                       min_samples_leaf=16, min_samples_split=4, n_estimators=512,\n",
       "                       n_jobs=1, random_state=1, warm_start=True)},\n",
       " 405: {'model_id': 405,\n",
       "  'rank': 23,\n",
       "  'cost': 0.07407407407407407,\n",
       "  'ensemble_weight': 0.02,\n",
       "  'data_preprocessor': <autosklearn.pipeline.components.data_preprocessing.DataPreprocessorChoice at 0x7f4762921850>,\n",
       "  'balancing': Balancing(random_state=1, strategy='weighting'),\n",
       "  'feature_preprocessor': <autosklearn.pipeline.components.feature_preprocessing.FeaturePreprocessorChoice at 0x7f47628ec450>,\n",
       "  'classifier': <autosklearn.pipeline.components.classification.ClassifierChoice at 0x7f47628ecc10>,\n",
       "  'sklearn_classifier': ExtraTreesClassifier(bootstrap=True, max_features=2, min_samples_leaf=17,\n",
       "                       min_samples_split=13, n_estimators=512, n_jobs=1,\n",
       "                       random_state=1, warm_start=True)},\n",
       " 407: {'model_id': 407,\n",
       "  'rank': 24,\n",
       "  'cost': 0.07407407407407407,\n",
       "  'ensemble_weight': 0.02,\n",
       "  'data_preprocessor': <autosklearn.pipeline.components.data_preprocessing.DataPreprocessorChoice at 0x7f4762505850>,\n",
       "  'balancing': Balancing(random_state=1, strategy='weighting'),\n",
       "  'feature_preprocessor': <autosklearn.pipeline.components.feature_preprocessing.FeaturePreprocessorChoice at 0x7f47624cf450>,\n",
       "  'classifier': <autosklearn.pipeline.components.classification.ClassifierChoice at 0x7f47624cfc10>,\n",
       "  'sklearn_classifier': ExtraTreesClassifier(bootstrap=True, criterion='entropy', max_features=2,\n",
       "                       min_samples_leaf=16, min_samples_split=15,\n",
       "                       n_estimators=512, n_jobs=1, random_state=1,\n",
       "                       warm_start=True)},\n",
       " 410: {'model_id': 410,\n",
       "  'rank': 25,\n",
       "  'cost': 0.07407407407407407,\n",
       "  'ensemble_weight': 0.04,\n",
       "  'data_preprocessor': <autosklearn.pipeline.components.data_preprocessing.DataPreprocessorChoice at 0x7f476216f190>,\n",
       "  'balancing': Balancing(random_state=1, strategy='weighting'),\n",
       "  'feature_preprocessor': <autosklearn.pipeline.components.feature_preprocessing.FeaturePreprocessorChoice at 0x7f476212ed50>,\n",
       "  'classifier': <autosklearn.pipeline.components.classification.ClassifierChoice at 0x7f476213b510>,\n",
       "  'sklearn_classifier': ExtraTreesClassifier(bootstrap=True, max_features=2, min_samples_leaf=16,\n",
       "                       min_samples_split=12, n_estimators=512, n_jobs=1,\n",
       "                       random_state=1, warm_start=True)},\n",
       " 412: {'model_id': 412,\n",
       "  'rank': 26,\n",
       "  'cost': 0.07407407407407407,\n",
       "  'ensemble_weight': 0.02,\n",
       "  'data_preprocessor': <autosklearn.pipeline.components.data_preprocessing.DataPreprocessorChoice at 0x7f4761d56a90>,\n",
       "  'balancing': Balancing(random_state=1, strategy='weighting'),\n",
       "  'feature_preprocessor': <autosklearn.pipeline.components.feature_preprocessing.FeaturePreprocessorChoice at 0x7f4761d1f690>,\n",
       "  'classifier': <autosklearn.pipeline.components.classification.ClassifierChoice at 0x7f4761d1fe10>,\n",
       "  'sklearn_classifier': ExtraTreesClassifier(bootstrap=True, max_features=2, min_samples_leaf=16,\n",
       "                       min_samples_split=11, n_estimators=512, n_jobs=1,\n",
       "                       random_state=1, warm_start=True)},\n",
       " 415: {'model_id': 415,\n",
       "  'rank': 27,\n",
       "  'cost': 0.07407407407407407,\n",
       "  'ensemble_weight': 0.04,\n",
       "  'data_preprocessor': <autosklearn.pipeline.components.data_preprocessing.DataPreprocessorChoice at 0x7f476193d3d0>,\n",
       "  'balancing': Balancing(random_state=1, strategy='weighting'),\n",
       "  'feature_preprocessor': <autosklearn.pipeline.components.feature_preprocessing.FeaturePreprocessorChoice at 0x7f4761977f90>,\n",
       "  'classifier': <autosklearn.pipeline.components.classification.ClassifierChoice at 0x7f476190b790>,\n",
       "  'sklearn_classifier': ExtraTreesClassifier(bootstrap=True, max_features=2, min_samples_leaf=16,\n",
       "                       min_samples_split=13, n_estimators=512, n_jobs=1,\n",
       "                       random_state=1, warm_start=True)},\n",
       " 420: {'model_id': 420,\n",
       "  'rank': 28,\n",
       "  'cost': 0.07407407407407407,\n",
       "  'ensemble_weight': 0.02,\n",
       "  'data_preprocessor': <autosklearn.pipeline.components.data_preprocessing.DataPreprocessorChoice at 0x7f47615a4cd0>,\n",
       "  'balancing': Balancing(random_state=1, strategy='weighting'),\n",
       "  'feature_preprocessor': <autosklearn.pipeline.components.feature_preprocessing.FeaturePreprocessorChoice at 0x7f47615678d0>,\n",
       "  'classifier': <autosklearn.pipeline.components.classification.ClassifierChoice at 0x7f4761567fd0>,\n",
       "  'sklearn_classifier': ExtraTreesClassifier(bootstrap=True, criterion='entropy', max_features=3,\n",
       "                       min_samples_leaf=16, min_samples_split=20,\n",
       "                       n_estimators=512, n_jobs=1, random_state=1,\n",
       "                       warm_start=True)},\n",
       " 428: {'model_id': 428,\n",
       "  'rank': 29,\n",
       "  'cost': 0.07407407407407407,\n",
       "  'ensemble_weight': 0.04,\n",
       "  'data_preprocessor': <autosklearn.pipeline.components.data_preprocessing.DataPreprocessorChoice at 0x7f476118c6d0>,\n",
       "  'balancing': Balancing(random_state=1, strategy='weighting'),\n",
       "  'feature_preprocessor': <autosklearn.pipeline.components.feature_preprocessing.FeaturePreprocessorChoice at 0x7f47611572d0>,\n",
       "  'classifier': <autosklearn.pipeline.components.classification.ClassifierChoice at 0x7f4761157a90>,\n",
       "  'sklearn_classifier': ExtraTreesClassifier(bootstrap=True, max_features=2, min_samples_leaf=17,\n",
       "                       min_samples_split=12, n_estimators=512, n_jobs=1,\n",
       "                       random_state=1, warm_start=True)},\n",
       " 435: {'model_id': 435,\n",
       "  'rank': 30,\n",
       "  'cost': 0.07407407407407407,\n",
       "  'ensemble_weight': 0.04,\n",
       "  'data_preprocessor': <autosklearn.pipeline.components.data_preprocessing.DataPreprocessorChoice at 0x7f4760dee6d0>,\n",
       "  'balancing': Balancing(random_state=1, strategy='weighting'),\n",
       "  'feature_preprocessor': <autosklearn.pipeline.components.feature_preprocessing.FeaturePreprocessorChoice at 0x7f4760d3d2d0>,\n",
       "  'classifier': <autosklearn.pipeline.components.classification.ClassifierChoice at 0x7f4760d3da50>,\n",
       "  'sklearn_classifier': ExtraTreesClassifier(bootstrap=True, criterion='entropy', max_features=2,\n",
       "                       min_samples_leaf=17, min_samples_split=10,\n",
       "                       n_estimators=512, n_jobs=1, random_state=1,\n",
       "                       warm_start=True)},\n",
       " 444: {'model_id': 444,\n",
       "  'rank': 31,\n",
       "  'cost': 0.07407407407407407,\n",
       "  'ensemble_weight': 0.02,\n",
       "  'data_preprocessor': <autosklearn.pipeline.components.data_preprocessing.DataPreprocessorChoice at 0x7f47609d46d0>,\n",
       "  'balancing': Balancing(random_state=1, strategy='weighting'),\n",
       "  'feature_preprocessor': <autosklearn.pipeline.components.feature_preprocessing.FeaturePreprocessorChoice at 0x7f47609a02d0>,\n",
       "  'classifier': <autosklearn.pipeline.components.classification.ClassifierChoice at 0x7f47609a0a90>,\n",
       "  'sklearn_classifier': ExtraTreesClassifier(bootstrap=True, max_features=2, min_samples_leaf=15,\n",
       "                       min_samples_split=14, n_estimators=512, n_jobs=1,\n",
       "                       random_state=1, warm_start=True)},\n",
       " 446: {'model_id': 446,\n",
       "  'rank': 32,\n",
       "  'cost': 0.07407407407407407,\n",
       "  'ensemble_weight': 0.04,\n",
       "  'data_preprocessor': <autosklearn.pipeline.components.data_preprocessing.DataPreprocessorChoice at 0x7f476063c890>,\n",
       "  'balancing': Balancing(random_state=1, strategy='weighting'),\n",
       "  'feature_preprocessor': <autosklearn.pipeline.components.feature_preprocessing.FeaturePreprocessorChoice at 0x7f4760586490>,\n",
       "  'classifier': <autosklearn.pipeline.components.classification.ClassifierChoice at 0x7f4760586c50>,\n",
       "  'sklearn_classifier': ExtraTreesClassifier(bootstrap=True, criterion='entropy', max_features=2,\n",
       "                       min_samples_leaf=17, min_samples_split=10,\n",
       "                       n_estimators=512, n_jobs=1, random_state=1,\n",
       "                       warm_start=True)}}"
      ]
     },
     "execution_count": 1,
     "metadata": {},
     "output_type": "execute_result"
    }
   ],
   "source": [
    "import pickle\n",
    "with open('./models/spect_heart_automl.pkl', 'rb') as f:\n",
    "    automl = pickle.load(f)\n",
    "\n",
    "automl.show_models()"
   ]
  },
  {
   "attachments": {},
   "cell_type": "markdown",
   "metadata": {},
   "source": [
    "# RANDOM FOREST"
   ]
  },
  {
   "cell_type": "code",
   "execution_count": 12,
   "metadata": {},
   "outputs": [],
   "source": [
    "import sklearn.ensemble\n",
    "\n",
    "model = sklearn.ensemble.RandomForestClassifier(n_estimators=100, n_jobs=5, random_state=42)\n",
    "model.fit(X_train, y_train)\n",
    "y_hat = model.predict(X_test)"
   ]
  },
  {
   "cell_type": "code",
   "execution_count": 13,
   "metadata": {},
   "outputs": [
    {
     "data": {
      "text/plain": [
       "0.7647058823529411"
      ]
     },
     "execution_count": 13,
     "metadata": {},
     "output_type": "execute_result"
    }
   ],
   "source": [
    "sklearn.metrics.accuracy_score(y_test, y_hat)"
   ]
  },
  {
   "attachments": {},
   "cell_type": "markdown",
   "metadata": {},
   "source": [
    "# SVC"
   ]
  },
  {
   "cell_type": "code",
   "execution_count": 13,
   "metadata": {},
   "outputs": [
    {
     "name": "stdout",
     "output_type": "stream",
     "text": [
      "Fitting 5 folds for each of 1000 candidates, totalling 5000 fits\n"
     ]
    },
    {
     "name": "stderr",
     "output_type": "stream",
     "text": [
      "/home/krish/anaconda3/envs/interpret/lib/python3.7/site-packages/sklearn/model_selection/_search.py:925: UserWarning: One or more of the test scores are non-finite: [0.7375    nan 0.625  0.7375 0.7375    nan 0.7    0.6875 0.7375    nan\n",
      " 0.6625 0.6625 0.7375    nan 0.6625 0.6625 0.7375    nan 0.6625 0.6625\n",
      " 0.7375    nan 0.625  0.7375 0.7375    nan 0.7    0.6875 0.7375    nan\n",
      " 0.6625 0.6625 0.7375    nan 0.6625 0.6625 0.7375    nan 0.6625 0.6625\n",
      " 0.7375    nan 0.625  0.7375 0.7375    nan 0.7    0.6875 0.7375    nan\n",
      " 0.6625 0.6625 0.7375    nan 0.6625 0.6625 0.7375    nan 0.6625 0.6625\n",
      " 0.7375    nan 0.625  0.7375 0.7375    nan 0.7    0.6875 0.7375    nan\n",
      " 0.6625 0.6625 0.7375    nan 0.6625 0.6625 0.7375    nan 0.6625 0.6625\n",
      " 0.7375    nan 0.625  0.7375 0.7375    nan 0.7    0.6875 0.7375    nan\n",
      " 0.6625 0.6625 0.7375    nan 0.6625 0.6625 0.7375    nan 0.6625 0.6625\n",
      " 0.7375    nan 0.625  0.7375 0.7375    nan 0.7    0.6875 0.7375    nan\n",
      " 0.6625 0.6625 0.7375    nan 0.6625 0.6625 0.7375    nan 0.6625 0.6625\n",
      " 0.7375    nan 0.625  0.7375 0.7375    nan 0.7    0.6875 0.7375    nan\n",
      " 0.6625 0.6625 0.7375    nan 0.6625 0.6625 0.7375    nan 0.6625 0.6625\n",
      " 0.7375    nan 0.625  0.7375 0.7375    nan 0.7    0.6875 0.7375    nan\n",
      " 0.6625 0.6625 0.7375    nan 0.6625 0.6625 0.7375    nan 0.6625 0.6625\n",
      " 0.7375    nan 0.625  0.7375 0.7375    nan 0.7    0.6875 0.7375    nan\n",
      " 0.6625 0.6625 0.7375    nan 0.6625 0.6625 0.7375    nan 0.6625 0.6625\n",
      " 0.7375    nan 0.625  0.7375 0.7375    nan 0.7    0.6875 0.7375    nan\n",
      " 0.6625 0.6625 0.7375    nan 0.6625 0.6625 0.7375    nan 0.6625 0.6625\n",
      " 0.6875    nan 0.725  0.5375 0.6875    nan 0.75   0.7375 0.6875    nan\n",
      " 0.65   0.6625 0.6875    nan 0.6625 0.6625 0.6875    nan 0.6625 0.6625\n",
      " 0.6875    nan 0.725  0.5375 0.6875    nan 0.75   0.7375 0.6875    nan\n",
      " 0.65   0.6625 0.6875    nan 0.6625 0.6625 0.6875    nan 0.6625 0.6625\n",
      " 0.6875    nan 0.725  0.5375 0.6875    nan 0.75   0.7375 0.6875    nan\n",
      " 0.65   0.6625 0.6875    nan 0.6625 0.6625 0.6875    nan 0.6625 0.6625\n",
      " 0.6875    nan 0.725  0.5375 0.6875    nan 0.75   0.7375 0.6875    nan\n",
      " 0.65   0.6625 0.6875    nan 0.6625 0.6625 0.6875    nan 0.6625 0.6625\n",
      " 0.6875    nan 0.725  0.5375 0.6875    nan 0.75   0.7375 0.6875    nan\n",
      " 0.65   0.6625 0.6875    nan 0.6625 0.6625 0.6875    nan 0.6625 0.6625\n",
      " 0.6875    nan 0.725  0.5375 0.6875    nan 0.75   0.7375 0.6875    nan\n",
      " 0.65   0.6625 0.6875    nan 0.6625 0.6625 0.6875    nan 0.6625 0.6625\n",
      " 0.6875    nan 0.725  0.5375 0.6875    nan 0.75   0.7375 0.6875    nan\n",
      " 0.65   0.6625 0.6875    nan 0.6625 0.6625 0.6875    nan 0.6625 0.6625\n",
      " 0.6875    nan 0.725  0.5375 0.6875    nan 0.75   0.7375 0.6875    nan\n",
      " 0.65   0.6625 0.6875    nan 0.6625 0.6625 0.6875    nan 0.6625 0.6625\n",
      " 0.6875    nan 0.725  0.5375 0.6875    nan 0.75   0.7375 0.6875    nan\n",
      " 0.65   0.6625 0.6875    nan 0.6625 0.6625 0.6875    nan 0.6625 0.6625\n",
      " 0.6875    nan 0.725  0.5375 0.6875    nan 0.75   0.7375 0.6875    nan\n",
      " 0.65   0.6625 0.6875    nan 0.6625 0.6625 0.6875    nan 0.6625 0.6625\n",
      " 0.65      nan 0.775  0.4875 0.65      nan 0.7    0.725  0.65      nan\n",
      " 0.75   0.7375 0.65      nan 0.6625 0.6625 0.65      nan 0.6625 0.6625\n",
      " 0.65      nan 0.775  0.4875 0.65      nan 0.7    0.725  0.65      nan\n",
      " 0.75   0.7375 0.65      nan 0.6625 0.6625 0.65      nan 0.6625 0.6625\n",
      " 0.65      nan 0.775  0.4875 0.65      nan 0.7    0.725  0.65      nan\n",
      " 0.75   0.7375 0.65      nan 0.6625 0.6625 0.65      nan 0.6625 0.6625\n",
      " 0.65      nan 0.775  0.4875 0.65      nan 0.7    0.725  0.65      nan\n",
      " 0.75   0.7375 0.65      nan 0.6625 0.6625 0.65      nan 0.6625 0.6625\n",
      " 0.65      nan 0.775  0.4875 0.65      nan 0.7    0.725  0.65      nan\n",
      " 0.75   0.7375 0.65      nan 0.6625 0.6625 0.65      nan 0.6625 0.6625\n",
      " 0.65      nan 0.775  0.4875 0.65      nan 0.7    0.725  0.65      nan\n",
      " 0.75   0.7375 0.65      nan 0.6625 0.6625 0.65      nan 0.6625 0.6625\n",
      " 0.65      nan 0.775  0.4875 0.65      nan 0.7    0.725  0.65      nan\n",
      " 0.75   0.7375 0.65      nan 0.6625 0.6625 0.65      nan 0.6625 0.6625\n",
      " 0.65      nan 0.775  0.4875 0.65      nan 0.7    0.725  0.65      nan\n",
      " 0.75   0.7375 0.65      nan 0.6625 0.6625 0.65      nan 0.6625 0.6625\n",
      " 0.65      nan 0.775  0.4875 0.65      nan 0.7    0.725  0.65      nan\n",
      " 0.75   0.7375 0.65      nan 0.6625 0.6625 0.65      nan 0.6625 0.6625\n",
      " 0.65      nan 0.775  0.4875 0.65      nan 0.7    0.725  0.65      nan\n",
      " 0.75   0.7375 0.65      nan 0.6625 0.6625 0.65      nan 0.6625 0.6625\n",
      " 0.65      nan 0.775  0.5    0.65      nan 0.6875 0.65   0.65      nan\n",
      " 0.6625 0.6875 0.65      nan 0.7625 0.7375 0.65      nan 0.6625 0.6625\n",
      " 0.65      nan 0.775  0.5    0.65      nan 0.6875 0.65   0.65      nan\n",
      " 0.6625 0.6875 0.65      nan 0.7625 0.7375 0.65      nan 0.6625 0.6625\n",
      " 0.65      nan 0.775  0.5    0.65      nan 0.6875 0.65   0.65      nan\n",
      " 0.6625 0.6875 0.65      nan 0.7625 0.7375 0.65      nan 0.6625 0.6625\n",
      " 0.65      nan 0.775  0.5    0.65      nan 0.6875 0.65   0.65      nan\n",
      " 0.6625 0.6875 0.65      nan 0.7625 0.7375 0.65      nan 0.6625 0.6625\n",
      " 0.65      nan 0.775  0.5    0.65      nan 0.6875 0.65   0.65      nan\n",
      " 0.6625 0.6875 0.65      nan 0.7625 0.7375 0.65      nan 0.6625 0.6625\n",
      " 0.65      nan 0.775  0.5    0.65      nan 0.6875 0.65   0.65      nan\n",
      " 0.6625 0.6875 0.65      nan 0.7625 0.7375 0.65      nan 0.6625 0.6625\n",
      " 0.65      nan 0.775  0.5    0.65      nan 0.6875 0.65   0.65      nan\n",
      " 0.6625 0.6875 0.65      nan 0.7625 0.7375 0.65      nan 0.6625 0.6625\n",
      " 0.65      nan 0.775  0.5    0.65      nan 0.6875 0.65   0.65      nan\n",
      " 0.6625 0.6875 0.65      nan 0.7625 0.7375 0.65      nan 0.6625 0.6625\n",
      " 0.65      nan 0.775  0.5    0.65      nan 0.6875 0.65   0.65      nan\n",
      " 0.6625 0.6875 0.65      nan 0.7625 0.7375 0.65      nan 0.6625 0.6625\n",
      " 0.65      nan 0.775  0.5    0.65      nan 0.6875 0.65   0.65      nan\n",
      " 0.6625 0.6875 0.65      nan 0.7625 0.7375 0.65      nan 0.6625 0.6625\n",
      " 0.65      nan 0.775  0.475  0.65      nan 0.6875 0.625  0.65      nan\n",
      " 0.6625 0.6375 0.65      nan 0.675  0.6875 0.65      nan 0.7625 0.7375\n",
      " 0.65      nan 0.775  0.475  0.65      nan 0.6875 0.625  0.65      nan\n",
      " 0.6625 0.6375 0.65      nan 0.675  0.6875 0.65      nan 0.7625 0.7375\n",
      " 0.65      nan 0.775  0.475  0.65      nan 0.6875 0.625  0.65      nan\n",
      " 0.6625 0.6375 0.65      nan 0.675  0.6875 0.65      nan 0.7625 0.7375\n",
      " 0.65      nan 0.775  0.475  0.65      nan 0.6875 0.625  0.65      nan\n",
      " 0.6625 0.6375 0.65      nan 0.675  0.6875 0.65      nan 0.7625 0.7375\n",
      " 0.65      nan 0.775  0.475  0.65      nan 0.6875 0.625  0.65      nan\n",
      " 0.6625 0.6375 0.65      nan 0.675  0.6875 0.65      nan 0.7625 0.7375\n",
      " 0.65      nan 0.775  0.475  0.65      nan 0.6875 0.625  0.65      nan\n",
      " 0.6625 0.6375 0.65      nan 0.675  0.6875 0.65      nan 0.7625 0.7375\n",
      " 0.65      nan 0.775  0.475  0.65      nan 0.6875 0.625  0.65      nan\n",
      " 0.6625 0.6375 0.65      nan 0.675  0.6875 0.65      nan 0.7625 0.7375\n",
      " 0.65      nan 0.775  0.475  0.65      nan 0.6875 0.625  0.65      nan\n",
      " 0.6625 0.6375 0.65      nan 0.675  0.6875 0.65      nan 0.7625 0.7375\n",
      " 0.65      nan 0.775  0.475  0.65      nan 0.6875 0.625  0.65      nan\n",
      " 0.6625 0.6375 0.65      nan 0.675  0.6875 0.65      nan 0.7625 0.7375\n",
      " 0.65      nan 0.775  0.475  0.65      nan 0.6875 0.625  0.65      nan\n",
      " 0.6625 0.6375 0.65      nan 0.675  0.6875 0.65      nan 0.7625 0.7375]\n",
      "  category=UserWarning\n"
     ]
    },
    {
     "data": {
      "text/plain": [
       "GridSearchCV(cv=5, estimator=SVC(random_state=42), n_jobs=5,\n",
       "             param_grid={'C': [0.1, 1, 10, 100, 1000],\n",
       "                         'degree': [1, 2, 3, 4, 5, 6, 7, 8, 9, 10],\n",
       "                         'gamma': [1, 0.1, 0.01, 0.001, 0.0001],\n",
       "                         'kernel': ['linear', 'ploy', 'rbf', 'sigmoid']},\n",
       "             verbose=3)"
      ]
     },
     "execution_count": 13,
     "metadata": {},
     "output_type": "execute_result"
    }
   ],
   "source": [
    "import sklearn.svm\n",
    "import sklearn.model_selection\n",
    "\n",
    "model = sklearn.svm.SVC(random_state=42)\n",
    "params = {'C': [0.1, 1, 10, 100, 1000], 'gamma': [1, 0.1, 0.01, 0.001, 0.0001], 'kernel': ['linear', 'ploy', 'rbf', 'sigmoid'], 'degree': [1, 2, 3, 4, 5, 6, 7, 8, 9, 10]}\n",
    "gridSearch = sklearn.model_selection.GridSearchCV(model, param_grid=params, cv=5, n_jobs=5, verbose=3)\n",
    "gridSearch.fit(X_train, y_train)"
   ]
  },
  {
   "cell_type": "code",
   "execution_count": 14,
   "metadata": {},
   "outputs": [
    {
     "data": {
      "text/plain": [
       "0.8449197860962567"
      ]
     },
     "execution_count": 14,
     "metadata": {},
     "output_type": "execute_result"
    }
   ],
   "source": [
    "y_hat = gridSearch.predict(X_test)\n",
    "sklearn.metrics.accuracy_score(y_test, y_hat)"
   ]
  },
  {
   "cell_type": "code",
   "execution_count": 11,
   "metadata": {},
   "outputs": [],
   "source": [
    "import pickle\n",
    "with open('./models/spect_heart_gridsearch.pkl', 'wb') as f:\n",
    "    pickle.dump(gridSearch, f)"
   ]
  },
  {
   "attachments": {},
   "cell_type": "markdown",
   "metadata": {},
   "source": [
    "# XGBOOST"
   ]
  },
  {
   "cell_type": "code",
   "execution_count": 20,
   "metadata": {},
   "outputs": [
    {
     "name": "stdout",
     "output_type": "stream",
     "text": [
      "[14:56:09] WARNING: ../src/learner.cc:627: \n",
      "Parameters: { \"n_estimators\", \"silent\" } might not be used.\n",
      "\n",
      "  This could be a false alarm, with some parameters getting used by language bindings but\n",
      "  then being mistakenly passed down to XGBoost core, or some parameter actually being used\n",
      "  but getting flagged wrongly here. Please open an issue if you find any such cases.\n",
      "\n",
      "\n",
      "[14:56:09] WARNING: ../src/learner.cc:627: \n",
      "Parameters: { \"n_estimators\", \"silent\" } might not be used.\n",
      "\n",
      "  This could be a false alarm, with some parameters getting used by language bindings but\n",
      "  then being mistakenly passed down to XGBoost core, or some parameter actually being used\n",
      "  but getting flagged wrongly here. Please open an issue if you find any such cases.\n",
      "\n",
      "\n",
      "[14:56:09] WARNING: ../src/learner.cc:627: \n",
      "Parameters: { \"n_estimators\", \"silent\" } might not be used.\n",
      "\n",
      "  This could be a false alarm, with some parameters getting used by language bindings but\n",
      "  then being mistakenly passed down to XGBoost core, or some parameter actually being used\n",
      "  but getting flagged wrongly here. Please open an issue if you find any such cases.\n",
      "\n",
      "\n",
      "[14:56:09] WARNING: ../src/learner.cc:627: \n",
      "Parameters: { \"n_estimators\", \"silent\" } might not be used.\n",
      "\n",
      "  This could be a false alarm, with some parameters getting used by language bindings but\n",
      "  then being mistakenly passed down to XGBoost core, or some parameter actually being used\n",
      "  but getting flagged wrongly here. Please open an issue if you find any such cases.\n",
      "\n",
      "\n",
      "[14:56:09] WARNING: ../src/learner.cc:627: \n",
      "Parameters: { \"n_estimators\", \"silent\" } might not be used.\n",
      "\n",
      "  This could be a false alarm, with some parameters getting used by language bindings but\n",
      "  then being mistakenly passed down to XGBoost core, or some parameter actually being used\n",
      "  but getting flagged wrongly here. Please open an issue if you find any such cases.\n",
      "\n",
      "\n"
     ]
    }
   ],
   "source": [
    "import xgboost\n",
    "\n",
    "xgb = xgboost.cv({'n_estimators': 1000, 'max_depth': 6, 'eta': 0.1, 'silent': 1, 'objective': 'binary:logistic', 'eval_metric': 'error'}, xgboost.DMatrix(X_train, y_train), num_boost_round=100, early_stopping_rounds=10, nfold=5)"
   ]
  },
  {
   "cell_type": "code",
   "execution_count": 21,
   "metadata": {},
   "outputs": [
    {
     "data": {
      "text/html": [
       "<div>\n",
       "<style scoped>\n",
       "    .dataframe tbody tr th:only-of-type {\n",
       "        vertical-align: middle;\n",
       "    }\n",
       "\n",
       "    .dataframe tbody tr th {\n",
       "        vertical-align: top;\n",
       "    }\n",
       "\n",
       "    .dataframe thead th {\n",
       "        text-align: right;\n",
       "    }\n",
       "</style>\n",
       "<table border=\"1\" class=\"dataframe\">\n",
       "  <thead>\n",
       "    <tr style=\"text-align: right;\">\n",
       "      <th></th>\n",
       "      <th>train-error-mean</th>\n",
       "      <th>train-error-std</th>\n",
       "      <th>test-error-mean</th>\n",
       "      <th>test-error-std</th>\n",
       "    </tr>\n",
       "  </thead>\n",
       "  <tbody>\n",
       "    <tr>\n",
       "      <th>0</th>\n",
       "      <td>0.187500</td>\n",
       "      <td>0.026146</td>\n",
       "      <td>0.4000</td>\n",
       "      <td>0.115920</td>\n",
       "    </tr>\n",
       "    <tr>\n",
       "      <th>1</th>\n",
       "      <td>0.184375</td>\n",
       "      <td>0.026882</td>\n",
       "      <td>0.3375</td>\n",
       "      <td>0.030619</td>\n",
       "    </tr>\n",
       "    <tr>\n",
       "      <th>2</th>\n",
       "      <td>0.187500</td>\n",
       "      <td>0.032775</td>\n",
       "      <td>0.3375</td>\n",
       "      <td>0.050000</td>\n",
       "    </tr>\n",
       "    <tr>\n",
       "      <th>3</th>\n",
       "      <td>0.178125</td>\n",
       "      <td>0.028980</td>\n",
       "      <td>0.3000</td>\n",
       "      <td>0.100000</td>\n",
       "    </tr>\n",
       "    <tr>\n",
       "      <th>4</th>\n",
       "      <td>0.168750</td>\n",
       "      <td>0.030298</td>\n",
       "      <td>0.2875</td>\n",
       "      <td>0.101550</td>\n",
       "    </tr>\n",
       "    <tr>\n",
       "      <th>5</th>\n",
       "      <td>0.175000</td>\n",
       "      <td>0.033366</td>\n",
       "      <td>0.2750</td>\n",
       "      <td>0.101550</td>\n",
       "    </tr>\n",
       "    <tr>\n",
       "      <th>6</th>\n",
       "      <td>0.171875</td>\n",
       "      <td>0.035630</td>\n",
       "      <td>0.2750</td>\n",
       "      <td>0.101550</td>\n",
       "    </tr>\n",
       "    <tr>\n",
       "      <th>7</th>\n",
       "      <td>0.168750</td>\n",
       "      <td>0.030298</td>\n",
       "      <td>0.2625</td>\n",
       "      <td>0.082916</td>\n",
       "    </tr>\n",
       "    <tr>\n",
       "      <th>8</th>\n",
       "      <td>0.171875</td>\n",
       "      <td>0.035630</td>\n",
       "      <td>0.2750</td>\n",
       "      <td>0.101550</td>\n",
       "    </tr>\n",
       "    <tr>\n",
       "      <th>9</th>\n",
       "      <td>0.159375</td>\n",
       "      <td>0.025000</td>\n",
       "      <td>0.2375</td>\n",
       "      <td>0.091856</td>\n",
       "    </tr>\n",
       "  </tbody>\n",
       "</table>\n",
       "</div>"
      ],
      "text/plain": [
       "   train-error-mean  train-error-std  test-error-mean  test-error-std\n",
       "0          0.187500         0.026146           0.4000        0.115920\n",
       "1          0.184375         0.026882           0.3375        0.030619\n",
       "2          0.187500         0.032775           0.3375        0.050000\n",
       "3          0.178125         0.028980           0.3000        0.100000\n",
       "4          0.168750         0.030298           0.2875        0.101550\n",
       "5          0.175000         0.033366           0.2750        0.101550\n",
       "6          0.171875         0.035630           0.2750        0.101550\n",
       "7          0.168750         0.030298           0.2625        0.082916\n",
       "8          0.171875         0.035630           0.2750        0.101550\n",
       "9          0.159375         0.025000           0.2375        0.091856"
      ]
     },
     "execution_count": 21,
     "metadata": {},
     "output_type": "execute_result"
    }
   ],
   "source": [
    "xgb"
   ]
  },
  {
   "cell_type": "code",
   "execution_count": 23,
   "metadata": {},
   "outputs": [],
   "source": [
    "model = xgboost.XGBClassifier(n_estimators=1000, max_depth=6, eta=0.1, silent=1, objective='binary:logistic', eval_metric='error')"
   ]
  },
  {
   "cell_type": "code",
   "execution_count": 24,
   "metadata": {},
   "outputs": [
    {
     "name": "stdout",
     "output_type": "stream",
     "text": [
      "[14:57:16] WARNING: ../src/learner.cc:627: \n",
      "Parameters: { \"silent\" } might not be used.\n",
      "\n",
      "  This could be a false alarm, with some parameters getting used by language bindings but\n",
      "  then being mistakenly passed down to XGBoost core, or some parameter actually being used\n",
      "  but getting flagged wrongly here. Please open an issue if you find any such cases.\n",
      "\n",
      "\n"
     ]
    },
    {
     "data": {
      "text/plain": [
       "0.679144385026738"
      ]
     },
     "execution_count": 24,
     "metadata": {},
     "output_type": "execute_result"
    }
   ],
   "source": [
    "model.fit(X_train, y_train)\n",
    "y_hat = model.predict(X_test)\n",
    "sklearn.metrics.accuracy_score(y_test, y_hat)"
   ]
  },
  {
   "attachments": {},
   "cell_type": "markdown",
   "metadata": {},
   "source": [
    "# LOAD MODEL"
   ]
  },
  {
   "cell_type": "code",
   "execution_count": 5,
   "metadata": {},
   "outputs": [
    {
     "name": "stderr",
     "output_type": "stream",
     "text": [
      "/home/krish/anaconda3/envs/interpret/lib/python3.7/site-packages/sklearn/base.py:315: UserWarning: Trying to unpickle estimator SVC from version 1.2.2 when using version 0.24.2. This might lead to breaking code or invalid results. Use at your own risk.\n",
      "  UserWarning)\n",
      "/home/krish/anaconda3/envs/interpret/lib/python3.7/site-packages/sklearn/base.py:315: UserWarning: Trying to unpickle estimator GridSearchCV from version 1.2.2 when using version 0.24.2. This might lead to breaking code or invalid results. Use at your own risk.\n",
      "  UserWarning)\n"
     ]
    }
   ],
   "source": [
    "import pickle\n",
    "with open('./models/spect_heart_gridsearch.pkl', 'rb') as f:\n",
    "    model = pickle.load(f)"
   ]
  },
  {
   "attachments": {},
   "cell_type": "markdown",
   "metadata": {},
   "source": [
    "# CIU"
   ]
  },
  {
   "cell_type": "code",
   "execution_count": 6,
   "metadata": {},
   "outputs": [],
   "source": [
    "from ciu import determine_ciu\n",
    "import tqdm\n",
    "import metrics"
   ]
  },
  {
   "cell_type": "code",
   "execution_count": 7,
   "metadata": {},
   "outputs": [],
   "source": [
    "def enc_exp(exp, feature_num):\n",
    "    enc_exp = np.zeros((len(exp),feature_num))\n",
    "    for i in range(len(exp)):\n",
    "        for j in range(len(exp[i])):\n",
    "            enc_exp[i][int(exp[i,j,0])] = exp[i,j,1]\n",
    "    return enc_exp"
   ]
  },
  {
   "cell_type": "code",
   "execution_count": 8,
   "metadata": {},
   "outputs": [],
   "source": [
    "feat_list = X_train.columns.tolist()"
   ]
  },
  {
   "cell_type": "code",
   "execution_count": 9,
   "metadata": {},
   "outputs": [],
   "source": [
    "def exp_fn_blk(xtest):\n",
    "    exp1 = []\n",
    "    for i in tqdm.tqdm(range(len(xtest))):\n",
    "        exp = determine_ciu(X_test.iloc[i:i+1], model.predict_proba, X_train.to_dict('list'), samples = 1000, prediction_index = 1)\n",
    "        exp_list = [[feat_list.index(i), exp.ci[i]] for i in exp.ci]\n",
    "        exp1.append(exp_list)\n",
    "    return np.array(exp1)"
   ]
  },
  {
   "cell_type": "code",
   "execution_count": 10,
   "metadata": {},
   "outputs": [
    {
     "name": "stderr",
     "output_type": "stream",
     "text": [
      "100%|██████████| 187/187 [00:43<00:00,  4.33it/s]\n",
      "100%|██████████| 187/187 [00:46<00:00,  4.05it/s]\n"
     ]
    }
   ],
   "source": [
    "exp1 = exp_fn_blk(X_test)\n",
    "exp2 = exp_fn_blk(X_test)"
   ]
  },
  {
   "cell_type": "code",
   "execution_count": 12,
   "metadata": {},
   "outputs": [],
   "source": [
    "np.save('./explanations/spect_hear_ciu1.npy', exp1)\n",
    "np.save('./explanations/spect_hear_ciu2.npy', exp2)"
   ]
  },
  {
   "cell_type": "code",
   "execution_count": 13,
   "metadata": {},
   "outputs": [
    {
     "name": "stderr",
     "output_type": "stream",
     "text": [
      "/home/krish/anaconda3/envs/interpret/lib/python3.7/site-packages/sklearn/cluster/_kmeans.py:984: RuntimeWarning: Explicit initial center position passed: performing only one init in KMeans instead of n_init=10.\n",
      "  self._check_params(X)\n"
     ]
    }
   ],
   "source": [
    "i = metrics.calc_identity(exp1, exp2)\n",
    "s = metrics.calc_separability(exp1)\n",
    "enc1 = enc_exp(exp1, len(feat_list))\n",
    "sb = metrics.calc_stability(enc1, y_test)"
   ]
  },
  {
   "cell_type": "code",
   "execution_count": 14,
   "metadata": {},
   "outputs": [
    {
     "data": {
      "text/plain": [
       "((100.0, 0, 187), (0, 187, 34969, 0.0), (21, 187))"
      ]
     },
     "execution_count": 14,
     "metadata": {},
     "output_type": "execute_result"
    }
   ],
   "source": [
    "i, s, sb"
   ]
  },
  {
   "cell_type": "code",
   "execution_count": 15,
   "metadata": {},
   "outputs": [],
   "source": [
    "X_test_norm = metrics.normalize_test(X_train, X_test)\n",
    "sim = metrics.calc_similarity(exp1, X_test_norm)"
   ]
  },
  {
   "cell_type": "code",
   "execution_count": 16,
   "metadata": {},
   "outputs": [
    {
     "data": {
      "text/plain": [
       "0.0037571007712553744"
      ]
     },
     "execution_count": 16,
     "metadata": {},
     "output_type": "execute_result"
    }
   ],
   "source": [
    "sim"
   ]
  },
  {
   "cell_type": "code",
   "execution_count": 17,
   "metadata": {},
   "outputs": [
    {
     "name": "stderr",
     "output_type": "stream",
     "text": [
      "100%|██████████| 187/187 [00:03<00:00, 53.18it/s]\n"
     ]
    }
   ],
   "source": [
    "list_monotonicity = []\n",
    "list_non_sensitivity = []\n",
    "list_effective_complexity = []\n",
    "\n",
    "for i in tqdm.tqdm(range(len(X_test))):\n",
    "    atr = exp1[i]\n",
    "    sorted_atr = [j for i,j in atr]\n",
    "    sorted_feat = [i for i,j in atr]\n",
    "    y = np.zeros(2, dtype=int)\n",
    "    np.put(y, y_test.iloc[i], 1)\n",
    "    example = metrics.FeatureAttribution(model, X_test.to_numpy()[i], y, sorted_atr)\n",
    "    list_monotonicity.append(example.monotonicity())\n",
    "    list_non_sensitivity.append(example.non_sensitivity())\n",
    "    list_effective_complexity.append(example.effective_complexity(sorted_feat, 0.1))"
   ]
  },
  {
   "cell_type": "code",
   "execution_count": 18,
   "metadata": {},
   "outputs": [
    {
     "name": "stdout",
     "output_type": "stream",
     "text": [
      "0.22138943677544293\n",
      "0.0\n",
      "0.0\n",
      "0.15979672501411638\n",
      "0.0\n",
      "0.0\n"
     ]
    }
   ],
   "source": [
    "print(np.mean(list_monotonicity))\n",
    "print(np.mean(list_non_sensitivity))\n",
    "print(np.mean(list_effective_complexity))\n",
    "\n",
    "print(np.median(list_monotonicity))\n",
    "print(np.median(list_non_sensitivity))\n",
    "print(np.median(list_effective_complexity))"
   ]
  },
  {
   "cell_type": "code",
   "execution_count": 19,
   "metadata": {},
   "outputs": [
    {
     "name": "stderr",
     "output_type": "stream",
     "text": [
      "100%|██████████| 187/187 [00:01<00:00, 122.94it/s]\n"
     ]
    },
    {
     "data": {
      "text/plain": [
       "0.2691622103386809"
      ]
     },
     "execution_count": 19,
     "metadata": {},
     "output_type": "execute_result"
    }
   ],
   "source": [
    "metrics.calc_trust_score(model, X_test.to_numpy(), exp1, 3, X_train.columns.to_list())"
   ]
  },
  {
   "attachments": {},
   "cell_type": "markdown",
   "metadata": {},
   "source": [
    "# RULEFIT"
   ]
  },
  {
   "cell_type": "code",
   "execution_count": 4,
   "metadata": {},
   "outputs": [],
   "source": [
    "from skrules import SkopeRules\n",
    "import metrics_rules\n",
    "import time"
   ]
  },
  {
   "cell_type": "code",
   "execution_count": 5,
   "metadata": {},
   "outputs": [],
   "source": [
    "clf = SkopeRules(max_depth_duplication=2,\n",
    "                    n_estimators=512,\n",
    "                    precision_min=0.3,\n",
    "                    recall_min=0.1,\n",
    "                    feature_names=X_train.columns.tolist())"
   ]
  },
  {
   "cell_type": "code",
   "execution_count": 6,
   "metadata": {},
   "outputs": [
    {
     "name": "stdout",
     "output_type": "stream",
     "text": [
      "--- 12.452015161514282 seconds ---\n"
     ]
    }
   ],
   "source": [
    "start_time = time.time()\n",
    "clf.fit(X_train, y_train)\n",
    "print(\"--- %s seconds ---\" % (time.time() - start_time))"
   ]
  },
  {
   "cell_type": "code",
   "execution_count": 7,
   "metadata": {},
   "outputs": [
    {
     "name": "stdout",
     "output_type": "stream",
     "text": [
      "--- 0.08147931098937988 seconds ---\n"
     ]
    }
   ],
   "source": [
    "start_time = time.time()\n",
    "top_rules1 = clf.score_top_rules(X_test)\n",
    "top_rules2 = clf.score_top_rules(X_test)\n",
    "print(\"--- %s seconds ---\" % (time.time() - start_time))"
   ]
  },
  {
   "cell_type": "code",
   "execution_count": 8,
   "metadata": {},
   "outputs": [
    {
     "name": "stdout",
     "output_type": "stream",
     "text": [
      "(0.0, 187, 187)\n",
      "(11358, 187, 34969, 32.48019674568904)\n",
      "(68, 187)\n"
     ]
    },
    {
     "name": "stderr",
     "output_type": "stream",
     "text": [
      "/home/krish/anaconda3/envs/interpret/lib/python3.7/site-packages/sklearn/cluster/_kmeans.py:984: RuntimeWarning: Explicit initial center position passed: performing only one init in KMeans instead of n_init=10.\n",
      "  self._check_params(X)\n"
     ]
    }
   ],
   "source": [
    "i = metrics_rules.calc_identity_rules(top_rules1, top_rules2)\n",
    "print(i)\n",
    "\n",
    "s = metrics_rules.calc_separability_rules(top_rules1)\n",
    "print(s)\n",
    "\n",
    "enc_rules = metrics_rules.exp_enc(clf, top_rules1)\n",
    "sb = metrics_rules.calc_stability_rules(enc_rules, y_test)\n",
    "print(sb)"
   ]
  },
  {
   "cell_type": "code",
   "execution_count": 9,
   "metadata": {},
   "outputs": [
    {
     "name": "stdout",
     "output_type": "stream",
     "text": [
      "0.0\n"
     ]
    }
   ],
   "source": [
    "X_test_norm = metrics_rules.normalize_test(X_train, X_test)\n",
    "sim = metrics_rules.calc_similarity(enc_rules, X_test_norm)\n",
    "print(sim)"
   ]
  }
 ],
 "metadata": {
  "kernelspec": {
   "display_name": "interpret",
   "language": "python",
   "name": "python3"
  },
  "language_info": {
   "codemirror_mode": {
    "name": "ipython",
    "version": 3
   },
   "file_extension": ".py",
   "mimetype": "text/x-python",
   "name": "python",
   "nbconvert_exporter": "python",
   "pygments_lexer": "ipython3",
   "version": "3.7.16"
  },
  "orig_nbformat": 4
 },
 "nbformat": 4,
 "nbformat_minor": 2
}
