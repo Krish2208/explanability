{
 "cells": [
  {
   "cell_type": "code",
   "execution_count": 1,
   "metadata": {},
   "outputs": [
    {
     "ename": "FileNotFoundError",
     "evalue": "https://archive.ics.uci.edu/ml/machine-learning-databases/adult/adult.data not found.",
     "output_type": "error",
     "traceback": [
      "\u001b[1;31m---------------------------------------------------------------------------\u001b[0m",
      "\u001b[1;31mFileNotFoundError\u001b[0m                         Traceback (most recent call last)",
      "Cell \u001b[1;32mIn[1], line 5\u001b[0m\n\u001b[0;32m      2\u001b[0m \u001b[39mfrom\u001b[39;00m \u001b[39mdice_ml\u001b[39;00m\u001b[39m.\u001b[39;00m\u001b[39mutils\u001b[39;00m \u001b[39mimport\u001b[39;00m helpers \u001b[39m# helper functions\u001b[39;00m\n\u001b[0;32m      3\u001b[0m \u001b[39mfrom\u001b[39;00m \u001b[39msklearn\u001b[39;00m\u001b[39m.\u001b[39;00m\u001b[39mmodel_selection\u001b[39;00m \u001b[39mimport\u001b[39;00m train_test_split\n\u001b[1;32m----> 5\u001b[0m dataset \u001b[39m=\u001b[39m helpers\u001b[39m.\u001b[39;49mload_adult_income_dataset()\n\u001b[0;32m      6\u001b[0m target \u001b[39m=\u001b[39m dataset[\u001b[39m\"\u001b[39m\u001b[39mincome\u001b[39m\u001b[39m\"\u001b[39m] \u001b[39m# outcome variable\u001b[39;00m\n\u001b[0;32m      7\u001b[0m train_dataset, test_dataset, _, _ \u001b[39m=\u001b[39m train_test_split(dataset,\n\u001b[0;32m      8\u001b[0m                                                      target,\n\u001b[0;32m      9\u001b[0m                                                      test_size\u001b[39m=\u001b[39m\u001b[39m0.2\u001b[39m,\n\u001b[0;32m     10\u001b[0m                                                      random_state\u001b[39m=\u001b[39m\u001b[39m0\u001b[39m,\n\u001b[0;32m     11\u001b[0m                                                      stratify\u001b[39m=\u001b[39mtarget)\n",
      "File \u001b[1;32md:\\Anaconda\\envs\\interpret\\lib\\site-packages\\dice_ml\\utils\\helpers.py:25\u001b[0m, in \u001b[0;36mload_adult_income_dataset\u001b[1;34m(only_train)\u001b[0m\n\u001b[0;32m     19\u001b[0m \u001b[39mdef\u001b[39;00m \u001b[39mload_adult_income_dataset\u001b[39m(only_train\u001b[39m=\u001b[39m\u001b[39mTrue\u001b[39;00m):\n\u001b[0;32m     20\u001b[0m \u001b[39m    \u001b[39m\u001b[39m\"\"\"Loads adult income dataset from https://archive.ics.uci.edu/ml/datasets/Adult and prepares\u001b[39;00m\n\u001b[0;32m     21\u001b[0m \u001b[39m       the data for data analysis based on https://rpubs.com/H_Zhu/235617\u001b[39;00m\n\u001b[0;32m     22\u001b[0m \n\u001b[0;32m     23\u001b[0m \u001b[39m    :return adult_data: returns preprocessed adult income dataset.\u001b[39;00m\n\u001b[0;32m     24\u001b[0m \u001b[39m    \"\"\"\u001b[39;00m\n\u001b[1;32m---> 25\u001b[0m     raw_data \u001b[39m=\u001b[39m np\u001b[39m.\u001b[39;49mgenfromtxt(\u001b[39m'\u001b[39;49m\u001b[39mhttps://archive.ics.uci.edu/ml/machine-learning-databases/adult/adult.data\u001b[39;49m\u001b[39m'\u001b[39;49m,\n\u001b[0;32m     26\u001b[0m                              delimiter\u001b[39m=\u001b[39;49m\u001b[39m'\u001b[39;49m\u001b[39m, \u001b[39;49m\u001b[39m'\u001b[39;49m, dtype\u001b[39m=\u001b[39;49m\u001b[39mstr\u001b[39;49m, invalid_raise\u001b[39m=\u001b[39;49m\u001b[39mFalse\u001b[39;49;00m)\n\u001b[0;32m     28\u001b[0m     \u001b[39m#  column names from \"https://archive.ics.uci.edu/ml/datasets/Adult\"\u001b[39;00m\n\u001b[0;32m     29\u001b[0m     column_names \u001b[39m=\u001b[39m [\u001b[39m'\u001b[39m\u001b[39mage\u001b[39m\u001b[39m'\u001b[39m, \u001b[39m'\u001b[39m\u001b[39mworkclass\u001b[39m\u001b[39m'\u001b[39m, \u001b[39m'\u001b[39m\u001b[39mfnlwgt\u001b[39m\u001b[39m'\u001b[39m, \u001b[39m'\u001b[39m\u001b[39meducation\u001b[39m\u001b[39m'\u001b[39m, \u001b[39m'\u001b[39m\u001b[39meducational-num\u001b[39m\u001b[39m'\u001b[39m, \u001b[39m'\u001b[39m\u001b[39mmarital-status\u001b[39m\u001b[39m'\u001b[39m, \u001b[39m'\u001b[39m\u001b[39moccupation\u001b[39m\u001b[39m'\u001b[39m,\n\u001b[0;32m     30\u001b[0m                     \u001b[39m'\u001b[39m\u001b[39mrelationship\u001b[39m\u001b[39m'\u001b[39m, \u001b[39m'\u001b[39m\u001b[39mrace\u001b[39m\u001b[39m'\u001b[39m, \u001b[39m'\u001b[39m\u001b[39mgender\u001b[39m\u001b[39m'\u001b[39m, \u001b[39m'\u001b[39m\u001b[39mcapital-gain\u001b[39m\u001b[39m'\u001b[39m, \u001b[39m'\u001b[39m\u001b[39mcapital-loss\u001b[39m\u001b[39m'\u001b[39m, \u001b[39m'\u001b[39m\u001b[39mhours-per-week\u001b[39m\u001b[39m'\u001b[39m, \u001b[39m'\u001b[39m\u001b[39mnative-country\u001b[39m\u001b[39m'\u001b[39m,\n\u001b[0;32m     31\u001b[0m                     \u001b[39m'\u001b[39m\u001b[39mincome\u001b[39m\u001b[39m'\u001b[39m]\n",
      "File \u001b[1;32md:\\Anaconda\\envs\\interpret\\lib\\site-packages\\numpy\\lib\\npyio.py:1977\u001b[0m, in \u001b[0;36mgenfromtxt\u001b[1;34m(fname, dtype, comments, delimiter, skip_header, skip_footer, converters, missing_values, filling_values, usecols, names, excludelist, deletechars, replace_space, autostrip, case_sensitive, defaultfmt, unpack, usemask, loose, invalid_raise, max_rows, encoding, ndmin, like)\u001b[0m\n\u001b[0;32m   1975\u001b[0m     fname \u001b[39m=\u001b[39m os_fspath(fname)\n\u001b[0;32m   1976\u001b[0m \u001b[39mif\u001b[39;00m \u001b[39misinstance\u001b[39m(fname, \u001b[39mstr\u001b[39m):\n\u001b[1;32m-> 1977\u001b[0m     fid \u001b[39m=\u001b[39m np\u001b[39m.\u001b[39mlib\u001b[39m.\u001b[39m_datasource\u001b[39m.\u001b[39mopen(fname, \u001b[39m'\u001b[39m\u001b[39mrt\u001b[39m\u001b[39m'\u001b[39m, encoding\u001b[39m=\u001b[39mencoding)\n\u001b[0;32m   1978\u001b[0m     fid_ctx \u001b[39m=\u001b[39m contextlib\u001b[39m.\u001b[39mclosing(fid)\n\u001b[0;32m   1979\u001b[0m \u001b[39melse\u001b[39;00m:\n",
      "File \u001b[1;32md:\\Anaconda\\envs\\interpret\\lib\\site-packages\\numpy\\lib\\_datasource.py:193\u001b[0m, in \u001b[0;36mopen\u001b[1;34m(path, mode, destpath, encoding, newline)\u001b[0m\n\u001b[0;32m    156\u001b[0m \u001b[39m\u001b[39m\u001b[39m\"\"\"\u001b[39;00m\n\u001b[0;32m    157\u001b[0m \u001b[39mOpen `path` with `mode` and return the file object.\u001b[39;00m\n\u001b[0;32m    158\u001b[0m \n\u001b[1;32m   (...)\u001b[0m\n\u001b[0;32m    189\u001b[0m \n\u001b[0;32m    190\u001b[0m \u001b[39m\"\"\"\u001b[39;00m\n\u001b[0;32m    192\u001b[0m ds \u001b[39m=\u001b[39m DataSource(destpath)\n\u001b[1;32m--> 193\u001b[0m \u001b[39mreturn\u001b[39;00m ds\u001b[39m.\u001b[39;49mopen(path, mode, encoding\u001b[39m=\u001b[39;49mencoding, newline\u001b[39m=\u001b[39;49mnewline)\n",
      "File \u001b[1;32md:\\Anaconda\\envs\\interpret\\lib\\site-packages\\numpy\\lib\\_datasource.py:533\u001b[0m, in \u001b[0;36mDataSource.open\u001b[1;34m(self, path, mode, encoding, newline)\u001b[0m\n\u001b[0;32m    530\u001b[0m     \u001b[39mreturn\u001b[39;00m _file_openers[ext](found, mode\u001b[39m=\u001b[39mmode,\n\u001b[0;32m    531\u001b[0m                               encoding\u001b[39m=\u001b[39mencoding, newline\u001b[39m=\u001b[39mnewline)\n\u001b[0;32m    532\u001b[0m \u001b[39melse\u001b[39;00m:\n\u001b[1;32m--> 533\u001b[0m     \u001b[39mraise\u001b[39;00m \u001b[39mFileNotFoundError\u001b[39;00m(\u001b[39mf\u001b[39m\u001b[39m\"\u001b[39m\u001b[39m{\u001b[39;00mpath\u001b[39m}\u001b[39;00m\u001b[39m not found.\u001b[39m\u001b[39m\"\u001b[39m)\n",
      "\u001b[1;31mFileNotFoundError\u001b[0m: https://archive.ics.uci.edu/ml/machine-learning-databases/adult/adult.data not found."
     ]
    }
   ],
   "source": [
    "import dice_ml\n",
    "from dice_ml.utils import helpers # helper functions\n",
    "from sklearn.model_selection import train_test_split\n",
    "\n",
    "dataset = helpers.load_adult_income_dataset()\n",
    "target = dataset[\"income\"] # outcome variable\n",
    "train_dataset, test_dataset, _, _ = train_test_split(dataset,\n",
    "                                                     target,\n",
    "                                                     test_size=0.2,\n",
    "                                                     random_state=0,\n",
    "                                                     stratify=target)"
   ]
  },
  {
   "cell_type": "code",
   "execution_count": null,
   "metadata": {},
   "outputs": [],
   "source": [
    "d = dice_ml.Data(dataframe=train_dataset,\n",
    "                 continuous_features=['age', 'hours_per_week'],\n",
    "                 outcome_name='income')"
   ]
  },
  {
   "cell_type": "code",
   "execution_count": null,
   "metadata": {},
   "outputs": [],
   "source": [
    "m = dice_ml.Model(model_path=dice_ml.utils.helpers.get_adult_income_modelpath(),backend='TF2', func=\"ohe-min-max\")"
   ]
  },
  {
   "cell_type": "code",
   "execution_count": null,
   "metadata": {},
   "outputs": [],
   "source": [
    "exp = dice_ml.Dice(d,m)"
   ]
  },
  {
   "cell_type": "code",
   "execution_count": null,
   "metadata": {},
   "outputs": [
    {
     "name": "stderr",
     "output_type": "stream",
     "text": [
      "100%|██████████| 1/1 [00:01<00:00,  1.81s/it]"
     ]
    },
    {
     "name": "stdout",
     "output_type": "stream",
     "text": [
      "Query instance (original outcome : 0)\n"
     ]
    },
    {
     "name": "stderr",
     "output_type": "stream",
     "text": [
      "\n"
     ]
    },
    {
     "data": {
      "text/html": [
       "<div>\n",
       "<style scoped>\n",
       "    .dataframe tbody tr th:only-of-type {\n",
       "        vertical-align: middle;\n",
       "    }\n",
       "\n",
       "    .dataframe tbody tr th {\n",
       "        vertical-align: top;\n",
       "    }\n",
       "\n",
       "    .dataframe thead th {\n",
       "        text-align: right;\n",
       "    }\n",
       "</style>\n",
       "<table border=\"1\" class=\"dataframe\">\n",
       "  <thead>\n",
       "    <tr style=\"text-align: right;\">\n",
       "      <th></th>\n",
       "      <th>age</th>\n",
       "      <th>workclass</th>\n",
       "      <th>education</th>\n",
       "      <th>marital_status</th>\n",
       "      <th>occupation</th>\n",
       "      <th>race</th>\n",
       "      <th>gender</th>\n",
       "      <th>hours_per_week</th>\n",
       "      <th>income</th>\n",
       "    </tr>\n",
       "  </thead>\n",
       "  <tbody>\n",
       "    <tr>\n",
       "      <th>0</th>\n",
       "      <td>29</td>\n",
       "      <td>Private</td>\n",
       "      <td>HS-grad</td>\n",
       "      <td>Married</td>\n",
       "      <td>Blue-Collar</td>\n",
       "      <td>White</td>\n",
       "      <td>Female</td>\n",
       "      <td>38</td>\n",
       "      <td>0</td>\n",
       "    </tr>\n",
       "  </tbody>\n",
       "</table>\n",
       "</div>"
      ],
      "text/plain": [
       "   age workclass education marital_status   occupation   race  gender   \n",
       "0   29   Private   HS-grad        Married  Blue-Collar  White  Female  \\\n",
       "\n",
       "   hours_per_week  income  \n",
       "0              38       0  "
      ]
     },
     "metadata": {},
     "output_type": "display_data"
    },
    {
     "name": "stdout",
     "output_type": "stream",
     "text": [
      "\n",
      "Diverse Counterfactual set (new outcome: 1.0)\n"
     ]
    },
    {
     "data": {
      "text/html": [
       "<div>\n",
       "<style scoped>\n",
       "    .dataframe tbody tr th:only-of-type {\n",
       "        vertical-align: middle;\n",
       "    }\n",
       "\n",
       "    .dataframe tbody tr th {\n",
       "        vertical-align: top;\n",
       "    }\n",
       "\n",
       "    .dataframe thead th {\n",
       "        text-align: right;\n",
       "    }\n",
       "</style>\n",
       "<table border=\"1\" class=\"dataframe\">\n",
       "  <thead>\n",
       "    <tr style=\"text-align: right;\">\n",
       "      <th></th>\n",
       "      <th>age</th>\n",
       "      <th>workclass</th>\n",
       "      <th>education</th>\n",
       "      <th>marital_status</th>\n",
       "      <th>occupation</th>\n",
       "      <th>race</th>\n",
       "      <th>gender</th>\n",
       "      <th>hours_per_week</th>\n",
       "      <th>income</th>\n",
       "    </tr>\n",
       "  </thead>\n",
       "  <tbody>\n",
       "    <tr>\n",
       "      <th>0</th>\n",
       "      <td>29</td>\n",
       "      <td>Private</td>\n",
       "      <td>Masters</td>\n",
       "      <td>Married</td>\n",
       "      <td>Blue-Collar</td>\n",
       "      <td>White</td>\n",
       "      <td>Female</td>\n",
       "      <td>38</td>\n",
       "      <td>1</td>\n",
       "    </tr>\n",
       "    <tr>\n",
       "      <th>1</th>\n",
       "      <td>29</td>\n",
       "      <td>Private</td>\n",
       "      <td>Prof-school</td>\n",
       "      <td>Married</td>\n",
       "      <td>Blue-Collar</td>\n",
       "      <td>White</td>\n",
       "      <td>Female</td>\n",
       "      <td>38</td>\n",
       "      <td>1</td>\n",
       "    </tr>\n",
       "    <tr>\n",
       "      <th>2</th>\n",
       "      <td>64.0</td>\n",
       "      <td>Private</td>\n",
       "      <td>Assoc</td>\n",
       "      <td>Married</td>\n",
       "      <td>Blue-Collar</td>\n",
       "      <td>White</td>\n",
       "      <td>Female</td>\n",
       "      <td>38</td>\n",
       "      <td>1</td>\n",
       "    </tr>\n",
       "    <tr>\n",
       "      <th>3</th>\n",
       "      <td>40.0</td>\n",
       "      <td>Private</td>\n",
       "      <td>HS-grad</td>\n",
       "      <td>Married</td>\n",
       "      <td>Professional</td>\n",
       "      <td>White</td>\n",
       "      <td>Female</td>\n",
       "      <td>38</td>\n",
       "      <td>1</td>\n",
       "    </tr>\n",
       "  </tbody>\n",
       "</table>\n",
       "</div>"
      ],
      "text/plain": [
       "    age workclass    education marital_status    occupation   race  gender   \n",
       "0    29   Private      Masters        Married   Blue-Collar  White  Female  \\\n",
       "1    29   Private  Prof-school        Married   Blue-Collar  White  Female   \n",
       "2  64.0   Private        Assoc        Married   Blue-Collar  White  Female   \n",
       "3  40.0   Private      HS-grad        Married  Professional  White  Female   \n",
       "\n",
       "  hours_per_week  income  \n",
       "0             38       1  \n",
       "1             38       1  \n",
       "2             38       1  \n",
       "3             38       1  "
      ]
     },
     "metadata": {},
     "output_type": "display_data"
    }
   ],
   "source": [
    "# Generate counterfactual examples\n",
    "query_instance = test_dataset.drop(columns=\"income\")[0:1]\n",
    "dice_exp = exp.generate_counterfactuals(query_instance, total_CFs=4, desired_class=\"opposite\")\n",
    "# Visualize counterfactual explanation\n",
    "dice_exp.visualize_as_dataframe()"
   ]
  },
  {
   "cell_type": "code",
   "execution_count": 27,
   "metadata": {},
   "outputs": [
    {
     "name": "stderr",
     "output_type": "stream",
     "text": [
      "100%|██████████| 1/1 [00:03<00:00,  3.20s/it]\n"
     ]
    }
   ],
   "source": [
    "imp = exp.local_feature_importance(query_instance, total_CFs=10)"
   ]
  },
  {
   "cell_type": "code",
   "execution_count": 29,
   "metadata": {},
   "outputs": [
    {
     "data": {
      "text/plain": [
       "[{'hours_per_week': 0.6,\n",
       "  'education': 0.5,\n",
       "  'occupation': 0.3,\n",
       "  'age': 0.3,\n",
       "  'race': 0.1,\n",
       "  'workclass': 0.0,\n",
       "  'marital_status': 0.0,\n",
       "  'gender': 0.0}]"
      ]
     },
     "execution_count": 29,
     "metadata": {},
     "output_type": "execute_result"
    }
   ],
   "source": [
    "imp.local_importance"
   ]
  },
  {
   "cell_type": "code",
   "execution_count": 50,
   "metadata": {},
   "outputs": [],
   "source": [
    "# Sklearn imports\n",
    "from sklearn.compose import ColumnTransformer\n",
    "from sklearn.model_selection import train_test_split\n",
    "from sklearn.pipeline import Pipeline\n",
    "from sklearn.preprocessing import OneHotEncoder\n",
    "from sklearn.ensemble import RandomForestClassifier\n",
    "\n",
    "# DiCE imports\n",
    "import dice_ml\n",
    "from dice_ml.utils import helpers  # helper functions"
   ]
  },
  {
   "cell_type": "code",
   "execution_count": 51,
   "metadata": {},
   "outputs": [],
   "source": [
    "dataset = helpers.load_adult_income_dataset()"
   ]
  },
  {
   "cell_type": "code",
   "execution_count": 52,
   "metadata": {},
   "outputs": [
    {
     "data": {
      "text/html": [
       "<div>\n",
       "<style scoped>\n",
       "    .dataframe tbody tr th:only-of-type {\n",
       "        vertical-align: middle;\n",
       "    }\n",
       "\n",
       "    .dataframe tbody tr th {\n",
       "        vertical-align: top;\n",
       "    }\n",
       "\n",
       "    .dataframe thead th {\n",
       "        text-align: right;\n",
       "    }\n",
       "</style>\n",
       "<table border=\"1\" class=\"dataframe\">\n",
       "  <thead>\n",
       "    <tr style=\"text-align: right;\">\n",
       "      <th></th>\n",
       "      <th>age</th>\n",
       "      <th>workclass</th>\n",
       "      <th>education</th>\n",
       "      <th>marital_status</th>\n",
       "      <th>occupation</th>\n",
       "      <th>race</th>\n",
       "      <th>gender</th>\n",
       "      <th>hours_per_week</th>\n",
       "      <th>income</th>\n",
       "    </tr>\n",
       "  </thead>\n",
       "  <tbody>\n",
       "    <tr>\n",
       "      <th>0</th>\n",
       "      <td>28</td>\n",
       "      <td>Private</td>\n",
       "      <td>Bachelors</td>\n",
       "      <td>Single</td>\n",
       "      <td>White-Collar</td>\n",
       "      <td>White</td>\n",
       "      <td>Female</td>\n",
       "      <td>60</td>\n",
       "      <td>0</td>\n",
       "    </tr>\n",
       "    <tr>\n",
       "      <th>1</th>\n",
       "      <td>30</td>\n",
       "      <td>Self-Employed</td>\n",
       "      <td>Assoc</td>\n",
       "      <td>Married</td>\n",
       "      <td>Professional</td>\n",
       "      <td>White</td>\n",
       "      <td>Male</td>\n",
       "      <td>65</td>\n",
       "      <td>1</td>\n",
       "    </tr>\n",
       "    <tr>\n",
       "      <th>2</th>\n",
       "      <td>32</td>\n",
       "      <td>Private</td>\n",
       "      <td>Some-college</td>\n",
       "      <td>Married</td>\n",
       "      <td>White-Collar</td>\n",
       "      <td>White</td>\n",
       "      <td>Male</td>\n",
       "      <td>50</td>\n",
       "      <td>0</td>\n",
       "    </tr>\n",
       "    <tr>\n",
       "      <th>3</th>\n",
       "      <td>20</td>\n",
       "      <td>Private</td>\n",
       "      <td>Some-college</td>\n",
       "      <td>Single</td>\n",
       "      <td>Service</td>\n",
       "      <td>White</td>\n",
       "      <td>Female</td>\n",
       "      <td>35</td>\n",
       "      <td>0</td>\n",
       "    </tr>\n",
       "    <tr>\n",
       "      <th>4</th>\n",
       "      <td>41</td>\n",
       "      <td>Self-Employed</td>\n",
       "      <td>Some-college</td>\n",
       "      <td>Married</td>\n",
       "      <td>White-Collar</td>\n",
       "      <td>White</td>\n",
       "      <td>Male</td>\n",
       "      <td>50</td>\n",
       "      <td>0</td>\n",
       "    </tr>\n",
       "  </tbody>\n",
       "</table>\n",
       "</div>"
      ],
      "text/plain": [
       "   age      workclass     education marital_status    occupation   race   \n",
       "0   28        Private     Bachelors         Single  White-Collar  White  \\\n",
       "1   30  Self-Employed         Assoc        Married  Professional  White   \n",
       "2   32        Private  Some-college        Married  White-Collar  White   \n",
       "3   20        Private  Some-college         Single       Service  White   \n",
       "4   41  Self-Employed  Some-college        Married  White-Collar  White   \n",
       "\n",
       "   gender  hours_per_week  income  \n",
       "0  Female              60       0  \n",
       "1    Male              65       1  \n",
       "2    Male              50       0  \n",
       "3  Female              35       0  \n",
       "4    Male              50       0  "
      ]
     },
     "execution_count": 52,
     "metadata": {},
     "output_type": "execute_result"
    }
   ],
   "source": [
    "dataset.head()"
   ]
  },
  {
   "cell_type": "code",
   "execution_count": 53,
   "metadata": {},
   "outputs": [],
   "source": [
    "target = dataset[\"income\"]\n",
    "train_dataset, test_dataset, y_train, y_test = train_test_split(dataset,\n",
    "                                                                target,\n",
    "                                                                test_size=0.2,\n",
    "                                                                random_state=0,\n",
    "                                                                stratify=target)\n",
    "x_train = train_dataset.drop('income', axis=1)\n",
    "x_test = test_dataset.drop('income', axis=1)"
   ]
  },
  {
   "cell_type": "code",
   "execution_count": null,
   "metadata": {},
   "outputs": [],
   "source": []
  },
  {
   "cell_type": "code",
   "execution_count": 54,
   "metadata": {},
   "outputs": [],
   "source": [
    "d = dice_ml.Data(dataframe=train_dataset, continuous_features=['age', 'hours_per_week'], outcome_name='income')"
   ]
  },
  {
   "cell_type": "code",
   "execution_count": 117,
   "metadata": {},
   "outputs": [
    {
     "data": {
      "text/plain": [
       "dice_ml.data_interfaces.public_data_interface.PublicData"
      ]
     },
     "execution_count": 117,
     "metadata": {},
     "output_type": "execute_result"
    }
   ],
   "source": [
    "type(d)"
   ]
  },
  {
   "cell_type": "code",
   "execution_count": 55,
   "metadata": {},
   "outputs": [],
   "source": [
    "numerical = [\"age\", \"hours_per_week\"]\n",
    "categorical = x_train.columns.difference(numerical)\n",
    "\n",
    "categorical_transformer = Pipeline(steps=[\n",
    "    ('onehot', OneHotEncoder(handle_unknown='ignore'))])\n",
    "\n",
    "transformations = ColumnTransformer(\n",
    "    transformers=[\n",
    "        ('cat', categorical_transformer, categorical)])\n",
    "\n",
    "# Append classifier to preprocessing pipeline.\n",
    "# Now we have a full prediction pipeline.\n",
    "clf = Pipeline(steps=[('preprocessor', transformations),\n",
    "                      ('classifier', RandomForestClassifier())])\n",
    "model = clf.fit(x_train, y_train)"
   ]
  },
  {
   "cell_type": "code",
   "execution_count": 56,
   "metadata": {},
   "outputs": [],
   "source": [
    "# Using sklearn backend\n",
    "m = dice_ml.Model(model=model, backend=\"sklearn\")\n",
    "# Using method=random for generating CFs\n",
    "exp = dice_ml.Dice(d, m, method=\"random\")"
   ]
  },
  {
   "cell_type": "code",
   "execution_count": 118,
   "metadata": {},
   "outputs": [
    {
     "data": {
      "text/plain": [
       "dice_ml.explainer_interfaces.dice_random.DiceRandom"
      ]
     },
     "execution_count": 118,
     "metadata": {},
     "output_type": "execute_result"
    }
   ],
   "source": [
    "type(exp)"
   ]
  },
  {
   "cell_type": "code",
   "execution_count": 57,
   "metadata": {},
   "outputs": [
    {
     "name": "stderr",
     "output_type": "stream",
     "text": [
      "100%|██████████| 1/1 [00:00<00:00,  1.98it/s]"
     ]
    },
    {
     "name": "stdout",
     "output_type": "stream",
     "text": [
      "Query instance (original outcome : 0)\n"
     ]
    },
    {
     "name": "stderr",
     "output_type": "stream",
     "text": [
      "\n"
     ]
    },
    {
     "data": {
      "text/html": [
       "<div>\n",
       "<style scoped>\n",
       "    .dataframe tbody tr th:only-of-type {\n",
       "        vertical-align: middle;\n",
       "    }\n",
       "\n",
       "    .dataframe tbody tr th {\n",
       "        vertical-align: top;\n",
       "    }\n",
       "\n",
       "    .dataframe thead th {\n",
       "        text-align: right;\n",
       "    }\n",
       "</style>\n",
       "<table border=\"1\" class=\"dataframe\">\n",
       "  <thead>\n",
       "    <tr style=\"text-align: right;\">\n",
       "      <th></th>\n",
       "      <th>age</th>\n",
       "      <th>workclass</th>\n",
       "      <th>education</th>\n",
       "      <th>marital_status</th>\n",
       "      <th>occupation</th>\n",
       "      <th>race</th>\n",
       "      <th>gender</th>\n",
       "      <th>hours_per_week</th>\n",
       "      <th>income</th>\n",
       "    </tr>\n",
       "  </thead>\n",
       "  <tbody>\n",
       "    <tr>\n",
       "      <th>0</th>\n",
       "      <td>29</td>\n",
       "      <td>Private</td>\n",
       "      <td>HS-grad</td>\n",
       "      <td>Married</td>\n",
       "      <td>Blue-Collar</td>\n",
       "      <td>White</td>\n",
       "      <td>Female</td>\n",
       "      <td>38</td>\n",
       "      <td>0</td>\n",
       "    </tr>\n",
       "  </tbody>\n",
       "</table>\n",
       "</div>"
      ],
      "text/plain": [
       "   age workclass education marital_status   occupation   race  gender   \n",
       "0   29   Private   HS-grad        Married  Blue-Collar  White  Female  \\\n",
       "\n",
       "   hours_per_week  income  \n",
       "0              38       0  "
      ]
     },
     "metadata": {},
     "output_type": "display_data"
    },
    {
     "name": "stdout",
     "output_type": "stream",
     "text": [
      "\n",
      "Diverse Counterfactual set (new outcome: 1.0)\n"
     ]
    },
    {
     "data": {
      "text/html": [
       "<div>\n",
       "<style scoped>\n",
       "    .dataframe tbody tr th:only-of-type {\n",
       "        vertical-align: middle;\n",
       "    }\n",
       "\n",
       "    .dataframe tbody tr th {\n",
       "        vertical-align: top;\n",
       "    }\n",
       "\n",
       "    .dataframe thead th {\n",
       "        text-align: right;\n",
       "    }\n",
       "</style>\n",
       "<table border=\"1\" class=\"dataframe\">\n",
       "  <thead>\n",
       "    <tr style=\"text-align: right;\">\n",
       "      <th></th>\n",
       "      <th>age</th>\n",
       "      <th>workclass</th>\n",
       "      <th>education</th>\n",
       "      <th>marital_status</th>\n",
       "      <th>occupation</th>\n",
       "      <th>race</th>\n",
       "      <th>gender</th>\n",
       "      <th>hours_per_week</th>\n",
       "      <th>income</th>\n",
       "    </tr>\n",
       "  </thead>\n",
       "  <tbody>\n",
       "    <tr>\n",
       "      <th>0</th>\n",
       "      <td>29</td>\n",
       "      <td>Self-Employed</td>\n",
       "      <td>School</td>\n",
       "      <td>Married</td>\n",
       "      <td>Blue-Collar</td>\n",
       "      <td>White</td>\n",
       "      <td>Female</td>\n",
       "      <td>38</td>\n",
       "      <td>1</td>\n",
       "    </tr>\n",
       "    <tr>\n",
       "      <th>1</th>\n",
       "      <td>29</td>\n",
       "      <td>Government</td>\n",
       "      <td>HS-grad</td>\n",
       "      <td>Single</td>\n",
       "      <td>Blue-Collar</td>\n",
       "      <td>White</td>\n",
       "      <td>Female</td>\n",
       "      <td>38</td>\n",
       "      <td>1</td>\n",
       "    </tr>\n",
       "    <tr>\n",
       "      <th>2</th>\n",
       "      <td>29</td>\n",
       "      <td>Self-Employed</td>\n",
       "      <td>HS-grad</td>\n",
       "      <td>Married</td>\n",
       "      <td>Professional</td>\n",
       "      <td>White</td>\n",
       "      <td>Female</td>\n",
       "      <td>38</td>\n",
       "      <td>1</td>\n",
       "    </tr>\n",
       "    <tr>\n",
       "      <th>3</th>\n",
       "      <td>29</td>\n",
       "      <td>Private</td>\n",
       "      <td>Doctorate</td>\n",
       "      <td>Married</td>\n",
       "      <td>White-Collar</td>\n",
       "      <td>White</td>\n",
       "      <td>Female</td>\n",
       "      <td>38</td>\n",
       "      <td>1</td>\n",
       "    </tr>\n",
       "    <tr>\n",
       "      <th>4</th>\n",
       "      <td>29</td>\n",
       "      <td>Private</td>\n",
       "      <td>Masters</td>\n",
       "      <td>Married</td>\n",
       "      <td>White-Collar</td>\n",
       "      <td>White</td>\n",
       "      <td>Female</td>\n",
       "      <td>38</td>\n",
       "      <td>1</td>\n",
       "    </tr>\n",
       "    <tr>\n",
       "      <th>5</th>\n",
       "      <td>29</td>\n",
       "      <td>Private</td>\n",
       "      <td>Masters</td>\n",
       "      <td>Married</td>\n",
       "      <td>Sales</td>\n",
       "      <td>White</td>\n",
       "      <td>Female</td>\n",
       "      <td>38</td>\n",
       "      <td>1</td>\n",
       "    </tr>\n",
       "    <tr>\n",
       "      <th>6</th>\n",
       "      <td>29</td>\n",
       "      <td>Private</td>\n",
       "      <td>Bachelors</td>\n",
       "      <td>Married</td>\n",
       "      <td>Blue-Collar</td>\n",
       "      <td>White</td>\n",
       "      <td>Male</td>\n",
       "      <td>38</td>\n",
       "      <td>1</td>\n",
       "    </tr>\n",
       "    <tr>\n",
       "      <th>7</th>\n",
       "      <td>29</td>\n",
       "      <td>Private</td>\n",
       "      <td>Doctorate</td>\n",
       "      <td>Married</td>\n",
       "      <td>Professional</td>\n",
       "      <td>White</td>\n",
       "      <td>Female</td>\n",
       "      <td>38</td>\n",
       "      <td>1</td>\n",
       "    </tr>\n",
       "    <tr>\n",
       "      <th>8</th>\n",
       "      <td>29</td>\n",
       "      <td>Government</td>\n",
       "      <td>HS-grad</td>\n",
       "      <td>Married</td>\n",
       "      <td>Professional</td>\n",
       "      <td>White</td>\n",
       "      <td>Female</td>\n",
       "      <td>38</td>\n",
       "      <td>1</td>\n",
       "    </tr>\n",
       "    <tr>\n",
       "      <th>9</th>\n",
       "      <td>29</td>\n",
       "      <td>Private</td>\n",
       "      <td>Doctorate</td>\n",
       "      <td>Married</td>\n",
       "      <td>Blue-Collar</td>\n",
       "      <td>White</td>\n",
       "      <td>Male</td>\n",
       "      <td>38</td>\n",
       "      <td>1</td>\n",
       "    </tr>\n",
       "  </tbody>\n",
       "</table>\n",
       "</div>"
      ],
      "text/plain": [
       "  age      workclass  education marital_status    occupation   race  gender   \n",
       "0  29  Self-Employed     School        Married   Blue-Collar  White  Female  \\\n",
       "1  29     Government    HS-grad         Single   Blue-Collar  White  Female   \n",
       "2  29  Self-Employed    HS-grad        Married  Professional  White  Female   \n",
       "3  29        Private  Doctorate        Married  White-Collar  White  Female   \n",
       "4  29        Private    Masters        Married  White-Collar  White  Female   \n",
       "5  29        Private    Masters        Married         Sales  White  Female   \n",
       "6  29        Private  Bachelors        Married   Blue-Collar  White    Male   \n",
       "7  29        Private  Doctorate        Married  Professional  White  Female   \n",
       "8  29     Government    HS-grad        Married  Professional  White  Female   \n",
       "9  29        Private  Doctorate        Married   Blue-Collar  White    Male   \n",
       "\n",
       "  hours_per_week  income  \n",
       "0             38       1  \n",
       "1             38       1  \n",
       "2             38       1  \n",
       "3             38       1  \n",
       "4             38       1  \n",
       "5             38       1  \n",
       "6             38       1  \n",
       "7             38       1  \n",
       "8             38       1  \n",
       "9             38       1  "
      ]
     },
     "metadata": {},
     "output_type": "display_data"
    }
   ],
   "source": [
    "e1 = exp.generate_counterfactuals(x_test[0:1], total_CFs=10, desired_class=\"opposite\")\n",
    "e1.visualize_as_dataframe()"
   ]
  },
  {
   "cell_type": "code",
   "execution_count": 142,
   "metadata": {},
   "outputs": [],
   "source": [
    "class CasualExplanations:\n",
    "    def __init__(self, exp, X, X_scaled, Y, categorical, numerical, classes, enc, ohe, x_min, x_max, rng, k=10, **kwargs):\n",
    "        self.exp = exp\n",
    "        self.X = X\n",
    "        self.X_scaled = X_scaled\n",
    "        self.Y = Y\n",
    "        self.categorical = categorical\n",
    "        self.numerical = numerical\n",
    "        self.classes = classes\n",
    "        self.enc = enc\n",
    "        self.ohe = ohe\n",
    "        self.x_min = x_min\n",
    "        self.x_max = x_max\n",
    "        self.rng = rng\n",
    "        self.k = k\n",
    "        if \"low_limit\" in kwargs:\n",
    "            self.low_limit = kwargs[\"low_limit\"]\n",
    "        else:\n",
    "            self.low_limit = 0\n",
    "        if \"high_limit\" in kwargs:\n",
    "            self.high_limit = kwargs[\"high_limit\"]\n",
    "        else:\n",
    "            self.high_limit = len(X)\n",
    "        self.cfs = self.generate_counterfactuals()\n",
    "        self.X_enc = self.enc.predict(self.X_scaled)\n",
    "        self.class_mean = {}\n",
    "        for c in classes:\n",
    "            self.class_mean[c] = self.X_enc[self.Y.argmax(axis=1)==c].mean(axis=0)\n",
    "    \n",
    "    def generate_counterfactuals(self):\n",
    "        return self.exp.generate_counterfactuals(self.X[self.low_limit:self.high_limit], total_CFs=self.k, desired_class=\"opposite\")\n",
    "    \n",
    "    def average_sparsity(self, id):\n",
    "        sum_sparsity = 0\n",
    "        for i in range(self.k):\n",
    "            sum_sparsity += (self.cfs.cf_examples_list[id].final_cfs_df.iloc[i, :-1] != self.X.iloc[id]).sum()\n",
    "        return sum_sparsity / self.k\n",
    "    \n",
    "    def total_average_sparsity(self):\n",
    "        sum_sparsity = 0\n",
    "        for i in range(self.low_limit, self.high_limit):\n",
    "            sum_sparsity += self.average_sparsity(i)\n",
    "        return sum_sparsity / (self.high_limit - self.low_limit)\n",
    "    \n",
    "    def average_proximity(self, id):\n",
    "        sum_proximity = 0\n",
    "        for i in range(self.k):\n",
    "            proximity = 0\n",
    "            for col in self.categorical:\n",
    "                if self.cfs.cf_examples_list[id].final_cfs_df.iloc[i, :-1][col]!=self.X.iloc[id][col]:\n",
    "                    proximity+=1\n",
    "            for col in self.numerical:\n",
    "                proximity += abs(self.cfs.cf_examples_list[id].final_cfs_df.iloc[i, :-1][col] - self.X.iloc[id][col])\n",
    "            sum_proximity+=proximity\n",
    "        return sum_proximity / self.k\n",
    "    \n",
    "    def total_average_proximity(self):\n",
    "        sum_proximity = 0\n",
    "        for i in range(self.low_limit, self.high_limit):\n",
    "            sum_proximity += self.average_proximity(i)\n",
    "        return sum_proximity / (self.high_limit - self.low_limit)\n",
    "    \n",
    "    def average_diversity(self, id):\n",
    "        sum_diversity = 0\n",
    "        for i in range(self.k-1):\n",
    "            diversity = 0\n",
    "            for j in range(i+1, self.k):\n",
    "                for col in self.categorical:\n",
    "                    if self.cfs.cf_examples_list[id].final_cfs_df.iloc[i, :-1][col]!=self.cfs.cf_examples_list[id].final_cfs_df.iloc[j, :-1][col]:\n",
    "                        diversity+=1\n",
    "                for col in self.numerical:\n",
    "                    diversity += abs(self.cfs.cf_examples_list[id].final_cfs_df.iloc[i, :-1][col] - self.cfs.cf_examples_list[id].final_cfs_df.iloc[j, :-1][col])\n",
    "            sum_diversity += diversity\n",
    "        return sum_diversity / (self.k**2)\n",
    "    \n",
    "    def total_average_diversity(self):\n",
    "        sum_diversity = 0\n",
    "        for i in range(self.low_limit, self.high_limit):\n",
    "            sum_diversity += self.average_diversity(i)\n",
    "        return sum_diversity / (self.high_limit - self.low_limit)\n",
    "\n",
    "    def average_interpretability(self, id):\n",
    "        x_cf = self.cfs.cf_examples_list[id].final_cfs_df.iloc[:, :-1]\n",
    "        y_cf = self.cfs.cf_examples_list[id].final_cfs_df.iloc[:, -1]\n",
    "        x_cf = np.c_[self.ohe.transform(x_cf.loc[:, self.categorical]), (x_cf.loc[:, self.numerical] - self.x_min) / (self.x_max - self.x_min) * (self.rng[1] - self.rng[0]) + self.rng[0]].astype(np.float32, copy=False)\n",
    "        cf_enc = self.enc.predict(x_cf)\n",
    "        sum_interpretability = 0\n",
    "        for i in range(self.k):\n",
    "            dist_orig = np.linalg.norm(cf_enc[i] - self.class_mean[self.Y[id].argmax(axis=0)])\n",
    "            dist_cf = np.linalg.norm(cf_enc[i] - self.class_mean[y_cf[i]])\n",
    "            sum_interpretability += dist_orig / (dist_cf + 1e-10)\n",
    "        return sum_interpretability / self.k\n",
    "\n",
    "    def total_average_interpretability(self):\n",
    "        sum_interpretability = 0\n",
    "        for i in range(self.low_limit, self.high_limit):\n",
    "            sum_interpretability += self.average_interpretability(i)\n",
    "        return sum_interpretability / (self.high_limit - self.low_limit)"
   ]
  },
  {
   "cell_type": "code",
   "execution_count": null,
   "metadata": {},
   "outputs": [],
   "source": []
  },
  {
   "cell_type": "code",
   "execution_count": 61,
   "metadata": {},
   "outputs": [],
   "source": [
    "from tensorflow.keras.layers import Dense, Input\n",
    "from tensorflow.keras.models import Model, load_model\n",
    "from tensorflow.keras.utils import to_categorical"
   ]
  },
  {
   "cell_type": "code",
   "execution_count": 65,
   "metadata": {},
   "outputs": [],
   "source": [
    "import numpy as np"
   ]
  },
  {
   "cell_type": "code",
   "execution_count": 66,
   "metadata": {},
   "outputs": [],
   "source": [
    "x_train_num = x_train.loc[:, numerical].astype(np.float32, copy=False)"
   ]
  },
  {
   "cell_type": "code",
   "execution_count": 67,
   "metadata": {},
   "outputs": [],
   "source": [
    "x_train_cat = x_train.loc[:, categorical].copy()"
   ]
  },
  {
   "cell_type": "code",
   "execution_count": 69,
   "metadata": {},
   "outputs": [],
   "source": [
    "x_min, x_max = x_train_num.min(axis=0), x_train_num.max(axis=0)"
   ]
  },
  {
   "cell_type": "code",
   "execution_count": 70,
   "metadata": {},
   "outputs": [],
   "source": [
    "rng = (-1., 1.)\n",
    "X_num_scaled = (x_train_num - x_min) / (x_max - x_min) * (rng[1] - rng[0]) + rng[0]"
   ]
  },
  {
   "cell_type": "code",
   "execution_count": 71,
   "metadata": {},
   "outputs": [
    {
     "data": {
      "text/html": [
       "<div>\n",
       "<style scoped>\n",
       "    .dataframe tbody tr th:only-of-type {\n",
       "        vertical-align: middle;\n",
       "    }\n",
       "\n",
       "    .dataframe tbody tr th {\n",
       "        vertical-align: top;\n",
       "    }\n",
       "\n",
       "    .dataframe thead th {\n",
       "        text-align: right;\n",
       "    }\n",
       "</style>\n",
       "<table border=\"1\" class=\"dataframe\">\n",
       "  <thead>\n",
       "    <tr style=\"text-align: right;\">\n",
       "      <th></th>\n",
       "      <th>age</th>\n",
       "      <th>hours_per_week</th>\n",
       "    </tr>\n",
       "  </thead>\n",
       "  <tbody>\n",
       "    <tr>\n",
       "      <th>20907</th>\n",
       "      <td>-0.424658</td>\n",
       "      <td>-0.122449</td>\n",
       "    </tr>\n",
       "    <tr>\n",
       "      <th>2573</th>\n",
       "      <td>0.013699</td>\n",
       "      <td>0.204082</td>\n",
       "    </tr>\n",
       "    <tr>\n",
       "      <th>10939</th>\n",
       "      <td>-0.616438</td>\n",
       "      <td>-0.204082</td>\n",
       "    </tr>\n",
       "    <tr>\n",
       "      <th>7839</th>\n",
       "      <td>-0.342466</td>\n",
       "      <td>-0.204082</td>\n",
       "    </tr>\n",
       "    <tr>\n",
       "      <th>9608</th>\n",
       "      <td>-0.726027</td>\n",
       "      <td>-0.204082</td>\n",
       "    </tr>\n",
       "    <tr>\n",
       "      <th>...</th>\n",
       "      <td>...</td>\n",
       "      <td>...</td>\n",
       "    </tr>\n",
       "    <tr>\n",
       "      <th>25388</th>\n",
       "      <td>-0.041096</td>\n",
       "      <td>-0.612245</td>\n",
       "    </tr>\n",
       "    <tr>\n",
       "      <th>6214</th>\n",
       "      <td>-0.397260</td>\n",
       "      <td>-0.204082</td>\n",
       "    </tr>\n",
       "    <tr>\n",
       "      <th>6749</th>\n",
       "      <td>-0.260274</td>\n",
       "      <td>0.102041</td>\n",
       "    </tr>\n",
       "    <tr>\n",
       "      <th>17884</th>\n",
       "      <td>-0.835616</td>\n",
       "      <td>-0.204082</td>\n",
       "    </tr>\n",
       "    <tr>\n",
       "      <th>6862</th>\n",
       "      <td>-0.260274</td>\n",
       "      <td>-0.204082</td>\n",
       "    </tr>\n",
       "  </tbody>\n",
       "</table>\n",
       "<p>20838 rows × 2 columns</p>\n",
       "</div>"
      ],
      "text/plain": [
       "            age  hours_per_week\n",
       "20907 -0.424658       -0.122449\n",
       "2573   0.013699        0.204082\n",
       "10939 -0.616438       -0.204082\n",
       "7839  -0.342466       -0.204082\n",
       "9608  -0.726027       -0.204082\n",
       "...         ...             ...\n",
       "25388 -0.041096       -0.612245\n",
       "6214  -0.397260       -0.204082\n",
       "6749  -0.260274        0.102041\n",
       "17884 -0.835616       -0.204082\n",
       "6862  -0.260274       -0.204082\n",
       "\n",
       "[20838 rows x 2 columns]"
      ]
     },
     "execution_count": 71,
     "metadata": {},
     "output_type": "execute_result"
    }
   ],
   "source": [
    "X_num_scaled"
   ]
  },
  {
   "cell_type": "code",
   "execution_count": 72,
   "metadata": {},
   "outputs": [
    {
     "name": "stderr",
     "output_type": "stream",
     "text": [
      "d:\\Anaconda\\envs\\interpret\\lib\\site-packages\\sklearn\\preprocessing\\_encoders.py:868: FutureWarning: `sparse` was renamed to `sparse_output` in version 1.2 and will be removed in 1.4. `sparse_output` is ignored unless you leave `sparse` to its default value.\n",
      "  warnings.warn(\n"
     ]
    }
   ],
   "source": [
    "ohe = OneHotEncoder(categories='auto', sparse=False).fit(x_train_cat)\n",
    "X_cat_ohe = ohe.transform(x_train_cat)"
   ]
  },
  {
   "cell_type": "code",
   "execution_count": 74,
   "metadata": {},
   "outputs": [],
   "source": [
    "X_train = np.c_[X_cat_ohe, X_num_scaled].astype(np.float32, copy=False)"
   ]
  },
  {
   "cell_type": "code",
   "execution_count": 75,
   "metadata": {},
   "outputs": [],
   "source": [
    "X_test = np.c_[ohe.transform(x_test.loc[:, categorical]), (x_test.loc[:, numerical] - x_min) / (x_max - x_min) * (rng[1] - rng[0]) + rng[0]].astype(np.float32, copy=False)"
   ]
  },
  {
   "cell_type": "code",
   "execution_count": 77,
   "metadata": {},
   "outputs": [
    {
     "data": {
      "text/plain": [
       "((20838, 29), (5210, 29))"
      ]
     },
     "execution_count": 77,
     "metadata": {},
     "output_type": "execute_result"
    }
   ],
   "source": [
    "X_train.shape, X_test.shape"
   ]
  },
  {
   "cell_type": "code",
   "execution_count": 120,
   "metadata": {},
   "outputs": [
    {
     "data": {
      "text/plain": [
       "29"
      ]
     },
     "execution_count": 120,
     "metadata": {},
     "output_type": "execute_result"
    }
   ],
   "source": [
    "X_train.shape[-1]"
   ]
  },
  {
   "cell_type": "code",
   "execution_count": 79,
   "metadata": {},
   "outputs": [],
   "source": [
    "Y_train = to_categorical(y_train)\n",
    "Y_test = to_categorical(y_test)"
   ]
  },
  {
   "cell_type": "code",
   "execution_count": 78,
   "metadata": {},
   "outputs": [],
   "source": [
    "def ae_model():\n",
    "    # encoder\n",
    "    x_in = Input(shape=(29,))\n",
    "    x = Dense(60, activation='relu')(x_in)\n",
    "    x = Dense(30, activation='relu')(x)\n",
    "    x = Dense(15, activation='relu')(x)\n",
    "    encoded = Dense(10, activation=None)(x)\n",
    "    encoder = Model(x_in, encoded)\n",
    "    \n",
    "    # decoder\n",
    "    dec_in = Input(shape=(10,))\n",
    "    x = Dense(15, activation='relu')(dec_in)\n",
    "    x = Dense(30, activation='relu')(x)\n",
    "    x = Dense(60, activation='relu')(x)\n",
    "    decoded = Dense(29, activation=None)(x)\n",
    "    decoder = Model(dec_in, decoded)\n",
    "    \n",
    "    # autoencoder = encoder + decoder\n",
    "    x_out = decoder(encoder(x_in))\n",
    "    autoencoder = Model(x_in, x_out)\n",
    "    autoencoder.compile(optimizer='adam', loss='mse')\n",
    "    \n",
    "    return autoencoder, encoder, decoder"
   ]
  },
  {
   "cell_type": "code",
   "execution_count": 80,
   "metadata": {},
   "outputs": [
    {
     "name": "stdout",
     "output_type": "stream",
     "text": [
      "Model: \"model_2\"\n",
      "_________________________________________________________________\n",
      " Layer (type)                Output Shape              Param #   \n",
      "=================================================================\n",
      " input_1 (InputLayer)        [(None, 29)]              0         \n",
      "                                                                 \n",
      " model (Functional)          (None, 10)                4255      \n",
      "                                                                 \n",
      " model_1 (Functional)        (None, 29)                4274      \n",
      "                                                                 \n",
      "=================================================================\n",
      "Total params: 8,529\n",
      "Trainable params: 8,529\n",
      "Non-trainable params: 0\n",
      "_________________________________________________________________\n",
      "Epoch 1/100\n",
      "163/163 [==============================] - 1s 3ms/step - loss: 0.1074 - val_loss: 0.0609\n",
      "Epoch 2/100\n",
      "163/163 [==============================] - 0s 2ms/step - loss: 0.0483 - val_loss: 0.0395\n",
      "Epoch 3/100\n",
      "163/163 [==============================] - 0s 2ms/step - loss: 0.0347 - val_loss: 0.0308\n",
      "Epoch 4/100\n",
      "163/163 [==============================] - 0s 2ms/step - loss: 0.0284 - val_loss: 0.0262\n",
      "Epoch 5/100\n",
      "163/163 [==============================] - 0s 2ms/step - loss: 0.0241 - val_loss: 0.0224\n",
      "Epoch 6/100\n",
      "163/163 [==============================] - 0s 2ms/step - loss: 0.0206 - val_loss: 0.0190\n",
      "Epoch 7/100\n",
      "163/163 [==============================] - 0s 1ms/step - loss: 0.0174 - val_loss: 0.0162\n",
      "Epoch 8/100\n",
      "163/163 [==============================] - 0s 1ms/step - loss: 0.0150 - val_loss: 0.0143\n",
      "Epoch 9/100\n",
      "163/163 [==============================] - 0s 2ms/step - loss: 0.0134 - val_loss: 0.0128\n",
      "Epoch 10/100\n",
      "163/163 [==============================] - 0s 2ms/step - loss: 0.0122 - val_loss: 0.0118\n",
      "Epoch 11/100\n",
      "163/163 [==============================] - 0s 1ms/step - loss: 0.0112 - val_loss: 0.0109\n",
      "Epoch 12/100\n",
      "163/163 [==============================] - 0s 1ms/step - loss: 0.0104 - val_loss: 0.0102\n",
      "Epoch 13/100\n",
      "163/163 [==============================] - 0s 1ms/step - loss: 0.0098 - val_loss: 0.0096\n",
      "Epoch 14/100\n",
      "163/163 [==============================] - 0s 2ms/step - loss: 0.0093 - val_loss: 0.0092\n",
      "Epoch 15/100\n",
      "163/163 [==============================] - 0s 2ms/step - loss: 0.0089 - val_loss: 0.0088\n",
      "Epoch 16/100\n",
      "163/163 [==============================] - 0s 1ms/step - loss: 0.0085 - val_loss: 0.0084\n",
      "Epoch 17/100\n",
      "163/163 [==============================] - 0s 1ms/step - loss: 0.0081 - val_loss: 0.0081\n",
      "Epoch 18/100\n",
      "163/163 [==============================] - 0s 1ms/step - loss: 0.0078 - val_loss: 0.0078\n",
      "Epoch 19/100\n",
      "163/163 [==============================] - 0s 1ms/step - loss: 0.0073 - val_loss: 0.0073\n",
      "Epoch 20/100\n",
      "163/163 [==============================] - 0s 2ms/step - loss: 0.0071 - val_loss: 0.0069\n",
      "Epoch 21/100\n",
      "163/163 [==============================] - 0s 1ms/step - loss: 0.0067 - val_loss: 0.0065\n",
      "Epoch 22/100\n",
      "163/163 [==============================] - 0s 1ms/step - loss: 0.0064 - val_loss: 0.0061\n",
      "Epoch 23/100\n",
      "163/163 [==============================] - 0s 1ms/step - loss: 0.0062 - val_loss: 0.0061\n",
      "Epoch 24/100\n",
      "163/163 [==============================] - 0s 1ms/step - loss: 0.0060 - val_loss: 0.0059\n",
      "Epoch 25/100\n",
      "163/163 [==============================] - 0s 2ms/step - loss: 0.0058 - val_loss: 0.0057\n",
      "Epoch 26/100\n",
      "163/163 [==============================] - 0s 2ms/step - loss: 0.0057 - val_loss: 0.0055\n",
      "Epoch 27/100\n",
      "163/163 [==============================] - 0s 1ms/step - loss: 0.0056 - val_loss: 0.0056\n",
      "Epoch 28/100\n",
      "163/163 [==============================] - 0s 1ms/step - loss: 0.0055 - val_loss: 0.0054\n",
      "Epoch 29/100\n",
      "163/163 [==============================] - 0s 1ms/step - loss: 0.0053 - val_loss: 0.0051\n",
      "Epoch 30/100\n",
      "163/163 [==============================] - 0s 1ms/step - loss: 0.0052 - val_loss: 0.0049\n",
      "Epoch 31/100\n",
      "163/163 [==============================] - 0s 1ms/step - loss: 0.0050 - val_loss: 0.0047\n",
      "Epoch 32/100\n",
      "163/163 [==============================] - 0s 1ms/step - loss: 0.0049 - val_loss: 0.0047\n",
      "Epoch 33/100\n",
      "163/163 [==============================] - 0s 1ms/step - loss: 0.0048 - val_loss: 0.0048\n",
      "Epoch 34/100\n",
      "163/163 [==============================] - 0s 2ms/step - loss: 0.0046 - val_loss: 0.0045\n",
      "Epoch 35/100\n",
      "163/163 [==============================] - 0s 2ms/step - loss: 0.0045 - val_loss: 0.0043\n",
      "Epoch 36/100\n",
      "163/163 [==============================] - 0s 1ms/step - loss: 0.0044 - val_loss: 0.0042\n",
      "Epoch 37/100\n",
      "163/163 [==============================] - 0s 1ms/step - loss: 0.0043 - val_loss: 0.0042\n",
      "Epoch 38/100\n",
      "163/163 [==============================] - 0s 1ms/step - loss: 0.0042 - val_loss: 0.0040\n",
      "Epoch 39/100\n",
      "163/163 [==============================] - 0s 1ms/step - loss: 0.0041 - val_loss: 0.0039\n",
      "Epoch 40/100\n",
      "163/163 [==============================] - 0s 1ms/step - loss: 0.0040 - val_loss: 0.0038\n",
      "Epoch 41/100\n",
      "163/163 [==============================] - 0s 2ms/step - loss: 0.0039 - val_loss: 0.0039\n",
      "Epoch 42/100\n",
      "163/163 [==============================] - 0s 1ms/step - loss: 0.0038 - val_loss: 0.0039\n",
      "Epoch 43/100\n",
      "163/163 [==============================] - 0s 1ms/step - loss: 0.0037 - val_loss: 0.0038\n",
      "Epoch 44/100\n",
      "163/163 [==============================] - 0s 1ms/step - loss: 0.0036 - val_loss: 0.0034\n",
      "Epoch 45/100\n",
      "163/163 [==============================] - 0s 1ms/step - loss: 0.0035 - val_loss: 0.0034\n",
      "Epoch 46/100\n",
      "163/163 [==============================] - 0s 2ms/step - loss: 0.0034 - val_loss: 0.0032\n",
      "Epoch 47/100\n",
      "163/163 [==============================] - 0s 1ms/step - loss: 0.0034 - val_loss: 0.0034\n",
      "Epoch 48/100\n",
      "163/163 [==============================] - 0s 1ms/step - loss: 0.0033 - val_loss: 0.0032\n",
      "Epoch 49/100\n",
      "163/163 [==============================] - 0s 1ms/step - loss: 0.0031 - val_loss: 0.0030\n",
      "Epoch 50/100\n",
      "163/163 [==============================] - 0s 1ms/step - loss: 0.0031 - val_loss: 0.0030\n",
      "Epoch 51/100\n",
      "163/163 [==============================] - 0s 2ms/step - loss: 0.0030 - val_loss: 0.0031\n",
      "Epoch 52/100\n",
      "163/163 [==============================] - 0s 1ms/step - loss: 0.0030 - val_loss: 0.0028\n",
      "Epoch 53/100\n",
      "163/163 [==============================] - 0s 2ms/step - loss: 0.0029 - val_loss: 0.0028\n",
      "Epoch 54/100\n",
      "163/163 [==============================] - 0s 2ms/step - loss: 0.0028 - val_loss: 0.0028\n",
      "Epoch 55/100\n",
      "163/163 [==============================] - 0s 1ms/step - loss: 0.0028 - val_loss: 0.0027\n",
      "Epoch 56/100\n",
      "163/163 [==============================] - 0s 1ms/step - loss: 0.0027 - val_loss: 0.0028\n",
      "Epoch 57/100\n",
      "163/163 [==============================] - 0s 2ms/step - loss: 0.0027 - val_loss: 0.0027\n",
      "Epoch 58/100\n",
      "163/163 [==============================] - 0s 1ms/step - loss: 0.0026 - val_loss: 0.0026\n",
      "Epoch 59/100\n",
      "163/163 [==============================] - 0s 1ms/step - loss: 0.0026 - val_loss: 0.0026\n",
      "Epoch 60/100\n",
      "163/163 [==============================] - 0s 1ms/step - loss: 0.0026 - val_loss: 0.0026\n",
      "Epoch 61/100\n",
      "163/163 [==============================] - 0s 2ms/step - loss: 0.0025 - val_loss: 0.0024\n",
      "Epoch 62/100\n",
      "163/163 [==============================] - 0s 2ms/step - loss: 0.0025 - val_loss: 0.0025\n",
      "Epoch 63/100\n",
      "163/163 [==============================] - 0s 1ms/step - loss: 0.0025 - val_loss: 0.0024\n",
      "Epoch 64/100\n",
      "163/163 [==============================] - 0s 1ms/step - loss: 0.0024 - val_loss: 0.0024\n",
      "Epoch 65/100\n",
      "163/163 [==============================] - 0s 2ms/step - loss: 0.0024 - val_loss: 0.0025\n",
      "Epoch 66/100\n",
      "163/163 [==============================] - 0s 2ms/step - loss: 0.0024 - val_loss: 0.0024\n",
      "Epoch 67/100\n",
      "163/163 [==============================] - 0s 1ms/step - loss: 0.0024 - val_loss: 0.0024\n",
      "Epoch 68/100\n",
      "163/163 [==============================] - 0s 2ms/step - loss: 0.0023 - val_loss: 0.0023\n",
      "Epoch 69/100\n",
      "163/163 [==============================] - 0s 1ms/step - loss: 0.0023 - val_loss: 0.0022\n",
      "Epoch 70/100\n",
      "163/163 [==============================] - 0s 1ms/step - loss: 0.0023 - val_loss: 0.0022\n",
      "Epoch 71/100\n",
      "163/163 [==============================] - 0s 2ms/step - loss: 0.0023 - val_loss: 0.0021\n",
      "Epoch 72/100\n",
      "163/163 [==============================] - 0s 2ms/step - loss: 0.0022 - val_loss: 0.0023\n",
      "Epoch 73/100\n",
      "163/163 [==============================] - 0s 2ms/step - loss: 0.0022 - val_loss: 0.0022\n",
      "Epoch 74/100\n",
      "163/163 [==============================] - 0s 2ms/step - loss: 0.0022 - val_loss: 0.0021\n",
      "Epoch 75/100\n",
      "163/163 [==============================] - 0s 2ms/step - loss: 0.0022 - val_loss: 0.0020\n",
      "Epoch 76/100\n",
      "163/163 [==============================] - 0s 2ms/step - loss: 0.0022 - val_loss: 0.0022\n",
      "Epoch 77/100\n",
      "163/163 [==============================] - 0s 2ms/step - loss: 0.0021 - val_loss: 0.0020\n",
      "Epoch 78/100\n",
      "163/163 [==============================] - 0s 2ms/step - loss: 0.0021 - val_loss: 0.0022\n",
      "Epoch 79/100\n",
      "163/163 [==============================] - 0s 2ms/step - loss: 0.0021 - val_loss: 0.0020\n",
      "Epoch 80/100\n",
      "163/163 [==============================] - 0s 2ms/step - loss: 0.0021 - val_loss: 0.0020\n",
      "Epoch 81/100\n",
      "163/163 [==============================] - 0s 2ms/step - loss: 0.0020 - val_loss: 0.0020\n",
      "Epoch 82/100\n",
      "163/163 [==============================] - 0s 2ms/step - loss: 0.0020 - val_loss: 0.0020\n",
      "Epoch 83/100\n",
      "163/163 [==============================] - 0s 2ms/step - loss: 0.0020 - val_loss: 0.0021\n",
      "Epoch 84/100\n",
      "163/163 [==============================] - 0s 2ms/step - loss: 0.0020 - val_loss: 0.0019\n",
      "Epoch 85/100\n",
      "163/163 [==============================] - 0s 2ms/step - loss: 0.0020 - val_loss: 0.0019\n",
      "Epoch 86/100\n",
      "163/163 [==============================] - 0s 2ms/step - loss: 0.0019 - val_loss: 0.0019\n",
      "Epoch 87/100\n",
      "163/163 [==============================] - 0s 2ms/step - loss: 0.0019 - val_loss: 0.0019\n",
      "Epoch 88/100\n",
      "163/163 [==============================] - 0s 2ms/step - loss: 0.0019 - val_loss: 0.0018\n",
      "Epoch 89/100\n",
      "163/163 [==============================] - 0s 2ms/step - loss: 0.0019 - val_loss: 0.0019\n",
      "Epoch 90/100\n",
      "163/163 [==============================] - 0s 2ms/step - loss: 0.0018 - val_loss: 0.0018\n",
      "Epoch 91/100\n",
      "163/163 [==============================] - 0s 2ms/step - loss: 0.0019 - val_loss: 0.0019\n",
      "Epoch 92/100\n",
      "163/163 [==============================] - 0s 2ms/step - loss: 0.0018 - val_loss: 0.0019\n",
      "Epoch 93/100\n",
      "163/163 [==============================] - 0s 2ms/step - loss: 0.0018 - val_loss: 0.0017\n",
      "Epoch 94/100\n",
      "163/163 [==============================] - 0s 1ms/step - loss: 0.0018 - val_loss: 0.0017\n",
      "Epoch 95/100\n",
      "163/163 [==============================] - 0s 2ms/step - loss: 0.0017 - val_loss: 0.0016\n",
      "Epoch 96/100\n",
      "163/163 [==============================] - 0s 2ms/step - loss: 0.0017 - val_loss: 0.0017\n",
      "Epoch 97/100\n",
      "163/163 [==============================] - 0s 2ms/step - loss: 0.0017 - val_loss: 0.0017\n",
      "Epoch 98/100\n",
      "163/163 [==============================] - 0s 2ms/step - loss: 0.0017 - val_loss: 0.0016\n",
      "Epoch 99/100\n",
      "163/163 [==============================] - 0s 2ms/step - loss: 0.0017 - val_loss: 0.0016\n",
      "Epoch 100/100\n",
      "163/163 [==============================] - 0s 2ms/step - loss: 0.0016 - val_loss: 0.0016\n"
     ]
    },
    {
     "data": {
      "text/plain": [
       "<keras.callbacks.History at 0x2596c2c75e0>"
      ]
     },
     "execution_count": 80,
     "metadata": {},
     "output_type": "execute_result"
    }
   ],
   "source": [
    "ae, enc, dec = ae_model()\n",
    "ae.summary()\n",
    "ae.fit(X_train, X_train, batch_size=128, epochs=100, validation_data=(X_test, X_test), verbose=1)"
   ]
  },
  {
   "cell_type": "code",
   "execution_count": 85,
   "metadata": {},
   "outputs": [],
   "source": [
    "cf = e1.cf_examples_list[0].final_cfs_df"
   ]
  },
  {
   "cell_type": "code",
   "execution_count": 88,
   "metadata": {},
   "outputs": [],
   "source": [
    "x_cf = cf.iloc[:, :-1].copy()"
   ]
  },
  {
   "cell_type": "code",
   "execution_count": 92,
   "metadata": {},
   "outputs": [],
   "source": [
    "xf_cf = np.c_[ohe.transform(x_cf.loc[:, categorical]), (x_cf.loc[:, numerical] - x_min) / (x_max - x_min) * (rng[1] - rng[0]) + rng[0]].astype(np.float32, copy=False)"
   ]
  },
  {
   "cell_type": "code",
   "execution_count": 94,
   "metadata": {},
   "outputs": [
    {
     "name": "stdout",
     "output_type": "stream",
     "text": [
      "1/1 [==============================] - 0s 19ms/step\n"
     ]
    },
    {
     "data": {
      "text/plain": [
       "array([[-4.2247496 , -1.0174646 , -2.2552083 ,  1.0896508 , -3.8075192 ,\n",
       "         3.5094485 ,  4.9353867 , -3.3043954 , -1.3877498 ,  3.4297454 ],\n",
       "       [-2.934661  ,  1.2704629 , -2.3813436 ,  1.2012497 , -3.2195582 ,\n",
       "         2.0804317 ,  5.318864  , -2.4021032 , -0.23903197,  4.0691113 ],\n",
       "       [-3.9927645 ,  0.5354843 , -1.4090974 , -1.6454202 , -4.23142   ,\n",
       "         4.1528335 ,  4.4369283 , -2.8486516 , -0.3754536 ,  2.2261927 ],\n",
       "       [-6.7905207 ,  0.29155096, -1.7372558 ,  0.28913617, -4.773374  ,\n",
       "         3.72803   ,  3.6087556 , -3.5164623 ,  0.6605272 ,  0.33095303],\n",
       "       [-6.332353  ,  0.8971953 , -1.8257024 ,  0.24094963, -4.040234  ,\n",
       "         4.449658  ,  4.5445    , -3.096514  ,  1.0572677 ,  0.9613028 ],\n",
       "       [-6.2996807 ,  0.23256153, -2.3017726 ,  0.75853693, -3.9724278 ,\n",
       "         3.7458959 ,  3.6445465 , -2.8685026 ,  0.9197155 ,  1.9694383 ],\n",
       "       [-5.5311027 , -0.3348734 , -2.7802815 ,  2.7801147 , -2.6662118 ,\n",
       "         2.136769  ,  3.41835   , -3.6901987 , -0.7368517 ,  2.4188004 ],\n",
       "       [-6.545268  ,  0.42285493, -1.5878832 ,  0.0547323 , -4.4577923 ,\n",
       "         3.0985525 ,  2.4851954 , -2.405851  ,  0.36662042,  0.2326967 ],\n",
       "       [-3.715548  ,  0.7260216 , -1.6726651 , -2.217067  , -4.010754  ,\n",
       "         4.112206  ,  2.9047966 , -2.2144783 ,  0.44550815,  1.2650459 ],\n",
       "       [-6.2678514 , -0.7140142 , -3.0689225 ,  1.8031678 , -3.2936153 ,\n",
       "         1.5574303 ,  3.1235223 , -3.4512103 , -0.26107875,  2.247464  ]],\n",
       "      dtype=float32)"
      ]
     },
     "execution_count": 94,
     "metadata": {},
     "output_type": "execute_result"
    }
   ],
   "source": [
    "enc.predict(xf_cf)"
   ]
  },
  {
   "cell_type": "code",
   "execution_count": 105,
   "metadata": {},
   "outputs": [
    {
     "name": "stdout",
     "output_type": "stream",
     "text": [
      "652/652 [==============================] - 1s 2ms/step\n"
     ]
    }
   ],
   "source": [
    "X_enc = enc.predict(X_train)"
   ]
  },
  {
   "cell_type": "code",
   "execution_count": 106,
   "metadata": {},
   "outputs": [
    {
     "data": {
      "text/plain": [
       "(20838,)"
      ]
     },
     "execution_count": 106,
     "metadata": {},
     "output_type": "execute_result"
    }
   ],
   "source": [
    "Y_train.argmax(axis=1).shape"
   ]
  },
  {
   "cell_type": "code",
   "execution_count": 111,
   "metadata": {},
   "outputs": [],
   "source": [
    "# class wise mean of encoded features\n",
    "class_mean = {}\n",
    "class_mean[0] = X_enc[Y_train.argmax(axis=1)==0].mean(axis=0)\n",
    "class_mean[1] = X_enc[Y_train.argmax(axis=1)==1].mean(axis=0)"
   ]
  },
  {
   "cell_type": "code",
   "execution_count": 112,
   "metadata": {},
   "outputs": [
    {
     "name": "stdout",
     "output_type": "stream",
     "text": [
      "1/1 [==============================] - 0s 21ms/step\n"
     ]
    }
   ],
   "source": [
    "cf_enc = enc.predict(xf_cf)"
   ]
  },
  {
   "cell_type": "code",
   "execution_count": 114,
   "metadata": {},
   "outputs": [],
   "source": [
    "sum_inter = 0\n",
    "for i in cf_enc:\n",
    "    dist_orig = np.linalg.norm(i - class_mean[0])\n",
    "    dist_adv = np.linalg.norm(i - class_mean[1])\n",
    "    sum_inter += dist_orig / (dist_adv + 10e-10)"
   ]
  },
  {
   "cell_type": "code",
   "execution_count": 115,
   "metadata": {},
   "outputs": [
    {
     "data": {
      "text/plain": [
       "1.0966775561805018"
      ]
     },
     "execution_count": 115,
     "metadata": {},
     "output_type": "execute_result"
    }
   ],
   "source": [
    "sum_inter / cf_enc.shape[0]"
   ]
  },
  {
   "cell_type": "code",
   "execution_count": 145,
   "metadata": {},
   "outputs": [],
   "source": [
    "def casual_interpret_full(train: tuple, test: tuple, exp: dice_ml.explainer_interfaces.dice_random.DiceRandom, categorical : list, numerical : list, classes : list, k : int, **kwargs):\n",
    "    x_train, y_train = train\n",
    "    x_test, y_test = test\n",
    "    x_train_num = x_train.loc[:, numerical].astype(np.float32, copy=False)\n",
    "    x_train_cat = x_train.loc[:, categorical].copy()\n",
    "    x_min, x_max = x_train_num.min(axis=0), x_train_num.max(axis=0)\n",
    "    rng = (-1., 1.)\n",
    "    ohe = OneHotEncoder(categories='auto', sparse=False).fit(x_train_cat)\n",
    "    X_train = np.c_[ohe.transform(x_train_cat), (x_train_num - x_min) / (x_max - x_min) * (rng[1] - rng[0]) + rng[0]].astype(np.float32, copy=False)\n",
    "    X_test = np.c_[ohe.transform(x_test.loc[:, categorical]), (x_test.loc[:, numerical] - x_min) / (x_max - x_min) * (rng[1] - rng[0]) + rng[0]].astype(np.float32, copy=False)\n",
    "    Y_train = to_categorical(y_train)\n",
    "    Y_test = to_categorical(y_test)\n",
    "    def ae_model():\n",
    "        # encoder``\n",
    "        x_in = Input(shape=(29,))\n",
    "        x = Dense(60, activation='relu')(x_in)\n",
    "        x = Dense(30, activation='relu')(x)\n",
    "        x = Dense(15, activation='relu')(x)\n",
    "        encoded = Dense(10, activation=None)(x)\n",
    "        encoder = Model(x_in, encoded)\n",
    "        # decoder\n",
    "        dec_in = Input(shape=(10,))\n",
    "        x = Dense(15, activation='relu')(dec_in)\n",
    "        x = Dense(30, activation='relu')(x)\n",
    "        x = Dense(60, activation='relu')(x)\n",
    "        decoded = Dense(29, activation=None)(x)\n",
    "        decoder = Model(dec_in, decoded)\n",
    "        # autoencoder = encoder + decoder\n",
    "        x_out = decoder(encoder(x_in))\n",
    "        autoencoder = Model(x_in, x_out)\n",
    "        autoencoder.compile(optimizer='adam', loss='mse')\n",
    "        return autoencoder, encoder, decoder\n",
    "    ae, enc, dec = ae_model()\n",
    "    ae.fit(X_train, X_train, batch_size=128, epochs=10, validation_data=(X_test, X_test), verbose=1)\n",
    "    train_ce = CasualExplanations(exp, x_train, X_train, Y_train, categorical, numerical, classes, enc, ohe, x_min, x_max, rng, k, **kwargs)\n",
    "    test_ce = CasualExplanations(exp, x_test, X_test, Y_test, categorical, numerical, classes, enc, ohe, x_min, x_max, rng, k, **kwargs)\n",
    "    return train_ce, test_ce"
   ]
  },
  {
   "cell_type": "code",
   "execution_count": 146,
   "metadata": {},
   "outputs": [
    {
     "name": "stderr",
     "output_type": "stream",
     "text": [
      "d:\\Anaconda\\envs\\interpret\\lib\\site-packages\\sklearn\\preprocessing\\_encoders.py:868: FutureWarning: `sparse` was renamed to `sparse_output` in version 1.2 and will be removed in 1.4. `sparse_output` is ignored unless you leave `sparse` to its default value.\n",
      "  warnings.warn(\n"
     ]
    },
    {
     "name": "stdout",
     "output_type": "stream",
     "text": [
      "Epoch 1/10\n",
      "163/163 [==============================] - 2s 5ms/step - loss: 0.1141 - val_loss: 0.0724\n",
      "Epoch 2/10\n",
      "163/163 [==============================] - 1s 4ms/step - loss: 0.0563 - val_loss: 0.0463\n",
      "Epoch 3/10\n",
      "163/163 [==============================] - 1s 4ms/step - loss: 0.0398 - val_loss: 0.0338\n",
      "Epoch 4/10\n",
      "163/163 [==============================] - 1s 3ms/step - loss: 0.0302 - val_loss: 0.0278\n",
      "Epoch 5/10\n",
      "163/163 [==============================] - 1s 4ms/step - loss: 0.0260 - val_loss: 0.0242\n",
      "Epoch 6/10\n",
      "163/163 [==============================] - 1s 4ms/step - loss: 0.0228 - val_loss: 0.0213\n",
      "Epoch 7/10\n",
      "163/163 [==============================] - 1s 4ms/step - loss: 0.0200 - val_loss: 0.0189\n",
      "Epoch 8/10\n",
      "163/163 [==============================] - 1s 4ms/step - loss: 0.0180 - val_loss: 0.0171\n",
      "Epoch 9/10\n",
      "163/163 [==============================] - 1s 4ms/step - loss: 0.0161 - val_loss: 0.0154\n",
      "Epoch 10/10\n",
      "163/163 [==============================] - 1s 4ms/step - loss: 0.0141 - val_loss: 0.0134\n"
     ]
    },
    {
     "name": "stderr",
     "output_type": "stream",
     "text": [
      "100%|██████████| 5/5 [00:05<00:00,  1.00s/it]\n"
     ]
    },
    {
     "name": "stdout",
     "output_type": "stream",
     "text": [
      "652/652 [==============================] - 2s 2ms/step\n"
     ]
    },
    {
     "name": "stderr",
     "output_type": "stream",
     "text": [
      "100%|██████████| 5/5 [00:04<00:00,  1.03it/s]"
     ]
    },
    {
     "name": "stdout",
     "output_type": "stream",
     "text": [
      " 25/163 [===>..........................] - ETA: 0s"
     ]
    },
    {
     "name": "stderr",
     "output_type": "stream",
     "text": [
      "\n"
     ]
    },
    {
     "name": "stdout",
     "output_type": "stream",
     "text": [
      "163/163 [==============================] - 0s 2ms/step\n"
     ]
    }
   ],
   "source": [
    "train, test = casual_interpret_full((x_train, y_train), (x_test, y_test), exp, categorical, numerical, [0,1], k=10, low_limit=0, high_limit=5)"
   ]
  },
  {
   "cell_type": "code",
   "execution_count": 147,
   "metadata": {},
   "outputs": [
    {
     "data": {
      "text/plain": [
       "(1.9600000000000002, 2.08)"
      ]
     },
     "execution_count": 147,
     "metadata": {},
     "output_type": "execute_result"
    }
   ],
   "source": [
    "train.total_average_sparsity(), test.total_average_sparsity()"
   ]
  },
  {
   "cell_type": "code",
   "execution_count": 148,
   "metadata": {},
   "outputs": [
    {
     "data": {
      "text/plain": [
       "(15.620000000000001, 7.76)"
      ]
     },
     "execution_count": 148,
     "metadata": {},
     "output_type": "execute_result"
    }
   ],
   "source": [
    "train.total_average_proximity(), test.total_average_proximity()"
   ]
  },
  {
   "cell_type": "code",
   "execution_count": 149,
   "metadata": {},
   "outputs": [
    {
     "data": {
      "text/plain": [
       "(11.474, 6.066)"
      ]
     },
     "execution_count": 149,
     "metadata": {},
     "output_type": "execute_result"
    }
   ],
   "source": [
    "train.total_average_diversity(), test.total_average_diversity()"
   ]
  },
  {
   "cell_type": "code",
   "execution_count": 150,
   "metadata": {},
   "outputs": [
    {
     "name": "stdout",
     "output_type": "stream",
     "text": [
      "1/1 [==============================] - 0s 81ms/step\n",
      "1/1 [==============================] - 0s 47ms/step\n",
      "1/1 [==============================] - 0s 44ms/step\n",
      "1/1 [==============================] - 0s 46ms/step\n",
      "1/1 [==============================] - 0s 42ms/step\n",
      "1/1 [==============================] - 0s 40ms/step\n",
      "1/1 [==============================] - 0s 47ms/step\n",
      "1/1 [==============================] - 0s 40ms/step\n",
      "1/1 [==============================] - 0s 41ms/step\n",
      "1/1 [==============================] - 0s 50ms/step\n"
     ]
    },
    {
     "data": {
      "text/plain": [
       "(1.0755003293475878, 1.0866420738993248)"
      ]
     },
     "execution_count": 150,
     "metadata": {},
     "output_type": "execute_result"
    }
   ],
   "source": [
    "train.total_average_interpretability(), test.total_average_interpretability()"
   ]
  },
  {
   "cell_type": "code",
   "execution_count": null,
   "metadata": {},
   "outputs": [],
   "source": []
  }
 ],
 "metadata": {
  "kernelspec": {
   "display_name": "interpret",
   "language": "python",
   "name": "python3"
  },
  "language_info": {
   "codemirror_mode": {
    "name": "ipython",
    "version": 3
   },
   "file_extension": ".py",
   "mimetype": "text/x-python",
   "name": "python",
   "nbconvert_exporter": "python",
   "pygments_lexer": "ipython3",
   "version": "3.10.0"
  },
  "orig_nbformat": 4
 },
 "nbformat": 4,
 "nbformat_minor": 2
}
