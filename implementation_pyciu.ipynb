{
  "nbformat": 4,
  "nbformat_minor": 0,
  "metadata": {
    "colab": {
      "provenance": [],
      "authorship_tag": "ABX9TyNhnP/m5Fevsl8ZztajhaGf",
      "include_colab_link": true
    },
    "kernelspec": {
      "name": "python3",
      "display_name": "Python 3"
    },
    "language_info": {
      "name": "python"
    }
  },
  "cells": [
    {
      "cell_type": "markdown",
      "metadata": {
        "id": "view-in-github",
        "colab_type": "text"
      },
      "source": [
        "<a href=\"https://colab.research.google.com/github/Krish2208/explanability/blob/main/implementation_pyciu.ipynb\" target=\"_parent\"><img src=\"https://colab.research.google.com/assets/colab-badge.svg\" alt=\"Open In Colab\"/></a>"
      ]
    },
    {
      "cell_type": "code",
      "execution_count": 1,
      "metadata": {
        "colab": {
          "base_uri": "https://localhost:8080/"
        },
        "id": "w7OJc-8JKmE6",
        "outputId": "d73ed0e2-fc9d-436c-b9de-2c6a2295a041"
      },
      "outputs": [
        {
          "output_type": "stream",
          "name": "stdout",
          "text": [
            "Looking in indexes: https://pypi.org/simple, https://us-python.pkg.dev/colab-wheels/public/simple/\n",
            "Requirement already satisfied: py-ciu in /usr/local/lib/python3.10/dist-packages (0.1.0.3)\n",
            "Requirement already satisfied: matplotlib in /usr/local/lib/python3.10/dist-packages (from py-ciu) (3.7.1)\n",
            "Requirement already satisfied: numpy in /usr/local/lib/python3.10/dist-packages (from py-ciu) (1.22.4)\n",
            "Requirement already satisfied: pandas in /usr/local/lib/python3.10/dist-packages (from py-ciu) (1.5.3)\n",
            "Requirement already satisfied: sklearn in /usr/local/lib/python3.10/dist-packages (from py-ciu) (0.0.post5)\n",
            "Requirement already satisfied: xgboost in /usr/local/lib/python3.10/dist-packages (from py-ciu) (1.7.5)\n",
            "Requirement already satisfied: scikit-learn in /usr/local/lib/python3.10/dist-packages (from py-ciu) (1.2.2)\n",
            "Requirement already satisfied: contourpy>=1.0.1 in /usr/local/lib/python3.10/dist-packages (from matplotlib->py-ciu) (1.0.7)\n",
            "Requirement already satisfied: cycler>=0.10 in /usr/local/lib/python3.10/dist-packages (from matplotlib->py-ciu) (0.11.0)\n",
            "Requirement already satisfied: fonttools>=4.22.0 in /usr/local/lib/python3.10/dist-packages (from matplotlib->py-ciu) (4.39.3)\n",
            "Requirement already satisfied: kiwisolver>=1.0.1 in /usr/local/lib/python3.10/dist-packages (from matplotlib->py-ciu) (1.4.4)\n",
            "Requirement already satisfied: packaging>=20.0 in /usr/local/lib/python3.10/dist-packages (from matplotlib->py-ciu) (23.1)\n",
            "Requirement already satisfied: pillow>=6.2.0 in /usr/local/lib/python3.10/dist-packages (from matplotlib->py-ciu) (8.4.0)\n",
            "Requirement already satisfied: pyparsing>=2.3.1 in /usr/local/lib/python3.10/dist-packages (from matplotlib->py-ciu) (3.0.9)\n",
            "Requirement already satisfied: python-dateutil>=2.7 in /usr/local/lib/python3.10/dist-packages (from matplotlib->py-ciu) (2.8.2)\n",
            "Requirement already satisfied: pytz>=2020.1 in /usr/local/lib/python3.10/dist-packages (from pandas->py-ciu) (2022.7.1)\n",
            "Requirement already satisfied: scipy>=1.3.2 in /usr/local/lib/python3.10/dist-packages (from scikit-learn->py-ciu) (1.10.1)\n",
            "Requirement already satisfied: joblib>=1.1.1 in /usr/local/lib/python3.10/dist-packages (from scikit-learn->py-ciu) (1.2.0)\n",
            "Requirement already satisfied: threadpoolctl>=2.0.0 in /usr/local/lib/python3.10/dist-packages (from scikit-learn->py-ciu) (3.1.0)\n",
            "Requirement already satisfied: six>=1.5 in /usr/local/lib/python3.10/dist-packages (from python-dateutil>=2.7->matplotlib->py-ciu) (1.16.0)\n"
          ]
        }
      ],
      "source": [
        "!pip install py-ciu"
      ]
    },
    {
      "cell_type": "code",
      "source": [
        "import pandas as pd\n",
        "import numpy as np\n",
        "import sklearn\n",
        "import sklearn.cluster\n",
        "import warnings\n",
        "warnings.filterwarnings('ignore')\n",
        "import matplotlib.pyplot as plt\n",
        "import random\n",
        "from ciu import determine_ciu"
      ],
      "metadata": {
        "id": "Jd_c3lzIKmtZ"
      },
      "execution_count": 2,
      "outputs": []
    },
    {
      "cell_type": "code",
      "source": [
        "df_train =  pd.read_csv('/content/data/train.csv')\n",
        "df_test = pd.read_csv('/content/data/test.csv')\n",
        "\n",
        "df_train.income = df_train.income.map({'<=50K':0, '>50K':1})\n",
        "df_test.income = df_test.income.map({'<=50K':0, '>50K':1})"
      ],
      "metadata": {
        "id": "WxVSqoTQSo8O"
      },
      "execution_count": 3,
      "outputs": []
    },
    {
      "cell_type": "code",
      "source": [
        "le = sklearn.preprocessing.LabelEncoder()\n",
        "for col in df_train.columns:\n",
        "    if df_train[col].dtype == 'object':\n",
        "        le.fit(df_train[col])\n",
        "        df_train[col] = le.transform(df_train[col])\n",
        "        df_test[col] = le.transform(df_test[col])"
      ],
      "metadata": {
        "id": "49yhEpqST6h5"
      },
      "execution_count": 4,
      "outputs": []
    },
    {
      "cell_type": "code",
      "source": [
        "random_state = 39\n",
        "exp_iter = 10\n",
        "random.seed(random_state)\n",
        "\n",
        "#Get datasets\n",
        "X_train = df_train.drop('income', axis=1)\n",
        "y_train = df_train.income\n",
        "X_test = df_test.drop('income', axis=1)\n",
        "y_test = df_test.income\n",
        "test_x = X_test.values\n",
        "n_classes = len(np.unique(y_train))\n",
        "feat_list = [each.replace(' ','_') for each in X_train.columns]\n",
        "X = np.vstack((X_train.values, test_x))"
      ],
      "metadata": {
        "id": "j3nd0QzLT7mO"
      },
      "execution_count": 5,
      "outputs": []
    },
    {
      "cell_type": "code",
      "source": [
        "from sklearn.ensemble import RandomForestClassifier\n",
        "\n",
        "model = RandomForestClassifier(n_estimators=100)\n",
        "model.fit(X_train, y_train)"
      ],
      "metadata": {
        "colab": {
          "base_uri": "https://localhost:8080/",
          "height": 74
        },
        "id": "vfLLnPHrT8rR",
        "outputId": "02249ee6-4113-4ecc-b55a-16305ae672e1"
      },
      "execution_count": 6,
      "outputs": [
        {
          "output_type": "execute_result",
          "data": {
            "text/plain": [
              "RandomForestClassifier()"
            ],
            "text/html": [
              "<style>#sk-container-id-1 {color: black;background-color: white;}#sk-container-id-1 pre{padding: 0;}#sk-container-id-1 div.sk-toggleable {background-color: white;}#sk-container-id-1 label.sk-toggleable__label {cursor: pointer;display: block;width: 100%;margin-bottom: 0;padding: 0.3em;box-sizing: border-box;text-align: center;}#sk-container-id-1 label.sk-toggleable__label-arrow:before {content: \"▸\";float: left;margin-right: 0.25em;color: #696969;}#sk-container-id-1 label.sk-toggleable__label-arrow:hover:before {color: black;}#sk-container-id-1 div.sk-estimator:hover label.sk-toggleable__label-arrow:before {color: black;}#sk-container-id-1 div.sk-toggleable__content {max-height: 0;max-width: 0;overflow: hidden;text-align: left;background-color: #f0f8ff;}#sk-container-id-1 div.sk-toggleable__content pre {margin: 0.2em;color: black;border-radius: 0.25em;background-color: #f0f8ff;}#sk-container-id-1 input.sk-toggleable__control:checked~div.sk-toggleable__content {max-height: 200px;max-width: 100%;overflow: auto;}#sk-container-id-1 input.sk-toggleable__control:checked~label.sk-toggleable__label-arrow:before {content: \"▾\";}#sk-container-id-1 div.sk-estimator input.sk-toggleable__control:checked~label.sk-toggleable__label {background-color: #d4ebff;}#sk-container-id-1 div.sk-label input.sk-toggleable__control:checked~label.sk-toggleable__label {background-color: #d4ebff;}#sk-container-id-1 input.sk-hidden--visually {border: 0;clip: rect(1px 1px 1px 1px);clip: rect(1px, 1px, 1px, 1px);height: 1px;margin: -1px;overflow: hidden;padding: 0;position: absolute;width: 1px;}#sk-container-id-1 div.sk-estimator {font-family: monospace;background-color: #f0f8ff;border: 1px dotted black;border-radius: 0.25em;box-sizing: border-box;margin-bottom: 0.5em;}#sk-container-id-1 div.sk-estimator:hover {background-color: #d4ebff;}#sk-container-id-1 div.sk-parallel-item::after {content: \"\";width: 100%;border-bottom: 1px solid gray;flex-grow: 1;}#sk-container-id-1 div.sk-label:hover label.sk-toggleable__label {background-color: #d4ebff;}#sk-container-id-1 div.sk-serial::before {content: \"\";position: absolute;border-left: 1px solid gray;box-sizing: border-box;top: 0;bottom: 0;left: 50%;z-index: 0;}#sk-container-id-1 div.sk-serial {display: flex;flex-direction: column;align-items: center;background-color: white;padding-right: 0.2em;padding-left: 0.2em;position: relative;}#sk-container-id-1 div.sk-item {position: relative;z-index: 1;}#sk-container-id-1 div.sk-parallel {display: flex;align-items: stretch;justify-content: center;background-color: white;position: relative;}#sk-container-id-1 div.sk-item::before, #sk-container-id-1 div.sk-parallel-item::before {content: \"\";position: absolute;border-left: 1px solid gray;box-sizing: border-box;top: 0;bottom: 0;left: 50%;z-index: -1;}#sk-container-id-1 div.sk-parallel-item {display: flex;flex-direction: column;z-index: 1;position: relative;background-color: white;}#sk-container-id-1 div.sk-parallel-item:first-child::after {align-self: flex-end;width: 50%;}#sk-container-id-1 div.sk-parallel-item:last-child::after {align-self: flex-start;width: 50%;}#sk-container-id-1 div.sk-parallel-item:only-child::after {width: 0;}#sk-container-id-1 div.sk-dashed-wrapped {border: 1px dashed gray;margin: 0 0.4em 0.5em 0.4em;box-sizing: border-box;padding-bottom: 0.4em;background-color: white;}#sk-container-id-1 div.sk-label label {font-family: monospace;font-weight: bold;display: inline-block;line-height: 1.2em;}#sk-container-id-1 div.sk-label-container {text-align: center;}#sk-container-id-1 div.sk-container {/* jupyter's `normalize.less` sets `[hidden] { display: none; }` but bootstrap.min.css set `[hidden] { display: none !important; }` so we also need the `!important` here to be able to override the default hidden behavior on the sphinx rendered scikit-learn.org. See: https://github.com/scikit-learn/scikit-learn/issues/21755 */display: inline-block !important;position: relative;}#sk-container-id-1 div.sk-text-repr-fallback {display: none;}</style><div id=\"sk-container-id-1\" class=\"sk-top-container\"><div class=\"sk-text-repr-fallback\"><pre>RandomForestClassifier()</pre><b>In a Jupyter environment, please rerun this cell to show the HTML representation or trust the notebook. <br />On GitHub, the HTML representation is unable to render, please try loading this page with nbviewer.org.</b></div><div class=\"sk-container\" hidden><div class=\"sk-item\"><div class=\"sk-estimator sk-toggleable\"><input class=\"sk-toggleable__control sk-hidden--visually\" id=\"sk-estimator-id-1\" type=\"checkbox\" checked><label for=\"sk-estimator-id-1\" class=\"sk-toggleable__label sk-toggleable__label-arrow\">RandomForestClassifier</label><div class=\"sk-toggleable__content\"><pre>RandomForestClassifier()</pre></div></div></div></div></div>"
            ]
          },
          "metadata": {},
          "execution_count": 6
        }
      ]
    },
    {
      "cell_type": "code",
      "source": [
        "income_ciu = determine_ciu(\n",
        "    X_test.iloc[10:11],\n",
        "    model.predict_proba,\n",
        "    X_train.to_dict('list'),\n",
        "    samples = 1000,\n",
        "    prediction_index = 1\n",
        ")"
      ],
      "metadata": {
        "id": "nIbymIaDUEWq"
      },
      "execution_count": 7,
      "outputs": []
    },
    {
      "cell_type": "code",
      "source": [
        "type(income_ciu.ci)"
      ],
      "metadata": {
        "colab": {
          "base_uri": "https://localhost:8080/"
        },
        "id": "3U_qVbXRXE2d",
        "outputId": "0fd5ba67-2835-40a9-e7c3-2af56d62c35c"
      },
      "execution_count": 8,
      "outputs": [
        {
          "output_type": "execute_result",
          "data": {
            "text/plain": [
              "dict"
            ]
          },
          "metadata": {},
          "execution_count": 8
        }
      ]
    },
    {
      "cell_type": "code",
      "source": [
        "def exp_fn_blk(xtest):\n",
        "    exp1 = []\n",
        "    for i in range(len(xtest)):\n",
        "        exp = determine_ciu(X_test.iloc[i:i+1], model.predict_proba, X_train.to_dict('list'), samples = 1000, prediction_index = 1)\n",
        "        exp_list = [[feat_list.index(i), exp.ci[i]] for i in exp.ci]\n",
        "        exp1.append(exp_list)\n",
        "    return np.array(exp1)"
      ],
      "metadata": {
        "id": "WwK0_-cEXGtA"
      },
      "execution_count": 9,
      "outputs": []
    },
    {
      "cell_type": "code",
      "source": [
        "exp1 = exp_fn_blk(X_test[:100])\n",
        "exp2 = exp_fn_blk(X_test[:100])"
      ],
      "metadata": {
        "id": "vaz3eu--andi"
      },
      "execution_count": 10,
      "outputs": []
    },
    {
      "cell_type": "code",
      "source": [
        "def calc_identity(exp1, exp2):\n",
        "    dis = np.array([np.array_equal(exp1[i],exp2[i]) for i in range(len(exp1))])\n",
        "    total = dis.shape[0]\n",
        "    true = np.sum(dis)\n",
        "    score = (total-true)/total\n",
        "    return score*100, true, total\n",
        "\n",
        "def calc_separability(exp):\n",
        "    wrong = 0\n",
        "    for i in range(exp.shape[0]):\n",
        "        for j in range(exp.shape[0]):\n",
        "            if i == j:\n",
        "                continue\n",
        "            eq = np.array_equal(exp[i],exp[j])\n",
        "            if eq:\n",
        "                wrong = wrong + 1\n",
        "    total = exp.shape[0]\n",
        "    score = 100*abs(wrong)/total**2\n",
        "    return wrong,total,total**2,score\n",
        "\n",
        "def calc_stability(exp, labels):\n",
        "    total = labels.shape[0]\n",
        "    label_values = np.unique(labels)\n",
        "    n_clusters = label_values.shape[0]\n",
        "    init = np.array([[np.average(exp[np.where(labels == i)], axis = 0)] for i in label_values]).squeeze()\n",
        "    ct = sklearn.cluster.KMeans(n_clusters = n_clusters, random_state=1, n_init=10, init = init)\n",
        "    ct.fit(exp)\n",
        "    error = np.sum(np.abs(labels-ct.labels_))\n",
        "    if error/total > 0.5:\n",
        "        error = total-error\n",
        "    return error, total"
      ],
      "metadata": {
        "id": "l-YP1yaQawnj"
      },
      "execution_count": 11,
      "outputs": []
    },
    {
      "cell_type": "code",
      "source": [
        "i = calc_identity(exp1,exp2)\n",
        "print(i)\n",
        "\n",
        "s = calc_separability(test_x[:100])\n",
        "print(s)\n",
        "\n",
        "def enc_exp(exp, feature_num):\n",
        "    enc_exp = np.zeros((len(exp),feature_num))\n",
        "    for i in range(len(exp)):\n",
        "        for j in range(len(exp[i])):\n",
        "            enc_exp[i][int(exp[i,j,0])] = exp[i,j,1]\n",
        "    return enc_exp\n",
        "\n",
        "enc1 = enc_exp(exp1, len(feat_list))\n",
        "sb = calc_stability(enc1, y_test[:100])\n",
        "print(sb)"
      ],
      "metadata": {
        "colab": {
          "base_uri": "https://localhost:8080/"
        },
        "id": "KE6gNi2Tbnu5",
        "outputId": "202f936b-a59f-4cc8-e05a-52586ed03ec6"
      },
      "execution_count": 12,
      "outputs": [
        {
          "output_type": "stream",
          "name": "stdout",
          "text": [
            "(49.0, 51, 100)\n",
            "(0, 100, 10000, 0.0)\n",
            "(32, 100)\n"
          ]
        }
      ]
    },
    {
      "cell_type": "code",
      "source": [
        "import numpy as np\n",
        "import scipy\n",
        "from sklearn.metrics import log_loss\n",
        "\n",
        "class FeatureAttribution:\n",
        "    def __init__(self, model, inst, y, sorted_atr):\n",
        "        self.model = model\n",
        "        self.inst = inst\n",
        "        self.y = y\n",
        "        self.sorted_atr = sorted_atr\n",
        "        self.losses = []\n",
        "        self.atr_values = []\n",
        "\n",
        "    def monotonicity(self):\n",
        "        losses = []\n",
        "        atr_values = []\n",
        "        for i in range(len(self.sorted_atr)):\n",
        "            atr = self.sorted_atr[i]\n",
        "            new_inst = np.copy(self.inst)\n",
        "            np.put(new_inst, i, -1)\n",
        "            loss = log_loss(self.y, self.model.predict_proba(new_inst.reshape(1, -1))[0])\n",
        "            losses.append(loss)\n",
        "            atr_values.append(abs(atr))\n",
        "        self.losses = losses\n",
        "        self.atr_values = atr_values\n",
        "        monotonicity = scipy.stats.spearmanr(losses, atr_values).correlation\n",
        "        return monotonicity\n",
        "\n",
        "    def non_sensitivity(self):\n",
        "        loss_zeros = set([i for i in range(len(self.losses)) if self.losses[i] == 0])\n",
        "        atr_zeros = set([i for i in range(len(self.atr_values)) if self.atr_values[i] == 0])\n",
        "        non_sensitivity = len(loss_zeros.symmetric_difference(atr_zeros))\n",
        "        return non_sensitivity\n",
        "    \n",
        "    def effective_complexity(self, sorted_feat, threshold):\n",
        "        min_k = 0\n",
        "        threshold = 0.1\n",
        "        for i in range(len(sorted_feat)):\n",
        "            new_inst = np.copy(self.inst)\n",
        "            for j in range(i+1, len(sorted_feat)):\n",
        "                np.put(new_inst, sorted_feat[j], -1)\n",
        "            loss = log_loss(self.y, self.model.predict_proba(new_inst.reshape(1, -1))[0])\n",
        "            if loss < threshold:\n",
        "                min_k = i+1\n",
        "        return min_k"
      ],
      "metadata": {
        "id": "oXKddbdkdGL3"
      },
      "execution_count": 13,
      "outputs": []
    },
    {
      "cell_type": "code",
      "source": [
        "list_monotonicity = []\n",
        "list_non_sensitivity = []\n",
        "list_effective_complexity = []\n",
        "\n",
        "for i in range(len(test_x[:100])):\n",
        "    atr = np.array(sorted(exp1[i], key=lambda x: x[1], reverse=True))\n",
        "    sorted_atr = [j for i,j in atr]\n",
        "    sorted_feat = [i for i,j in atr]\n",
        "    y = np.zeros(n_classes, dtype=int)\n",
        "    np.put(y, y_test[i], 1)\n",
        "    example = FeatureAttribution(model, test_x[i], y, sorted_atr)\n",
        "    list_monotonicity.append(example.monotonicity())\n",
        "    list_non_sensitivity.append(example.non_sensitivity())\n",
        "    list_effective_complexity.append(example.effective_complexity(sorted_feat, 0.1))"
      ],
      "metadata": {
        "id": "DwS2HlgCd6pC"
      },
      "execution_count": 14,
      "outputs": []
    },
    {
      "cell_type": "code",
      "source": [
        "print(np.mean(list_monotonicity))\n",
        "print(np.mean(list_non_sensitivity))\n",
        "print(np.mean(list_effective_complexity))\n",
        "\n",
        "print(np.median(list_monotonicity))\n",
        "print(np.median(list_non_sensitivity))\n",
        "print(np.median(list_effective_complexity))"
      ],
      "metadata": {
        "colab": {
          "base_uri": "https://localhost:8080/"
        },
        "id": "BYhK1tqceq8k",
        "outputId": "f98ce121-957f-4ad2-fae5-2a6dc70f2a64"
      },
      "execution_count": 15,
      "outputs": [
        {
          "output_type": "stream",
          "name": "stdout",
          "text": [
            "0.017875652004764493\n",
            "0.93\n",
            "10.31\n",
            "0.048227615025518505\n",
            "0.0\n",
            "14.0\n"
          ]
        }
      ]
    },
    {
      "cell_type": "code",
      "source": [],
      "metadata": {
        "id": "60fpubM8ewvl"
      },
      "execution_count": 15,
      "outputs": []
    }
  ]
}